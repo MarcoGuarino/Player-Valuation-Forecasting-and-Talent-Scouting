{
 "cells": [
  {
   "attachments": {},
   "cell_type": "markdown",
   "metadata": {},
   "source": [
    "# **Task 2**\n",
    "**Clustering**: In task 2 a new dataset will be introduced. The new dataset will be partially merged with the one obtained in feature engineering and preprocessing. The goal will be to create clusters made up of players with similar characteristics. The final partition will be used to scout young talents."
   ]
  },
  {
   "attachments": {},
   "cell_type": "markdown",
   "metadata": {},
   "source": [
    "Imported libraries"
   ]
  },
  {
   "cell_type": "code",
   "execution_count": 1,
   "metadata": {},
   "outputs": [],
   "source": [
    "import pyspark\n",
    "from pyspark.sql import *\n",
    "from pyspark.sql.types import *\n",
    "from pyspark.sql.functions import *\n",
    "from pyspark import SparkContext, SparkConf\n",
    "import numpy as np\n",
    "from pyspark.sql.functions import udf\n",
    "from pyspark.sql.types import BinaryType\n",
    "from pyspark.sql import SparkSession\n",
    "from pyspark.conf import SparkConf\n",
    "from pyspark.ml.feature import *\n",
    "from pyspark.ml.clustering import KMeans\n",
    "from pyspark.ml.evaluation import ClusteringEvaluator\n",
    "import matplotlib.pyplot as plt\n"
   ]
  },
  {
   "attachments": {},
   "cell_type": "markdown",
   "metadata": {},
   "source": [
    "Creating the pyspark session"
   ]
  },
  {
   "cell_type": "code",
   "execution_count": 2,
   "metadata": {},
   "outputs": [
    {
     "data": {
      "text/plain": [
       "[('spark.driver.extraJavaOptions',\n",
       "  '-XX:+IgnoreUnrecognizedVMOptions --add-opens=java.base/java.lang=ALL-UNNAMED --add-opens=java.base/java.lang.invoke=ALL-UNNAMED --add-opens=java.base/java.lang.reflect=ALL-UNNAMED --add-opens=java.base/java.io=ALL-UNNAMED --add-opens=java.base/java.net=ALL-UNNAMED --add-opens=java.base/java.nio=ALL-UNNAMED --add-opens=java.base/java.util=ALL-UNNAMED --add-opens=java.base/java.util.concurrent=ALL-UNNAMED --add-opens=java.base/java.util.concurrent.atomic=ALL-UNNAMED --add-opens=java.base/sun.nio.ch=ALL-UNNAMED --add-opens=java.base/sun.nio.cs=ALL-UNNAMED --add-opens=java.base/sun.security.action=ALL-UNNAMED --add-opens=java.base/sun.util.calendar=ALL-UNNAMED --add-opens=java.security.jgss/sun.security.krb5=ALL-UNNAMED'),\n",
       " ('spark.app.submitTime', '1684752748530'),\n",
       " ('spark.executor.memory', '15G'),\n",
       " ('spark.driver.host', 'MarcoPC.homenet.telecomitalia.it'),\n",
       " ('spark.executor.id', 'driver'),\n",
       " ('spark.driver.memory', '50G'),\n",
       " ('spark.executor.cores', '10'),\n",
       " ('spark.app.name', 'PySparkProject'),\n",
       " ('spark.app.startTime', '1684752748736'),\n",
       " ('spark.ui.port', '4050'),\n",
       " ('spark.app.id', 'local-1684752749610'),\n",
       " ('spark.driver.maxResultSize', '40G'),\n",
       " ('spark.rdd.compress', 'True'),\n",
       " ('spark.executor.extraJavaOptions',\n",
       "  '-XX:+IgnoreUnrecognizedVMOptions --add-opens=java.base/java.lang=ALL-UNNAMED --add-opens=java.base/java.lang.invoke=ALL-UNNAMED --add-opens=java.base/java.lang.reflect=ALL-UNNAMED --add-opens=java.base/java.io=ALL-UNNAMED --add-opens=java.base/java.net=ALL-UNNAMED --add-opens=java.base/java.nio=ALL-UNNAMED --add-opens=java.base/java.util=ALL-UNNAMED --add-opens=java.base/java.util.concurrent=ALL-UNNAMED --add-opens=java.base/java.util.concurrent.atomic=ALL-UNNAMED --add-opens=java.base/sun.nio.ch=ALL-UNNAMED --add-opens=java.base/sun.nio.cs=ALL-UNNAMED --add-opens=java.base/sun.security.action=ALL-UNNAMED --add-opens=java.base/sun.util.calendar=ALL-UNNAMED --add-opens=java.security.jgss/sun.security.krb5=ALL-UNNAMED'),\n",
       " ('spark.serializer.objectStreamReset', '100'),\n",
       " ('spark.master', 'local[*]'),\n",
       " ('spark.driver.port', '62752'),\n",
       " ('spark.submit.pyFiles', ''),\n",
       " ('spark.submit.deployMode', 'client'),\n",
       " ('spark.ui.showConsoleProgress', 'true')]"
      ]
     },
     "execution_count": 2,
     "metadata": {},
     "output_type": "execute_result"
    }
   ],
   "source": [
    "# Create the session\n",
    "conf = SparkConf(). \\\n",
    "    set('spark.ui.port', \"4050\"). \\\n",
    "    set('spark.executor.memory', '15G'). \\\n",
    "    set('spark.driver.memory', '50G'). \\\n",
    "    set('spark.driver.maxResultSize', '40G'). \\\n",
    "    setAppName(\"PySparkProject\"). \\\n",
    "    set('spark.executor.cores', \"10\"). \\\n",
    "    setMaster(\"local[*]\")\n",
    "\n",
    "sc = pyspark.SparkContext.getOrCreate(conf=conf)\n",
    "spark = SparkSession.builder.getOrCreate()\n",
    "\n",
    "sc._conf.getAll()"
   ]
  },
  {
   "attachments": {},
   "cell_type": "markdown",
   "metadata": {},
   "source": [
    "## **Work on dataset begins**"
   ]
  },
  {
   "attachments": {},
   "cell_type": "markdown",
   "metadata": {},
   "source": [
    "Loading the new dataset and the dataset obtained from feature_engineering.ipynb"
   ]
  },
  {
   "cell_type": "code",
   "execution_count": 3,
   "metadata": {},
   "outputs": [],
   "source": [
    "# Load cvs fifa23 dataset files pyspark\n",
    "df = spark.read.csv(\"C:/Users/marco/Desktop/male_players.csv\", header=True, inferSchema=True)"
   ]
  },
  {
   "cell_type": "code",
   "execution_count": 4,
   "metadata": {},
   "outputs": [],
   "source": [
    "# Load csv dataset, obtained from the feature engineering and econdinf process\n",
    "df_ = spark.read.csv(\"dataset.csv\", header=True, inferSchema=True)"
   ]
  },
  {
   "attachments": {},
   "cell_type": "markdown",
   "metadata": {},
   "source": [
    "### **Pre Processing Phase**"
   ]
  },
  {
   "cell_type": "code",
   "execution_count": 5,
   "metadata": {},
   "outputs": [],
   "source": [
    "# Drop some df_ columns that are not useful for the task\n",
    "df_ = df_.drop(\"clubs_id_binary\", \"competitions_id_binary\", \"sub_position_binary\", \"position_binary\", \"citizenship_encoded_binary\", \"current_club_id_binary\", \"winning_rate_club\", \"winning_rate_pl\", \"games_lost_pl\",\n",
    "         \"games_draw_pl\", \"games_won_pl\", \"appearances\", \"yellow_cards\", \"red_cards\", \"minutes_played\", \"goals\", \"assists\", \"height\", \"age\", \"market_value\", )"
   ]
  },
  {
   "attachments": {},
   "cell_type": "markdown",
   "metadata": {},
   "source": [
    "Filtering the dataset df_ : It must be composed by the instances whose date_v is in 2022. "
   ]
  },
  {
   "cell_type": "code",
   "execution_count": 6,
   "metadata": {},
   "outputs": [],
   "source": [
    "# delete the instances from df_ in which date_v is not in the year 2022\n",
    "df_ = df_.filter(year(df_.date_v) == \"2022\")"
   ]
  },
  {
   "attachments": {},
   "cell_type": "markdown",
   "metadata": {},
   "source": [
    "Multiplying the player_id to return to the original value"
   ]
  },
  {
   "cell_type": "code",
   "execution_count": 7,
   "metadata": {},
   "outputs": [],
   "source": [
    "# multiply the player_id by 100000\n",
    "df_ = df_.withColumn(\"player_id\", df_.player_id * 100000)\n",
    "# convert player_id to int (without decimal places)\n",
    "df_ = df_.withColumn(\"player_id\", df_.player_id.cast(IntegerType()))"
   ]
  },
  {
   "attachments": {},
   "cell_type": "markdown",
   "metadata": {},
   "source": [
    "Filtering the dataset df_ : for each player must be remain only the instance with date_v closest to 2022-06-15"
   ]
  },
  {
   "cell_type": "code",
   "execution_count": 8,
   "metadata": {},
   "outputs": [],
   "source": [
    "# Define the reference date as \"2022-06-15\" using lit\n",
    "target_date = lit(\"2022-06-15\").cast(\"date\")\n",
    "\n",
    "# Compute the difference in days between date_v and the reference date\n",
    "df_with_diff = df_.withColumn(\"date_diff\", when(col(\"date_v\") > target_date, col(\"date_v\") - target_date)\n",
    "                                 .otherwise(target_date - col(\"date_v\")))\n",
    "\n",
    "# Find the closest date to \"2022-06-15\" for each player_id\n",
    "closest_date = df_with_diff.groupBy(\"player_id\").agg(min(\"date_diff\").alias(\"min_date_diff\"))\n",
    "\n",
    "# Join the original DataFrame with the DataFrame of the closest dates\n",
    "df_ = df_with_diff.join(closest_date, on=[\"player_id\"]).where(col(\"date_diff\") == col(\"min_date_diff\"))\n",
    "\n",
    "# Remove the date_diff column if it is not necessary\n",
    "df_ = df_.drop(\"date_diff\", \"min_date_diff\")"
   ]
  },
  {
   "cell_type": "code",
   "execution_count": 9,
   "metadata": {},
   "outputs": [],
   "source": [
    "# Remove (player_id, date_v) duplicates\n",
    "df_ = df_.dropDuplicates([\"player_id\", \"date_v\"])"
   ]
  },
  {
   "attachments": {},
   "cell_type": "markdown",
   "metadata": {},
   "source": [
    "Removing the player_id with last_valuation equal to 0 (if their last_valuation is 0, they are probably not present in the fifa23players dataset)\n"
   ]
  },
  {
   "cell_type": "code",
   "execution_count": 10,
   "metadata": {},
   "outputs": [],
   "source": [
    "# remove the player_id with last_valuation equal to 0\n",
    "df_ = df_.filter(df_.last_valuation != 0)"
   ]
  },
  {
   "attachments": {},
   "cell_type": "markdown",
   "metadata": {},
   "source": [
    "Through the player_id key we get information about the players contained in player_id"
   ]
  },
  {
   "cell_type": "code",
   "execution_count": 11,
   "metadata": {},
   "outputs": [],
   "source": [
    "# Load the cvs players to obtain some crucial information for the merge\n",
    "df_players = spark.read.csv(\"archive/players.csv\", header=True, inferSchema=True)"
   ]
  },
  {
   "cell_type": "code",
   "execution_count": 12,
   "metadata": {},
   "outputs": [],
   "source": [
    "# join the two datasets on player_id\n",
    "df_ = df_.join(df_players, on=[\"player_id\"])"
   ]
  },
  {
   "cell_type": "code",
   "execution_count": 13,
   "metadata": {},
   "outputs": [],
   "source": [
    "# drop some columns that are not useful for the task\n",
    "df_ = df_.drop(\"current_club_id\", \"current_club_name\", \"country_of_birth\", \"city_of_birth\", \"foot\", \"height_in_cm\", \"market_value_in_eur\", \"highest_market_value_in_eur\", \"agent_name\", \"contract_expiration_date\", \"current_club_domestic_competition_id\", \"player_code\", \"image_url\", \"last_season\", \"url\")"
   ]
  },
  {
   "cell_type": "code",
   "execution_count": 14,
   "metadata": {},
   "outputs": [],
   "source": [
    "# select only the fifa_version == 23\n",
    "df = df.filter(df.fifa_version == 23)"
   ]
  },
  {
   "cell_type": "code",
   "execution_count": 15,
   "metadata": {},
   "outputs": [],
   "source": [
    "# select only the fifa_update == 1\n",
    "df = df.filter(df.fifa_update == 1)"
   ]
  },
  {
   "cell_type": "code",
   "execution_count": 16,
   "metadata": {},
   "outputs": [],
   "source": [
    "# drop duplicates on player_id\n",
    "df = df.dropDuplicates([\"player_id\"])"
   ]
  },
  {
   "attachments": {},
   "cell_type": "markdown",
   "metadata": {},
   "source": [
    "We have to drop some not very useful features:\n",
    " |-- ls: string (nullable = true)\n",
    " |-- st: string (nullable = true)\n",
    " |-- rs: string (nullable = true)\n",
    " |-- lw: string (nullable = true)\n",
    " |-- lf: string (nullable = true)\n",
    " |-- cf: string (nullable = true)\n",
    " |-- rf: string (nullable = true)\n",
    " |-- rw: string (nullable = true)\n",
    " |-- lam: string (nullable = true)\n",
    " |-- cam: string (nullable = true)\n",
    " |-- ram: string (nullable = true)\n",
    " |-- lm: string (nullable = true)\n",
    " |-- lcm: string (nullable = true)\n",
    " |-- cm: string (nullable = true)\n",
    " |-- rcm: string (nullable = true)\n",
    " |-- rm: string (nullable = true)\n",
    " |-- lwb: string (nullable = true)\n",
    " |-- ldm: string (nullable = true)\n",
    " |-- cdm: string (nullable = true)\n",
    " |-- rdm: string (nullable = true)\n",
    " |-- rwb: string (nullable = true)\n",
    " |-- lb: string (nullable = true)\n",
    " |-- lcb: string (nullable = true)\n",
    " |-- cb: string (nullable = true)\n",
    " |-- rcb: string (nullable = true)\n",
    " |-- rb: string (nullable = true)\n",
    " |-- gk: string (nullable = true)\n",
    " |-- player_face_url: string (nullable = true)\n",
    " |-- body_type: string (nullable = true)\n",
    " |-- real_face: string (nullable = true)\n",
    " |-- release_clause_eur: integer (nullable = true)\n",
    " |-- player_tags: string (nullable = true)\n",
    " |-- player_traits: string (nullable = true)\n",
    "|-- international_reputation: integer (nullable = true)\n",
    " |-- club_jersey_number: integer (nullable = true)\n",
    " |-- club_loaned_from: string (nullable = true)\n",
    " |-- club_joined_date: date (nullable = true)\n",
    " |-- club_contract_valid_until_year: integer (nullable = true)\n",
    " |-- nationality_id: integer (nullable = true)\n",
    " |-- nationality_name: string (nullable = true)\n",
    " |-- nation_team_id: integer (nullable = true)\n",
    " |-- nation_position: string (nullable = true)\n",
    " |-- nation_jersey_number: integer (nullable = true)\n",
    " |-- league_id: integer (nullable = true)\n",
    " |-- league_name: string (nullable = true)\n",
    " |-- league_level: integer (nullable = true)\n",
    " |-- club_team_id: integer (nullable = true)\n",
    " |-- club_name: string (nullable = true)\n",
    " |-- club_position: string (nullable = true)\n",
    " |-- potential: integer (nullable = true)\n",
    " |-- value_eur: integer (nullable = true)\n",
    " |-- wage_eur: integer (nullable = true)\n",
    " |-- age: integer (nullable = true)\n",
    " |-- player_positions: string (nullable = true)\n",
    " |-- player_id: integer (nullable = true)\n",
    " |-- player_url: string (nullable = true)\n",
    " |-- fifa_version: integer (nullable = true)\n",
    " |-- fifa_update: integer (nullable = true)\n",
    " |-- fifa_update_date: date (nullable = true)"
   ]
  },
  {
   "cell_type": "code",
   "execution_count": 19,
   "metadata": {},
   "outputs": [],
   "source": [
    "import re\n",
    "str = \"|-- ls: string (nullable = true)|-- st: string (nullable = true)|-- rs: string (nullable = true)|-- lw: string (nullable = true)|-- lf: string (nullable = true)|-- cf: string (nullable = true)|-- rf: string (nullable = true)|-- rw: string (nullable = true)|-- lam: string (nullable = true)|-- cam: string (nullable = true)|-- ram: string (nullable = true)|-- lm: string (nullable = true)|-- lcm: string (nullable = true)|-- cm: string (nullable = true)|-- rcm: string (nullable = true)|-- rm: string (nullable = true)|-- lwb: string (nullable = true)|-- ldm: string (nullable = true)|-- cdm: string (nullable = true)|-- rdm: string (nullable = true)|-- rwb: string (nullable = true)|-- lb: string (nullable = true)|-- lcb: string (nullable = true)|-- cb: string (nullable = true)|-- rcb: string (nullable = true)|-- rb: string (nullable = true)|-- gk: string (nullable = true)|-- player_face_url: string (nullable = true)|-- body_type: string (nullable = true)|-- real_face: string (nullable = true)|-- release_clause_eur: integer (nullable = true)|-- player_tags: string (nullable = true)|-- player_traits: string (nullable = true)|-- international_reputation: integer (nullable = true)|-- club_jersey_number: integer (nullable = true)|-- club_loaned_from: string (nullable = true)|-- club_joined_date: date (nullable = true)|-- club_contract_valid_until_year: integer (nullable = true)|-- nationality_id: integer (nullable = true)|-- nation_team_id: integer (nullable = true)|-- nation_position: string (nullable = true)|-- nation_jersey_number: integer (nullable = true)|-- league_id: integer (nullable = true)|-- league_name: string (nullable = true)|-- league_level: integer (nullable = true)|-- club_team_id: integer (nullable = true)|-- club_name: string (nullable = true)|-- club_position: string (nullable = true)|-- potential: integer (nullable = true)|-- value_eur: integer (nullable = true)|-- wage_eur: integer (nullable = true)|-- age: integer (nullable = true)|-- player_positions: string (nullable = true)|-- player_id: integer (nullable = true)|-- player_url: string (nullable = true)|-- fifa_version: integer (nullable = true)|-- fifa_update: integer (nullable = true)|-- fifa_update_date: date (nullable = true)\"\n",
    "pattern = pattern = r\"(?<=- ).*?(?=: )\"\n",
    "elements_to_drop = re.findall(pattern, str)"
   ]
  },
  {
   "cell_type": "code",
   "execution_count": 20,
   "metadata": {},
   "outputs": [],
   "source": [
    "for element in elements_to_drop:\n",
    "    df = df.drop(element)"
   ]
  },
  {
   "attachments": {},
   "cell_type": "markdown",
   "metadata": {},
   "source": [
    "Merging the fifa dataset and the dataset obtained in feature_engineering.ipynb:\n",
    "in this case the difficulty is finding the parameters on which to join. We have opted in the union on the couple (date of birth, nationality)"
   ]
  },
  {
   "cell_type": "code",
   "execution_count": 21,
   "metadata": {},
   "outputs": [],
   "source": [
    "# join df and df_ in which df.dob == df_.date_of_birth and df_.country_of_citizenship == df.nationality_name\n",
    "joined_df = df.join(df_, (df.dob == df_.date_of_birth) & (df_.country_of_citizenship == df.nationality_name))"
   ]
  },
  {
   "cell_type": "code",
   "execution_count": 22,
   "metadata": {},
   "outputs": [],
   "source": [
    "#conta il numero di player_id distinct\n",
    "#print(joined_df.select(\"player_id\").distinct().count())\n",
    "# conta il numero di istanze\n",
    "#print(joined_df.count())"
   ]
  },
  {
   "attachments": {},
   "cell_type": "markdown",
   "metadata": {},
   "source": [
    "Removing from df the player_id that occurre more than once"
   ]
  },
  {
   "cell_type": "code",
   "execution_count": 23,
   "metadata": {},
   "outputs": [],
   "source": [
    "count_df = joined_df.groupBy(\"player_id\").agg(count(\"*\").alias(\"count\"))\n",
    "df = joined_df.join(count_df, \"player_id\").filter(count_df[\"count\"] == 1).drop(\"count\") # we will ad the instances obtained from the filtered df \n",
    "#print(df.select(\"player_id\").distinct().count())"
   ]
  },
  {
   "attachments": {},
   "cell_type": "markdown",
   "metadata": {},
   "source": [
    "filtered_df is composed of instances of player_id that appear in df more than once: in particular filtered_df is composed of the players for whom the union (date of birth, nationality) does not work because there is more than one instance for which the key tuple (date of birth, nationality) is valid"
   ]
  },
  {
   "cell_type": "code",
   "execution_count": 24,
   "metadata": {},
   "outputs": [],
   "source": [
    "# dataset composed by the instances with player_id not unique (i.e. that appears more than once)\n",
    "count_df = joined_df.groupBy(\"player_id\").agg(count(\"*\").alias(\"count\"))\n",
    "filtered_df = joined_df.join(count_df, \"player_id\").filter(count_df[\"count\"] > 1).drop(\"count\")"
   ]
  },
  {
   "cell_type": "code",
   "execution_count": 25,
   "metadata": {},
   "outputs": [],
   "source": [
    "#filtered_df.count()"
   ]
  },
  {
   "attachments": {},
   "cell_type": "markdown",
   "metadata": {},
   "source": [
    "Since, for these instances, (date of birth, nationality) does not work, we decide to perform the filter through long_name (fifa dataset) and name (the other dataset)"
   ]
  },
  {
   "cell_type": "code",
   "execution_count": 26,
   "metadata": {},
   "outputs": [],
   "source": [
    "# mantain only the instance in which long name is equal to name\n",
    "filtered_df = filtered_df.filter(filtered_df.long_name == filtered_df.name)"
   ]
  },
  {
   "cell_type": "code",
   "execution_count": 27,
   "metadata": {},
   "outputs": [],
   "source": [
    "#filtered_df.count()"
   ]
  },
  {
   "attachments": {},
   "cell_type": "markdown",
   "metadata": {},
   "source": [
    "Adding to df the unique instances of filtered_df that we managed to extract"
   ]
  },
  {
   "cell_type": "code",
   "execution_count": 28,
   "metadata": {},
   "outputs": [],
   "source": [
    "# add to df the instances of filtered_df\n",
    "df = df.union(filtered_df)"
   ]
  },
  {
   "cell_type": "code",
   "execution_count": 29,
   "metadata": {},
   "outputs": [],
   "source": [
    "# check if there are still duplicates\n",
    "#print(df.count())\n",
    "#print(df.select(\"player_id\").distinct().count())"
   ]
  },
  {
   "cell_type": "code",
   "execution_count": 30,
   "metadata": {},
   "outputs": [],
   "source": [
    "# INSERT CURRENT DATE #\n",
    "import datetime\n",
    "current_date = datetime.datetime.now().strftime(\"%Y-%m-%d\")"
   ]
  },
  {
   "attachments": {},
   "cell_type": "markdown",
   "metadata": {},
   "source": [
    "Adding to the dataset the feature age"
   ]
  },
  {
   "cell_type": "code",
   "execution_count": 31,
   "metadata": {},
   "outputs": [],
   "source": [
    "# add to the df the column age\n",
    "df = df.withColumn(\"age\", floor(datediff(lit(current_date), \"dob\")/365))"
   ]
  },
  {
   "cell_type": "code",
   "execution_count": 32,
   "metadata": {},
   "outputs": [],
   "source": [
    "# drop some columns\n",
    "df = df.drop(\"first_name\", \"last_name\", \"date_of_birth\", \"date_v\", \"country_of_citizenship\", \"dob\", \"short_name\", \"long_name\")"
   ]
  },
  {
   "attachments": {},
   "cell_type": "markdown",
   "metadata": {},
   "source": [
    "### **Feature Engineering Phase**"
   ]
  },
  {
   "cell_type": "code",
   "execution_count": 33,
   "metadata": {},
   "outputs": [
    {
     "name": "stdout",
     "output_type": "stream",
     "text": [
      "+---------+-------+---------+---------+----------------+--------------+---------+-----------+---------+----+--------+-------+---------+---------+------+------------------+-------------------+--------------------------+-----------------------+-----------------+---------------+-----------+-----------------+------------------+------------------+---------------------+---------------------+----------------+------------------+----------------+----------------+-------------+-------------+--------------+----------------+--------------------+-----------------------+---------------------+----------------+-------------------+-------------------+---------------------------+-------------------------+------------------------+------------------+--------------------+-------------------+-----------------------+--------------------+-----------------+--------------+----+--------+------------+---+\n",
      "|player_id|overall|height_cm|weight_kg|nationality_name|preferred_foot|weak_foot|skill_moves|work_rate|pace|shooting|passing|dribbling|defending|physic|attacking_crossing|attacking_finishing|attacking_heading_accuracy|attacking_short_passing|attacking_volleys|skill_dribbling|skill_curve|skill_fk_accuracy|skill_long_passing|skill_ball_control|movement_acceleration|movement_sprint_speed|movement_agility|movement_reactions|movement_balance|power_shot_power|power_jumping|power_stamina|power_strength|power_long_shots|mentality_aggression|mentality_interceptions|mentality_positioning|mentality_vision|mentality_penalties|mentality_composure|defending_marking_awareness|defending_standing_tackle|defending_sliding_tackle|goalkeeping_diving|goalkeeping_handling|goalkeeping_kicking|goalkeeping_positioning|goalkeeping_reflexes|goalkeeping_speed|last_valuation|name|position|sub_position|age|\n",
      "+---------+-------+---------+---------+----------------+--------------+---------+-----------+---------+----+--------+-------+---------+---------+------+------------------+-------------------+--------------------------+-----------------------+-----------------+---------------+-----------+-----------------+------------------+------------------+---------------------+---------------------+----------------+------------------+----------------+----------------+-------------+-------------+--------------+----------------+--------------------+-----------------------+---------------------+----------------+-------------------+-------------------+---------------------------+-------------------------+------------------------+------------------+--------------------+-------------------+-----------------------+--------------------+-----------------+--------------+----+--------+------------+---+\n",
      "|        0|      0|        0|        0|               0|             0|        0|          0|        0| 392|     392|    392|      392|      392|   392|                 0|                  0|                         0|                      0|                0|              0|          0|                0|                 0|                 0|                    0|                    0|               0|                 0|               0|               0|            0|            0|             0|               0|                   0|                      0|                    0|               0|                  0|                  0|                          0|                        0|                       0|                 0|                   0|                  0|                      0|                   0|             3736|             0|   0|       0|         384|  0|\n",
      "+---------+-------+---------+---------+----------------+--------------+---------+-----------+---------+----+--------+-------+---------+---------+------+------------------+-------------------+--------------------------+-----------------------+-----------------+---------------+-----------+-----------------+------------------+------------------+---------------------+---------------------+----------------+------------------+----------------+----------------+-------------+-------------+--------------+----------------+--------------------+-----------------------+---------------------+----------------+-------------------+-------------------+---------------------------+-------------------------+------------------------+------------------+--------------------+-------------------+-----------------------+--------------------+-----------------+--------------+----+--------+------------+---+\n",
      "\n"
     ]
    }
   ],
   "source": [
    "# for each features of df, check if there are null values\n",
    "df.select([count(when(isnan(c) | col(c).isNull(), c)).alias(c) for c in df.columns]).show()"
   ]
  },
  {
   "attachments": {},
   "cell_type": "markdown",
   "metadata": {},
   "source": [
    "Fixing null value and zero value"
   ]
  },
  {
   "cell_type": "code",
   "execution_count": 34,
   "metadata": {},
   "outputs": [],
   "source": [
    "# if position is goal keeper then club_position = GK then set pace, shooting, passing, dribbling, defending, physic = 0\n",
    "df = df.withColumn(\"pace\", when(df.position == \"Goalkeeper\", 0).otherwise(df.pace))\n",
    "df = df.withColumn(\"shooting\", when(df.position == \"Goalkeeper\", 0).otherwise(df.shooting))\n",
    "df = df.withColumn(\"passing\", when(df.position == \"Goalkeeper\", 0).otherwise(df.passing))\n",
    "df = df.withColumn(\"dribbling\", when(df.position == \"Goalkeeper\", 0).otherwise(df.dribbling))\n",
    "df = df.withColumn(\"defending\", when(df.position == \"Goalkeeper\", 0).otherwise(df.defending))\n",
    "df = df.withColumn(\"physic\", when(df.position == \"Goalkeeper\", 0).otherwise(df.physic))"
   ]
  },
  {
   "cell_type": "code",
   "execution_count": 35,
   "metadata": {},
   "outputs": [],
   "source": [
    "# if the sub_position is null, set it to position value\n",
    "df = df.withColumn(\"sub_position\", when(col(\"sub_position\").isNull(), col(\"position\")).otherwise(col(\"sub_position\")))"
   ]
  },
  {
   "cell_type": "code",
   "execution_count": 36,
   "metadata": {},
   "outputs": [],
   "source": [
    "# if position is not Goalkeeper then set goalkeeping_speed to 0\n",
    "df = df.withColumn(\"goalkeeping_speed\", when(df.position != \"Goalkeeper\", 0).otherwise(df.goalkeeping_speed))"
   ]
  },
  {
   "attachments": {},
   "cell_type": "markdown",
   "metadata": {},
   "source": [
    "If the fixes didn't work, it means that the instances involved are originally wrong. Then we decided to drop it"
   ]
  },
  {
   "cell_type": "code",
   "execution_count": 37,
   "metadata": {},
   "outputs": [
    {
     "name": "stdout",
     "output_type": "stream",
     "text": [
      "4128\n",
      "4112\n"
     ]
    }
   ],
   "source": [
    "# remove the instances in which there are null values\n",
    "df = df.na.drop()"
   ]
  },
  {
   "attachments": {},
   "cell_type": "markdown",
   "metadata": {},
   "source": [
    "Saving the dataset obtained from the pre-processing, feature engineering and merging operations"
   ]
  },
  {
   "cell_type": "code",
   "execution_count": 41,
   "metadata": {},
   "outputs": [],
   "source": [
    "import pandas as pd\n",
    "df_p = df.toPandas()\n",
    "df_p.to_csv(\"task2dataset.csv\", index=False)"
   ]
  },
  {
   "attachments": {},
   "cell_type": "markdown",
   "metadata": {},
   "source": [
    "## **Clustering algorithms applications: k-means** "
   ]
  },
  {
   "attachments": {},
   "cell_type": "markdown",
   "metadata": {},
   "source": [
    "Loading the dataset obtained from the previous phases"
   ]
  },
  {
   "cell_type": "code",
   "execution_count": 3,
   "metadata": {},
   "outputs": [],
   "source": [
    "# load the dataset obtained in the previous phases\n",
    "df = spark.read.csv(\"task2dataset.csv\", header=True, inferSchema=True)"
   ]
  },
  {
   "attachments": {},
   "cell_type": "markdown",
   "metadata": {},
   "source": [
    "Converting double features to avoid problem in the next steps and to make all the numerical instances of the same type"
   ]
  },
  {
   "cell_type": "code",
   "execution_count": 4,
   "metadata": {},
   "outputs": [],
   "source": [
    "# convert from double to int the features goalkeeping_speed, pace, shooting, passing, dribbling, defending, physic\n",
    "df = df.withColumn(\"goalkeeping_speed\", df.goalkeeping_speed.cast(\"int\"))\n",
    "df = df.withColumn(\"pace\", df.pace.cast(\"int\"))\n",
    "df = df.withColumn(\"shooting\", df.shooting.cast(\"int\"))\n",
    "df = df.withColumn(\"passing\", df.passing.cast(\"int\"))\n",
    "df = df.withColumn(\"dribbling\", df.dribbling.cast(\"int\"))\n",
    "df = df.withColumn(\"defending\", df.defending.cast(\"int\"))\n",
    "df = df.withColumn(\"physic\", df.physic.cast(\"int\"))"
   ]
  },
  {
   "attachments": {},
   "cell_type": "markdown",
   "metadata": {},
   "source": [
    "Since nationality is not a crucial feature for our task, and furthermore, in the case of applying one hot encoding, it would greatly increase the number of features, we decided to exclude it from the dataset\n"
   ]
  },
  {
   "cell_type": "code",
   "execution_count": 5,
   "metadata": {},
   "outputs": [],
   "source": [
    "# drop the features nationality_name and name\n",
    "dfc = df.drop(\"nationality_name\", \"name\")"
   ]
  },
  {
   "attachments": {},
   "cell_type": "markdown",
   "metadata": {},
   "source": [
    "Creating a feature copy of age"
   ]
  },
  {
   "cell_type": "code",
   "execution_count": 6,
   "metadata": {},
   "outputs": [],
   "source": [
    "# crea una copia della feature age in age_copy\n",
    "dfc = dfc.withColumn(\"age_copy\", dfc.age)"
   ]
  },
  {
   "attachments": {},
   "cell_type": "markdown",
   "metadata": {},
   "source": [
    "### **Standardization of the numerical features**"
   ]
  },
  {
   "cell_type": "code",
   "execution_count": 7,
   "metadata": {},
   "outputs": [],
   "source": [
    "def standardize(dfc):\n",
    "    assembler = VectorAssembler(inputCols=list(set(dfc.columns) - set([\"player_id\", \"preferred_foot\", \"work_rate\", \"position\", \"sub_position\", \"age_copy\"])), \n",
    "                                outputCol=\"features\")\n",
    "\n",
    "    dfc = assembler.transform(dfc)\n",
    "\n",
    "    scaler = StandardScaler(inputCol=\"features\", \n",
    "                            outputCol=\"scaled_features\",\n",
    "                            withStd=True, withMean=True)\n",
    "\n",
    "    # Compute summary statistics by fitting the StandardScaler\n",
    "    scalerModel = scaler.fit(dfc)\n",
    "\n",
    "    # Normalize each feature to have unit standard deviation\n",
    "    dfc = scalerModel.transform(dfc)\n",
    "    return dfc"
   ]
  },
  {
   "cell_type": "code",
   "execution_count": null,
   "metadata": {},
   "outputs": [],
   "source": [
    "dfc = standardize(dfc)"
   ]
  },
  {
   "cell_type": "code",
   "execution_count": 8,
   "metadata": {},
   "outputs": [],
   "source": [
    "dfc = dfc.drop(*list(set(df.columns) - set([\"player_id\", \"preferred_foot\", \"work_rate\", \"position\", \"sub_position\", \"age_copy\"])))"
   ]
  },
  {
   "attachments": {},
   "cell_type": "markdown",
   "metadata": {},
   "source": [
    "### **Applying one-hot encoding of the categorical features**"
   ]
  },
  {
   "cell_type": "code",
   "execution_count": 9,
   "metadata": {},
   "outputs": [],
   "source": [
    "from pyspark.sql.functions import when\n",
    "\n",
    "def apply_one_hot_encoding(df, column_names, df_id):\n",
    "\n",
    "    def generate_encoded_columns(df, name_column, column_values):\n",
    "        return [\n",
    "            when(df[name_column].isin(value), 1).otherwise(0).alias(f\"{name_column}_{value}\")\n",
    "            for value in column_values\n",
    "        ]\n",
    "    diz = {}\n",
    "    for col in column_names:\n",
    "        diz[col]=[row[col] for row in df.select(col).distinct().collect()]\n",
    "    encoded_columns = []\n",
    "    for name_column, column_values in diz.items():\n",
    "        encoded_columns.extend(generate_encoded_columns(df, name_column, column_values))\n",
    "    encoded_df = df.select(df_id, *encoded_columns)\n",
    "    #join the encoded df with the original df on the key df_id\n",
    "    df = df.join(encoded_df, df_id)\n",
    "    #drop the columns in column_names\n",
    "    df = df.drop(*column_names)\n",
    "    return df"
   ]
  },
  {
   "cell_type": "code",
   "execution_count": 10,
   "metadata": {},
   "outputs": [],
   "source": [
    "column_names = [\"preferred_foot\", \"work_rate\", \"position\", \"sub_position\"] #columns to apply one hot encoding (categorical features)\n",
    "dfc = apply_one_hot_encoding(dfc, column_names, \"player_id\") # apply one hot encoding to the specified columns on the df id player_id"
   ]
  },
  {
   "attachments": {},
   "cell_type": "markdown",
   "metadata": {},
   "source": [
    "### **NO PCA! Assemble the features of dfc**"
   ]
  },
  {
   "attachments": {},
   "cell_type": "markdown",
   "metadata": {},
   "source": [
    "This function allows to assemble the dataset for the k-means if we wanto to apply pca"
   ]
  },
  {
   "cell_type": "code",
   "execution_count": 11,
   "metadata": {},
   "outputs": [],
   "source": [
    "def dataset_assembler(df): \n",
    "   # Crea un'istanza di VectorAssembler specificando le colonne di input e la colonna di output\n",
    "    assembler = VectorAssembler(inputCols=list(set(df.columns) - set([\"player_id\", \"features\"])), outputCol=\"pcaFeatures\")\n",
    "\n",
    "    # Applica il VectorAssembler al DataFrame\n",
    "    df_pca = assembler.transform(df)\n",
    "    return df_pca"
   ]
  },
  {
   "attachments": {},
   "cell_type": "markdown",
   "metadata": {},
   "source": [
    "### **Principal Component Analysis: PCA**"
   ]
  },
  {
   "attachments": {},
   "cell_type": "markdown",
   "metadata": {},
   "source": [
    "Using the method of explained variance. The method of explained variance is a statistical technique used to understand the amount of information or variability in a dataset that is captured or \"explained\" by each principal component. Here are the algorithmic steps:\n",
    "- Apply PCA to the dataframe with a large k value, in our case k is equal to the number of features of the dataframe;\n",
    "- Get the variance explained by each principal component using the 'explainedVariance' method of the PCA model;\n",
    "- Calculate the total variance by adding up all the explained variances;\n",
    "- Calculates the percentage of variance explained by each principal component by dividing the explained variance of each component by the total variance;\n",
    "- Calculates the cumulative variance, which is the cumulative sum of the percentages of explained variance;\n",
    "- Select a desired value of percentage of total variance to explain, in our case 95%;\n",
    "- Find the smallest value of k such that the cumulative variance exceeds or equals the desired percentage;\n",
    "- k will be the number of components."
   ]
  },
  {
   "cell_type": "code",
   "execution_count": 12,
   "metadata": {},
   "outputs": [],
   "source": [
    "def get_optimal_k(df, desired_variance_percentage, k):\n",
    "    \n",
    "    assembler = VectorAssembler(inputCols=list(set(df.columns) - set([\"player_id\", \"features\", \"age_copy\"])), outputCol=\"features_\")\n",
    "    df_assembled = assembler.transform(df)\n",
    "\n",
    "    pca = PCA(k=k, inputCol=\"features_\", outputCol=\"pcaFeatures\")\n",
    "    model = pca.fit(df_assembled)\n",
    "\n",
    "    explained_variance = model.explainedVariance.toArray()\n",
    "    total_variance = np.sum(explained_variance)\n",
    "\n",
    "    cumulative_variance = 0.0\n",
    "    num_selected_features = 0\n",
    "\n",
    "    for variance in explained_variance:\n",
    "        cumulative_variance += variance\n",
    "        num_selected_features += 1\n",
    "        if cumulative_variance >= desired_variance_percentage * total_variance:\n",
    "            break\n",
    "\n",
    "    return num_selected_features"
   ]
  },
  {
   "attachments": {},
   "cell_type": "markdown",
   "metadata": {},
   "source": [
    "Applying PCA to decrease the number of features"
   ]
  },
  {
   "cell_type": "code",
   "execution_count": 13,
   "metadata": {},
   "outputs": [],
   "source": [
    "def apply_PCA(df, features_name_list, k):\n",
    "\n",
    "    assembler = VectorAssembler(inputCols=features_name_list, outputCol=\"features_\")\n",
    "    df_assembled = assembler.transform(df)\n",
    "    pca = PCA(k=k, inputCol=\"features_\", outputCol=\"pcaFeatures\")\n",
    "    model = pca.fit(df_assembled)\n",
    "    df_pca = model.transform(df_assembled).select(\"player_id\", \"pcaFeatures\")\n",
    "    \n",
    "    return df_pca"
   ]
  },
  {
   "attachments": {},
   "cell_type": "markdown",
   "metadata": {},
   "source": [
    "This function prepares the dataset to k-means:\n",
    "- if the flag is true, then apply the pca\n",
    "- if the flag is false, then assemble the dataset"
   ]
  },
  {
   "cell_type": "code",
   "execution_count": 14,
   "metadata": {},
   "outputs": [],
   "source": [
    "def flag_PCA(df,flag): # if flag is True, apply PCA, otherwise apply assembler\n",
    "    if flag is True:\n",
    "        desired_variance_percentage = 0.95\n",
    "        k = len(list(set(df.columns) - set([\"player_id\", \"features\", \"age_copy\"]))) + len(dfc.first()[\"scaled_features\"])\n",
    "        optimal_k = get_optimal_k(df, desired_variance_percentage, k-1)\n",
    "        print(\"I'm applying pca with an optimal k= \", optimal_k)\n",
    "        df_pca = apply_PCA(df, list(set(df.columns)-{\"player_id\", \"features\", \"age_copy\"}), optimal_k)\n",
    "    else:\n",
    "        df_pca = dataset_assembler(df)\n",
    "        print(\"I'm not applying pca, but i'm assembling the dataset for k-means\")\n",
    "    return df_pca"
   ]
  },
  {
   "attachments": {},
   "cell_type": "markdown",
   "metadata": {},
   "source": [
    "### **Applying k-means** "
   ]
  },
  {
   "cell_type": "code",
   "execution_count": 15,
   "metadata": {},
   "outputs": [],
   "source": [
    "RANDOM_SEED = 42"
   ]
  },
  {
   "cell_type": "code",
   "execution_count": 16,
   "metadata": {},
   "outputs": [],
   "source": [
    "def k_means(dataset, n_clusters, distance_measure=\"euclidean\", max_iter=80, features_col=\"pcaFeatures\", prediction_col=\"cluster\", random_seed=RANDOM_SEED):\n",
    "  \n",
    "    print(\"\"\"k-means parameters: - number of clusters = {:d} - max iterations = {:d} - distance measure = {:s} - random seed = {:d}\"\"\".format(n_clusters, max_iter, distance_measure, random_seed))\n",
    "\n",
    "    # Train a K-means model\n",
    "    kmeans = KMeans(featuresCol=features_col, \n",
    "                    predictionCol=prediction_col, \n",
    "                    k=n_clusters, \n",
    "                    initMode=\"k-means||\", # or random\n",
    "                    initSteps=10, \n",
    "                    tol=0.0000001, \n",
    "                    maxIter=max_iter, \n",
    "                    seed=random_seed, \n",
    "                    distanceMeasure=distance_measure)\n",
    "    model = kmeans.fit(dataset)\n",
    "\n",
    "    # Make clusters\n",
    "    clusters_df = model.transform(dataset)\n",
    "\n",
    "    return model, clusters_df"
   ]
  },
  {
   "cell_type": "code",
   "execution_count": 17,
   "metadata": {},
   "outputs": [],
   "source": [
    "def evaluate_k_means(clusters, metric_name=\"silhouette\", distance_measure=\"squaredEuclidean\",prediction_col=\"cluster\"):\n",
    "  \n",
    "  # Evaluate clustering by computing Silhouette score\n",
    "  evaluator = ClusteringEvaluator(metricName=metric_name,\n",
    "                                  distanceMeasure=distance_measure, \n",
    "                                  predictionCol=prediction_col\n",
    "                                  )\n",
    "\n",
    "  return evaluator.evaluate(clusters)"
   ]
  },
  {
   "cell_type": "code",
   "execution_count": 18,
   "metadata": {},
   "outputs": [],
   "source": [
    "def applying_elbow(df, features_col=\"pcaFeatures\", prediction_col=\"cluster\", min_k=60, max_k=100, random_seed=RANDOM_SEED):        \n",
    "\n",
    "    clustering_results = {}\n",
    "    k_values = range(min_k, max_k)\n",
    "\n",
    "    silhouette_values = []\n",
    "\n",
    "    for k in k_values:\n",
    "        # Creazione dell'istanza del modello K-means\n",
    "        model, clusters_df = k_means(df, k, features_col=\"pcaFeatures\", prediction_col=prediction_col, random_seed=RANDOM_SEED)\n",
    "        clusters_df = clusters_df.withColumn(\"features\", clusters_df[\"pcaFeatures\"])\n",
    "\n",
    "        # Calcolo del SSE (Sum of Squared Errors)\n",
    "        silhouette = evaluate_k_means(clusters_df)\n",
    "        silhouette_values.append(silhouette)\n",
    "        clustering_results[k] = silhouette\n",
    "\n",
    "    # Plot del grafico SSE vs. Valori k\n",
    "    plt.plot(k_values, silhouette_values, 'bx-')\n",
    "    plt.xlabel('Number of Clusters (k)')\n",
    "    plt.ylabel('Silhouette')\n",
    "    plt.title('Elbow Method for Optimal k')\n",
    "    plt.show()\n",
    "\n",
    "    return clustering_results"
   ]
  },
  {
   "attachments": {},
   "cell_type": "markdown",
   "metadata": {},
   "source": [
    "Split dfc in dfc1, composed by player with age >25, and dfc2, composed by player with age <25\n",
    "\n",
    "**dfc1 is made up of players who are over 25 years old**\n",
    "\n",
    "**dfc2 is made up of players who are under 25 years old**"
   ]
  },
  {
   "cell_type": "code",
   "execution_count": 19,
   "metadata": {},
   "outputs": [],
   "source": [
    "# split dfc in two dataframes: one composed of player with age >26, the other composed of player with age <=26\n",
    "def split_dataframe(dfc):\n",
    "    dfc1 = dfc.filter(dfc.age_copy > 25)\n",
    "    dfc2 = dfc.filter(dfc.age_copy <= 25)\n",
    "    return dfc1, dfc2"
   ]
  },
  {
   "cell_type": "code",
   "execution_count": 20,
   "metadata": {},
   "outputs": [],
   "source": [
    "dfc1, dfc2 = split_dataframe(dfc)"
   ]
  },
  {
   "attachments": {},
   "cell_type": "markdown",
   "metadata": {},
   "source": [
    "In this case,  we apply k-means, then our categorical features are processed by one hot encoding, then we can apply PCA (flag = True)"
   ]
  },
  {
   "cell_type": "code",
   "execution_count": 21,
   "metadata": {},
   "outputs": [
    {
     "name": "stdout",
     "output_type": "stream",
     "text": [
      "I'm applying pca with an optimal k=  21\n",
      "I'm applying pca with an optimal k=  25\n"
     ]
    }
   ],
   "source": [
    "df1_pca = flag_PCA(dfc1,flag=True)\n",
    "df2_pca = flag_PCA(dfc2,flag=True)"
   ]
  },
  {
   "cell_type": "code",
   "execution_count": 22,
   "metadata": {},
   "outputs": [
    {
     "name": "stdout",
     "output_type": "stream",
     "text": [
      "k-means parameters: - number of clusters = 50 - max iterations = 80 - distance measure = euclidean - random seed = 42\n"
     ]
    },
    {
     "data": {
      "image/png": "[encoded data removed]",
      "text/plain": [
       "<Figure size 640x480 with 1 Axes>"
      ]
     },
     "metadata": {},
     "output_type": "display_data"
    },
    {
     "name": "stdout",
     "output_type": "stream",
     "text": [
      "k-means parameters: - number of clusters = 50 - max iterations = 80 - distance measure = euclidean - random seed = 42\n"
     ]
    },
    {
     "data": {
      "image/png": "[encoded data removed]",
      "text/plain": [
       "<Figure size 640x480 with 1 Axes>"
      ]
     },
     "metadata": {},
     "output_type": "display_data"
    }
   ],
   "source": [
    "# def applying_elbow(df, features_col=\"pcaFeatures\", prediction_col=\"cluster\", min_k=60, max_k=100, random_seed=RANDOM_SEED):\n",
    "clustering_results1 = applying_elbow(df1_pca, features_col=\"pcaFeatures\", prediction_col=\"cluster\", min_k=50, max_k=51, random_seed=RANDOM_SEED)\n",
    "clustering_results2 = applying_elbow(df2_pca, features_col=\"pcaFeatures\", prediction_col=\"cluster\", min_k=50, max_k=51, random_seed=RANDOM_SEED)"
   ]
  },
  {
   "cell_type": "code",
   "execution_count": 23,
   "metadata": {},
   "outputs": [],
   "source": [
    "# obatin the key of the max items of clustering_results\n",
    "k_clustering1 = list(dict(sorted(clustering_results1.items(), key=lambda item: item[1], reverse=True)))[0]\n",
    "k_clustering2 = list(dict(sorted(clustering_results2.items(), key=lambda item: item[1], reverse=True)))[0]"
   ]
  },
  {
   "cell_type": "code",
   "execution_count": 24,
   "metadata": {},
   "outputs": [
    {
     "name": "stdout",
     "output_type": "stream",
     "text": [
      "k-means parameters: - number of clusters = 50 - max iterations = 80 - distance measure = euclidean - random seed = 42\n",
      "k-means parameters: - number of clusters = 50 - max iterations = 80 - distance measure = euclidean - random seed = 42\n"
     ]
    }
   ],
   "source": [
    "model1, df_clusters1 = k_means(df1_pca, k_clustering1, features_col=\"pcaFeatures\", prediction_col=\"cluster\", random_seed=RANDOM_SEED) # k_clustering or we can choose the number of clusters\n",
    "model2, df_clusters2 = k_means(df2_pca, k_clustering2, features_col=\"pcaFeatures\", prediction_col=\"cluster\", random_seed=RANDOM_SEED) # k_clustering or we can choose the number of clusters"
   ]
  },
  {
   "cell_type": "code",
   "execution_count": 25,
   "metadata": {},
   "outputs": [],
   "source": [
    "df_clusters1 = df_clusters1.withColumn(\"features\", df_clusters1[\"pcaFeatures\"]) # we need to do this because the function evaluate_k_means needs a column named \"features\"\n",
    "df_clusters2 = df_clusters2.withColumn(\"features\", df_clusters2[\"pcaFeatures\"]) # we need to do this because the function evaluate_k_means needs a column named \"features\"\n",
    "silhouette1 = evaluate_k_means(df_clusters1, metric_name=\"silhouette\", distance_measure=\"squaredEuclidean\", prediction_col=\"cluster\")\n",
    "silhouette2 = evaluate_k_means(df_clusters2, metric_name=\"silhouette\", distance_measure=\"squaredEuclidean\", prediction_col=\"cluster\")"
   ]
  },
  {
   "cell_type": "code",
   "execution_count": 26,
   "metadata": {},
   "outputs": [
    {
     "name": "stdout",
     "output_type": "stream",
     "text": [
      "0.15609392566565505\n",
      "0.15852239780478863\n"
     ]
    }
   ],
   "source": [
    "print(silhouette1)\n",
    "print(silhouette2)"
   ]
  },
  {
   "attachments": {},
   "cell_type": "markdown",
   "metadata": {},
   "source": [
    "Joining the initial dataframe and the k-means resulting dataframe"
   ]
  },
  {
   "cell_type": "code",
   "execution_count": 27,
   "metadata": {},
   "outputs": [],
   "source": [
    "#join the clusters_df with the original df on the key player_id\n",
    "df_k_means1 = df.join(df_clusters1, \"player_id\")\n",
    "df_k_means2 = df.join(df_clusters2, \"player_id\")"
   ]
  },
  {
   "cell_type": "code",
   "execution_count": 28,
   "metadata": {},
   "outputs": [],
   "source": [
    "#oridinare df_k_means per cluster\n",
    "df_k_means1 = df_k_means1.orderBy(\"cluster\")\n",
    "df_k_means2 = df_k_means2.orderBy(\"cluster\")"
   ]
  },
  {
   "cell_type": "code",
   "execution_count": 29,
   "metadata": {},
   "outputs": [
    {
     "name": "stdout",
     "output_type": "stream",
     "text": [
      "+---------+-------+---------+---------+----------------+--------------+---------+-----------+-------------+----+--------+-------+---------+---------+------+------------------+-------------------+--------------------------+-----------------------+-----------------+---------------+-----------+-----------------+------------------+------------------+---------------------+---------------------+----------------+------------------+----------------+----------------+-------------+-------------+--------------+----------------+--------------------+-----------------------+---------------------+----------------+-------------------+-------------------+---------------------------+-------------------------+------------------------+------------------+--------------------+-------------------+-----------------------+--------------------+-----------------+--------------+--------------------+----------+------------------+---+--------------------+-------+--------------------+\n",
      "|player_id|overall|height_cm|weight_kg|nationality_name|preferred_foot|weak_foot|skill_moves|    work_rate|pace|shooting|passing|dribbling|defending|physic|attacking_crossing|attacking_finishing|attacking_heading_accuracy|attacking_short_passing|attacking_volleys|skill_dribbling|skill_curve|skill_fk_accuracy|skill_long_passing|skill_ball_control|movement_acceleration|movement_sprint_speed|movement_agility|movement_reactions|movement_balance|power_shot_power|power_jumping|power_stamina|power_strength|power_long_shots|mentality_aggression|mentality_interceptions|mentality_positioning|mentality_vision|mentality_penalties|mentality_composure|defending_marking_awareness|defending_standing_tackle|defending_sliding_tackle|goalkeeping_diving|goalkeeping_handling|goalkeeping_kicking|goalkeeping_positioning|goalkeeping_reflexes|goalkeeping_speed|last_valuation|                name|  position|      sub_position|age|         pcaFeatures|cluster|            features|\n",
      "+---------+-------+---------+---------+----------------+--------------+---------+-----------+-------------+----+--------+-------+---------+---------+------+------------------+-------------------+--------------------------+-----------------------+-----------------+---------------+-----------+-----------------+------------------+------------------+---------------------+---------------------+----------------+------------------+----------------+----------------+-------------+-------------+--------------+----------------+--------------------+-----------------------+---------------------+----------------+-------------------+-------------------+---------------------------+-------------------------+------------------------+------------------+--------------------+-------------------+-----------------------+--------------------+-----------------+--------------+--------------------+----------+------------------+---+--------------------+-------+--------------------+\n",
      "|   179860|     72|      186|       82|        Slovenia|         Right|        4|          3|   Medium/Low|  75|      72|     66|       70|       19|    67|                68|                 71|                        69|                     69|               73|             68|         64|               49|                56|                72|                   73|                   76|              75|                73|              66|              77|           71|           72|            75|              68|                  42|                     11|                   76|              69|                 73|                 68|                         15|                       11|                      18|                 9|                  12|                  7|                      8|                   7|                0|       5000000|       Andraz Sporar|    Attack|    Centre-Forward| 29|[-1.5756524290668...|      0|[-1.5756524290668...|\n",
      "|   598629|     69|      183|       80|          Brazil|         Right|        3|          3|  High/Medium|  69|      68|     61|       67|       26|    68|                59|                 70|                        73|                     66|               66|             66|         60|               42|                54|                70|                   69|                   69|              69|                68|              67|              69|           64|           70|            72|              62|                  55|                     20|                   69|              62|                 63|                 62|                         15|                       27|                      24|                12|                  15|                  6|                      8|                   9|                0|       1500000|        Bruno Duarte|    Attack|    Centre-Forward| 27|[-0.6807915099724...|      0|[-0.6807915099724...|\n",
      "|   260806|     69|      187|       77|         Belgium|         Right|        3|          3|Medium/Medium|  82|      67|     67|       69|       36|    61|                70|                 65|                        59|                     69|               59|             72|         72|               69|                67|                67|                   79|                   85|              74|                60|              57|              76|           77|           50|            71|              68|                  47|                     21|                   65|              60|                 55|                 64|                         47|                       30|                      25|                 9|                   6|                 13|                      6|                  16|                0|       3000000|        Isaac Mbenza|    Attack|      Right Winger| 27|[-1.2965212217339...|      0|[-1.2965212217339...|\n",
      "|   340205|     70|      188|       77|           Spain|         Right|        4|          3|Medium/Medium|  68|      69|     63|       70|       26|    67|                55|                 73|                        72|                     70|               59|             72|         58|               44|                62|                71|                   71|                   66|              72|                64|              65|              67|           71|           63|            75|              64|                  49|                     20|                   68|              66|                 71|                 54|                         26|                       17|                      20|                12|                  14|                 11|                     10|                   5|                0|        500000|      Gorka Guruzeta|    Attack|    Centre-Forward| 26|[-0.6994517517186...|      0|[-0.6994517517186...|\n",
      "|   242638|     70|      184|       82|          Greece|         Right|        3|          3|     High/Low|  67|      70|     56|       68|       27|    63|                39|                 74|                        71|                     64|               71|             66|         52|               54|                60|                70|                   68|                   67|              67|                69|              66|              70|           70|           72|            70|              67|                  34|                     14|                   69|              55|                 54|                 69|                         38|                       13|                      18|                 6|                  12|                 11|                      6|                  10|                0|       1000000| Efthymios Koulouris|    Attack|    Centre-Forward| 27|[-0.3541246158979...|      0|[-0.3541246158979...|\n",
      "|   524081|     73|      189|       82|         Denmark|         Right|        4|          3|  High/Medium|  81|      66|     69|       70|       38|    75|                69|                 70|                        64|                     70|               57|             68|         56|               53|                68|                71|                   82|                   81|              76|                67|              76|              65|           60|           90|            73|              60|                  66|                     35|                   68|              75|                 56|                 66|                         35|                       35|                      35|                12|                   8|                  8|                     10|                  14|                0|        700000|      Nicolai Vallys|    Attack|Attacking Midfield| 26|[-2.1490637531166...|      0|[-2.1490637531166...|\n",
      "|   289075|     72|      182|       71|         Ukraine|          Left|        4|          4|  High/Medium|  83|      71|     63|       72|       20|    55|                68|                 73|                        55|                     62|               52|             78|         71|               70|                54|                74|                   78|                   87|              55|                70|              64|              78|           67|           52|            65|              69|                  30|                     24|                   67|              64|                 55|                 54|                         13|                       16|                      12|                11|                   9|                 10|                      9|                   5|                0|       1200000|    Oleksandr Zubkov|    Attack|      Right Winger| 26|[-1.0934574516850...|      0|[-1.0934574516850...|\n",
      "|   289713|     69|      184|       72|         Senegal|         Right|        3|          3|  High/Medium|  87|      64|     61|       69|       37|    73|                64|                 65|                        66|                     62|               56|             70|         55|               48|                58|                66|                   83|                   91|              78|                62|              67|              70|           82|           76|            76|              60|                  57|                     26|                   71|              61|                 54|                 61|                         42|                       35|                      23|                10|                  12|                 13|                      6|                   8|                0|       1400000|        Mamadou Fall|    Attack|      Right Winger| 31|[-1.3925451812731...|      0|[-1.3925451812731...|\n",
      "|   216464|     74|      186|       71|           Spain|          Left|        4|          3|Medium/Medium|  67|      76|     64|       74|       27|    67|                47|                 78|                        74|                     73|               70|             77|         43|               56|                66|                78|                   62|                   71|              70|                72|              47|              78|           73|           54|            72|              74|                  71|                     22|                   72|              73|                 73|                 67|                         21|                       21|                      22|                12|                  13|                  8|                      9|                  12|                0|       6000000|    Carlos Fernández|    Attack|    Centre-Forward| 27|[-1.6026140985594...|      0|[-1.6026140985594...|\n",
      "|   337715|     77|      192|       75|         Nigeria|         Right|        3|          3|  High/Medium|  84|      76|     60|       72|       30|    76|                51|                 80|                        74|                     72|               65|             76|         62|               45|                48|                75|                   81|                   86|              66|                70|              43|              81|           84|           72|            90|              69|                  42|                     19|                   71|              61|                 72|                 67|                         37|                       20|                      19|                11|                   9|                 13|                     11|                   9|                0|       1400000|          Umar Sadiq|    Attack|    Centre-Forward| 26|[-1.5214512291177...|      0|[-1.5214512291177...|\n",
      "|   166683|     71|      184|       84|         Senegal|         Right|        4|          3|Medium/Medium|  75|      70|     63|       70|       37|    71|                57|                 71|                        70|                     69|               65|             70|         65|               51|                50|                69|                   75|                   75|              73|                66|              67|              72|           80|           74|            73|              69|                  59|                     36|                   71|              69|                 62|                 68|                         21|                       42|                      37|                 9|                  16|                  9|                      8|                  11|                0|       1200000|       Mamadou Sylla|    Attack|    Centre-Forward| 29|[-1.6168578463879...|      0|[-1.6168578463879...|\n",
      "|    61887|     71|      185|       77|           Italy|         Right|        3|          3|   Medium/Low|  69|      72|     61|       71|       30|    63|                59|                 73|                        70|                     68|               70|             71|         69|               51|                47|                72|                   67|                   70|              70|                68|              65|              73|           70|           65|            70|              69|                  41|                     35|                   75|              63|                 72|                 70|                         38|                       11|                      12|                14|                  12|                 11|                     11|                   7|                0|       1500000|    Federico Macheda|    Attack|    Centre-Forward| 31|[-1.1052218400255...|      0|[-1.1052218400255...|\n",
      "|   451858|     69|      179|       73|        Portugal|         Right|        3|          3|  High/Medium|  77|      70|     61|       71|       34|    64|                55|                 72|                        51|                     70|               60|             72|         55|               48|                60|                71|                   80|                   75|              68|                68|              70|              73|           65|           70|            60|              64|                  65|                     27|                   70|              57|                 67|                 68|                         36|                       31|                      36|                 9|                   6|                 14|                      5|                  11|                0|        600000|           Rui Costa|    Attack|    Centre-Forward| 27|[-1.5211000897710...|      0|[-1.5211000897710...|\n",
      "|   283528|     74|      180|       74|       Argentina|         Right|        4|          3|  High/Medium|  78|      72|     63|       77|       25|    60|                65|                 76|                        67|                     71|               64|             80|         43|               42|                63|                77|                   79|                   77|              76|                72|              69|              73|           71|           66|            66|              65|                  33|                     12|                   77|              58|                 69|                 70|                         25|                       18|                      25|                 6|                  14|                 11|                     11|                  10|                0|       3000000|    Ignacio Pussetto|    Attack|      Right Winger| 27|[-1.5825489994476...|      0|[-1.5825489994476...|\n",
      "|   259025|     74|      178|       75|          Turkey|         Right|        4|          3|  High/Medium|  78|      73|     63|       74|       33|    69|                58|                 76|                        67|                     71|               72|             72|         66|               54|                47|                74|                   78|                   78|              81|                74|              75|              75|           80|           74|            68|              65|                  60|                     28|                   78|              66|                 74|                 70|                         35|                       26|                      24|                 9|                  10|                  8|                     12|                   9|                0|       4000000|          Umut Bozok|    Attack|    Centre-Forward| 26|[-2.5017941053992...|      0|[-2.5017941053992...|\n",
      "|   343463|     74|      188|       90|          Canada|         Right|        4|          3|  High/Medium|  74|      74|     65|       68|       28|    78|                69|                 75|                        75|                     71|               61|             71|         66|               50|                47|                68|                   72|                   75|              63|                73|              48|              80|           68|           77|            87|              69|                  60|                     22|                   77|              67|                 63|                 65|                         21|                       25|                      20|                12|                   9|                  8|                     12|                   7|                0|      11000000|          Cyle Larin|    Attack|    Centre-Forward| 28|[-1.4759223973315...|      0|[-1.4759223973315...|\n",
      "|   182201|     72|      183|       80|        Tanzania|         Right|        4|          3|  High/Medium|  84|      70|     63|       69|       31|    71|                67|                 69|                        75|                     69|               72|             69|         65|               57|                45|                66|                   84|                   84|              76|                71|              69|              77|           88|           72|            71|              66|                  65|                     18|                   73|              63|                 69|                 70|                         32|                       28|                      23|                12|                  14|                  9|                      7|                   9|                0|       3500000|        Ally Samatta|    Attack|    Centre-Forward| 30|[-2.0966034884419...|      0|[-2.0966034884419...|\n",
      "|   119557|     69|      189|       83|          Turkey|         Right|        3|          3|  Medium/High|  68|      67|     64|       69|       27|    68|                67|                 69|                        67|                     69|               60|             70|         47|               46|                63|                72|                   70|                   66|              67|                68|              64|              70|           78|           68|            70|              65|                  61|                     22|                   71|              63|                 56|                 57|                         24|                       24|                      18|                 6|                  12|                 13|                      8|                  15|                0|       1500000|       Kenan Karaman|    Attack|    Centre-Forward| 29|[-0.5734310112370...|      0|[-0.5734310112370...|\n",
      "|   171209|     72|      185|       76|          Sweden|          Left|        4|          3|   Medium/Low|  75|      74|     65|       75|       25|    63|                59|                 75|                        52|                     70|               72|             77|         75|               63|                53|                75|                   77|                   74|              74|                71|              67|              75|           50|           71|            67|              73|                  45|                     17|                   73|              70|                 75|                 66|                         22|                       28|                      17|                 7|                   7|                 11|                      9|                  14|                0|       2000000|     Branimir Hrgota|    Attack|    Centre-Forward| 30|[-1.9050635447601...|      0|[-1.9050635447601...|\n",
      "|   399543|     73|      186|       81|          France|          Left|        3|          3|Medium/Medium|  74|      71|     72|       72|       34|    67|                72|                 70|                        69|                     74|               69|             72|         78|               72|                65|                73|                   71|                   77|              74|                72|              67|              73|           81|           77|            71|              71|                  42|                     26|                   73|              72|                 68|                 74|                         37|                       27|                      23|                 8|                  13|                 11|                     13|                   6|                0|       6000000|          Rémi Oudin|    Attack|      Right Winger| 26|[-2.4601615903764...|      0|[-2.4601615903764...|\n",
      "|   344399|     70|      185|       69|        Colombia|         Right|        3|          3|Medium/Medium|  71|      70|     58|       71|       23|    64|                57|                 70|                        67|                     62|               68|             72|         74|               46|                46|                72|                   69|                   73|              73|                70|              62|              74|           61|           63|            66|              68|                  59|                     19|                   71|              58|                 66|                 66|                         19|                       16|                      15|                12|                   9|                 12|                     10|                  14|                0|        500000|       Leonardo Ruiz|    Attack|    Centre-Forward| 27|[-0.7571108697046...|      0|[-0.7571108697046...|\n",
      "|   248219|     68|      188|       78|          Turkey|         Right|        3|          3|     High/Low|  78|      65|     63|       69|       31|    66|                64|                 66|                        64|                     65|               62|             69|         65|               64|                63|                70|                   77|                   78|              72|                65|              70|              67|           67|           65|            72|              61|                  53|                     30|                   65|              60|                 62|                 59|                         29|                       24|                      22|                 7|                   9|                 16|                     16|                   6|                0|        800000|    Ogulcan Caglayan|    Attack|    Centre-Forward| 27|[-0.9986822228063...|      0|[-0.9986822228063...|\n",
      "|   386914|     71|      189|       77|     Netherlands|          Left|        5|          4|Medium/Medium|  70|      73|     59|       71|       34|    66|                58|                 74|                        72|                     61|               66|             73|         65|               49|                43|                69|                   73|                   68|              72|                71|              64|              72|           72|           71|            70|              72|                  49|                     36|                   72|              71|                 75|                 70|                         37|                       21|                      19|                13|                  12|                  5|                      8|                  15|                0|       3000000|         Sam Lammers|    Attack|    Centre-Forward| 26|[-1.6061395638442...|      0|[-1.6061395638442...|\n",
      "|   132764|     68|      186|       89|        Scotland|         Right|        4|          3|    High/High|  73|      69|     64|       68|       47|    76|                62|                 70|                        64|                     67|               62|             69|         67|               48|                66|                67|                   72|                   73|              68|                64|              74|              71|           73|           86|            76|              65|                  63|                     40|                   66|              63|                 73|                 69|                         43|                       50|                      43|                12|                  13|                 11|                     14|                   9|                0|        900000|           Tony Watt|    Attack|    Centre-Forward| 29|[-1.9173389532175...|      0|[-1.9173389532175...|\n",
      "|   134936|     72|      178|       80|           Spain|         Right|        4|          4|   Medium/Low|  75|      71|     69|       73|       25|    69|                63|                 72|                        56|                     74|               65|             73|         73|               66|                66|                75|                   77|                   73|              74|                66|              74|              75|           77|           83|            73|              66|                  38|                     33|                   74|              70|                 72|                 73|                         17|                       23|                      12|                13|                   7|                  6|                     13|                  15|                0|       3000000|                Jesé|    Attack|       Left Winger| 30|[-2.4296654023499...|      0|[-2.4296654023499...|\n",
      "|   264116|     73|      188|       75|         Uruguay|          Left|        3|          3|   Medium/Low|  73|      74|     71|       76|       40|    68|                69|                 71|                        74|                     71|               69|             78|         76|               72|                68|                80|                   69|                   76|              72|                66|              56|              81|           73|           65|            74|              75|                  57|                     36|                   72|              72|                 72|                 71|                         38|                       36|                      32|                 7|                  15|                 10|                     10|                  12|                0|       3500000|      Gastón Pereiro|    Attack|Attacking Midfield| 27|[-2.7655750270943...|      0|[-2.7655750270943...|\n",
      "|   292775|     65|      181|       76|        Portugal|         Right|        4|          4|Medium/Medium|  67|      66|     63|       67|       26|    63|                62|                 63|                        61|                     64|               67|             67|         60|               64|                56|                66|                   70|                   64|              70|                66|              69|              74|           61|           65|            63|              66|                  63|                     16|                   64|              67|                 60|                 69|                         21|                       26|                      23|                13|                  11|                 10|                     16|                  13|                0|        500000|     Ricardo Valente|    Attack|    Centre-Forward| 32|[-0.8876024355777...|      0|[-0.8876024355777...|\n",
      "|   256429|     73|      184|       78|           Spain|          Left|        2|          3|     High/Low|  73|      73|     62|       74|       30|    77|                52|                 75|                        72|                     72|               70|             75|         71|               55|                50|                75|                   71|                   75|              76|                61|              67|              74|           73|           72|            81|              70|                  73|                     28|                   77|              65|                 66|                 65|                         32|                       19|                      18|                11|                  14|                 11|                     11|                  11|                0|       3000000|     Sergi Guardiola|    Attack|    Centre-Forward| 31|[-1.7750085747798...|      0|[-1.7750085747798...|\n",
      "|   269878|     73|      186|       80|         Denmark|          Left|        4|          3|Medium/Medium|  64|      77|     66|       74|       38|    72|                63|                 77|                        68|                     69|               74|             75|         78|               55|                56|                75|                   67|                   61|              68|                73|              71|              79|           67|           79|            74|              77|                  61|                     29|                   74|              71|                 73|                 69|                         35|                       38|                      30|                12|                  13|                 10|                     14|                   7|                0|       3000000|   Marcus Ingvartsen|    Attack|    Centre-Forward| 27|[-2.3809564989742...|      0|[-2.3809564989742...|\n",
      "|   371245|     71|      180|       75|          Brazil|         Right|        3|          3|   Medium/Low|  68|      72|     59|       69|       25|    67|                50|                 73|                        71|                     67|               67|             70|         65|               68|                49|                71|                   69|                   67|              69|                67|              62|              75|           72|           69|            69|              67|                  57|                     19|                   73|              58|                 71|                 65|                         22|                       16|                      22|                 9|                  12|                 12|                      8|                   7|                0|       1000000| Guilherme Schettine|    Attack|    Centre-Forward| 27|[-1.1481903021495...|      0|[-1.1481903021495...|\n",
      "|   358166|     75|      190|       76|      Uzbekistan|         Right|        4|          3|  High/Medium|  82|      74|     63|       75|       39|    70|                55|                 75|                        76|                     67|               75|             77|         68|               52|                58|                77|                   84|                   81|              74|                64|              70|              76|           61|           70|            76|              69|                  59|                     39|                   75|              68|                 65|                 65|                         37|                       33|                      30|                 8|                  11|                  5|                      7|                   5|                0|      10000000|    Eldor Shomurodov|    Attack|    Centre-Forward| 27|[-2.5994375434901...|      0|[-2.5994375434901...|\n",
      "|   427161|     70|      182|       76|    South Africa|         Right|        3|          3|  High/Medium|  66|      71|     60|       69|       27|    65|                54|                 73|                        70|                     66|               69|             71|         59|               51|                53|                71|                   67|                   65|              60|                65|              65|              71|           66|           63|            70|              69|                  55|                     24|                   71|              61|                 68|                 73|                         32|                       15|                      12|                14|                  14|                 11|                      7|                  10|                0|       2500000|        Lebo Mothiba|    Attack|    Centre-Forward| 27|[-0.8041126604487...|      0|[-0.8041126604487...|\n",
      "|   207597|     69|      182|       80|         Germany|         Right|        3|          3|Medium/Medium|  73|      67|     58|       72|       35|    64|                62|                 69|                        65|                     66|               62|             73|         57|               37|                55|                71|                   77|                   70|              78|                67|              75|              68|           67|           68|            66|              62|                  51|                     40|                   69|              49|                 64|                 62|                         35|                       27|                      20|                 8|                  13|                 16|                     11|                   8|                0|       1500000|     Cedric Teuchert|    Attack|    Centre-Forward| 26|[-0.8030143303826...|      0|[-0.8030143303826...|\n",
      "|   420884|     72|      185|       78|         Belgium|         Right|        4|          3|    High/High|  75|      71|     64|       68|       26|    66|                62|                 72|                        69|                     68|               66|             67|         45|               49|                61|                70|                   74|                   75|              70|                72|              64|              73|           71|           75|            70|              67|                  45|                     15|                   77|              69|                 70|                 61|                         32|                       18|                      13|                13|                  12|                 12|                     12|                  10|                0|       2000000|        Hugo Cuypers|    Attack|    Centre-Forward| 26|[-1.1529979354676...|      0|[-1.1529979354676...|\n",
      "|   238185|     73|      180|       72|         England|         Right|        3|          3|  High/Medium|  76|      75|     61|       71|       30|    60|                58|                 79|                        74|                     72|               72|             69|         67|               65|                49|                73|                   79|                   73|              79|                65|              74|              75|           74|           72|            64|              69|                  33|                     15|                   74|              52|                 72|                 72|                         31|                       27|                      24|                 6|                   9|                 15|                     13|                   9|                0|        250000|         Rhys Healey|    Attack|    Centre-Forward| 28|[-1.8237544405228...|      0|[-1.8237544405228...|\n",
      "|    72768|     72|      185|       82|        Portugal|         Right|        4|          3|   Medium/Low|  68|      73|     64|       71|       37|    74|                64|                 71|                        71|                     69|               74|             72|         63|               47|                59|                73|                   64|                   72|              66|                70|              67|              77|           66|           68|            77|              69|                  74|                     36|                   76|              65|                 80|                 72|                         27|                       40|                      29|                 8|                   7|                  7|                      7|                  10|                0|       2000000|     Nélson Oliveira|    Attack|    Centre-Forward| 31|[-2.2230244293172...|      0|[-2.2230244293172...|\n",
      "|   125103|     75|      188|       79|         Germany|         Right|        3|          3|  High/Medium|  70|      76|     67|       69|       34|    69|                67|                 78|                        72|                     72|               73|             67|         77|               75|                50|                74|                   73|                   67|              65|                77|              65|              78|           71|           73|            73|              73|                  55|                     31|                   78|              66|                 70|                 70|                         27|                       35|                      22|                 6|                  12|                  7|                     12|                  16|                0|       1200000|      Marvin Ducksch|    Attack|    Centre-Forward| 29|[-2.2084176724051...|      0|[-2.2084176724051...|\n",
      "|   366278|     73|      186|       80|          Brazil|          Left|        3|          3|Medium/Medium|  65|      77|     60|       73|       25|    61|                49|                 79|                        68|                     65|               67|             75|         67|               56|                50|                76|                   67|                   64|              65|                76|              59|              76|           70|           62|            70|              74|                  36|                     19|                   75|              67|                 77|                 68|                         18|                       24|                      21|                11|                  10|                 12|                     11|                  13|                0|       2500000|       Rodrigo Pinho|    Attack|    Centre-Forward| 31|[-0.9136988342287...|      0|[-0.9136988342287...|\n",
      "|   241527|     73|      182|       79|           Italy|          Left|        3|          3|  High/Medium|  70|      74|     55|       72|       28|    60|                49|                 75|                        70|                     63|               75|             74|         60|               53|                55|                74|                   71|                   69|              70|                72|              54|              76|           60|           55|            69|              68|                  43|                     26|                   76|              48|                 70|                 66|                         21|                       22|                      29|                 8|                  13|                 10|                      8|                   7|                0|       3500000|  Federico Bonazzoli|    Attack|    Centre-Forward| 26|[-0.8684889479571...|      0|[-0.8684889479571...|\n",
      "|   521127|     73|      182|       76|         Morocco|          Left|        2|          3|   Medium/Low|  74|      73|     60|       71|       35|    66|                59|                 74|                        73|                     67|               76|             70|         60|               50|                42|                73|                   75|                   73|              72|                69|              72|              73|           80|           68|            72|              72|                  46|                     38|                   76|              67|                 64|                 61|                         35|                       22|                      27|                15|                  10|                 13|                     13|                   7|                0|       5000000|      Ayoub El Kaabi|    Attack|    Centre-Forward| 29|[-1.3798278228348...|      0|[-1.3798278228348...|\n",
      "|   354814|     73|      185|       82|          Angola|          Left|        4|          3|Medium/Medium|  85|      70|     59|       68|       29|    75|                52|                 74|                        70|                     68|               60|             68|         62|               44|                62|                71|                   80|                   89|              65|                69|              60|              70|           71|           68|            86|              62|                  58|                     29|                   74|              49|                 70|                 71|                         20|                       24|                      28|                12|                  14|                  6|                     13|                  15|                0|       3000000|        M'Bala Nzola|    Attack|    Centre-Forward| 26|[-1.2491651622483...|      0|[-1.2491651622483...|\n",
      "|   295331|     74|      182|       90|         Nigeria|         Right|        3|          3|Medium/Medium|  73|      71|     66|       75|       38|    67|                73|                 74|                        69|                     69|               58|             77|         59|               54|                57|                76|                   69|                   76|              67|                74|              69|              80|           78|           62|            77|              58|                  45|                     30|                   74|              64|                 68|                 69|                         41|                       33|                      24|                 8|                  15|                 14|                      8|                  10|                0|       2000000|       Isaac Success|    Attack|    Centre-Forward| 27|[-1.5907483807728...|      0|[-1.5907483807728...|\n",
      "|   157501|     73|      184|       75|         Senegal|         Right|        4|          3|     High/Low|  74|      75|     66|       71|       31|    68|                65|                 72|                        68|                     68|               71|             72|         70|               66|                58|                72|                   70|                   78|              70|                68|              65|              87|           74|           49|            84|              73|                  52|                     30|                   72|              70|                 75|                 72|                         30|                       24|                      20|                 4|                   6|                  4|                      4|                   4|                0|       4500000|        M'Baye Niang|    Attack|    Centre-Forward| 28|[-2.3923079839259...|      0|[-2.3923079839259...|\n",
      "|   122635|     66|      186|       84|         Tunisia|         Right|        3|          4|Medium/Medium|  70|      64|     62|       71|       38|    70|                53|                 64|                        57|                     67|               60|             73|         61|               50|                56|                70|                   69|                   71|              71|                62|              63|              69|           68|           71|            74|              61|                  57|                     41|                   66|              68|                 64|                 69|                         36|                       35|                      26|                10|                   6|                  9|                      8|                   7|                0|        500000|        Issam Jebali|    Attack|    Second Striker| 31|[-1.1450512825623...|      0|[-1.1450512825623...|\n",
      "|   129236|     69|      185|       72|          Norway|         Right|        4|          2|     High/Low|  70|      69|     58|       67|       33|    64|                56|                 70|                        70|                     62|               68|             65|         62|               64|                42|                68|                   71|                   69|              74|                68|              65|              71|           82|           70|            70|              64|                  37|                     22|                   73|              61|                 65|                 66|                         34|                       29|                      24|                 8|                   7|                 16|                     14|                  16|                0|        425000|      Torgeir Börven|    Attack|    Centre-Forward| 31|[-0.6319129709572...|      0|[-0.6319129709572...|\n",
      "|   136181|     70|      187|       82|          Norway|         Right|        4|          3|Medium/Medium|  78|      69|     66|       70|       42|    75|                66|                 70|                        66|                     70|               69|             71|         64|               39|                59|                70|                   71|                   83|              67|                70|              63|              73|           72|           79|            77|              64|                  66|                     43|                   67|              69|                 56|                 71|                         43|                       36|                      33|                13|                  15|                 15|                     16|                  13|                0|       1200000|      Havard Nielsen|    Attack|    Centre-Forward| 29|[-1.6761108395704...|      0|[-1.6761108395704...|\n",
      "|   443222|     69|      183|       70|           Spain|         Right|        3|          3|  High/Medium|  74|      68|     60|       69|       27|    61|                57|                 68|                        70|                     67|               67|             70|         60|               52|                51|                70|                   75|                   74|              71|                71|              60|              68|           62|           61|            65|              67|                  50|                     24|                   70|              58|                 63|                 66|                         28|                       17|                      12|                 8|                  13|                 11|                      6|                   8|                0|        600000|        Marc Cardona|    Attack|    Centre-Forward| 27|[-0.8442618154125...|      0|[-0.8442618154125...|\n",
      "|   163053|     72|      185|       79|         Senegal|         Right|        3|          3|Medium/Medium|  75|      72|     66|       72|       26|    73|                69|                 74|                        72|                     68|               68|             73|         56|               53|                56|                72|                   73|                   76|              74|                67|              64|              73|           78|           66|            79|              68|                  64|                     16|                   76|              72|                 63|                 71|                         26|                       20|                      22|                11|                   9|                  7|                     15|                  14|                0|       3000000|          Mame Thiam|    Attack|       Left Winger| 30|[-1.6163704503480...|      0|[-1.6163704503480...|\n",
      "|   125614|     73|      184|       78|         Armenia|         Right|        3|          4|  High/Medium|  80|      73|     65|       76|       34|    70|                58|                 77|                        63|                     73|               71|             78|         57|               44|                58|                75|                   82|                   79|              79|                72|              73|              72|           73|           75|            68|              69|                  66|                     22|                   74|              69|                 60|                 65|                         45|                       25|                      26|                14|                  15|                 10|                     15|                  10|                0|       3000000|      Sargis Adamyan|    Attack|    Centre-Forward| 30|[-2.2422525087211...|      0|[-2.2422525087211...|\n",
      "|   126552|     73|      183|       82|          France|         Right|        3|          3|Medium/Medium|  71|      74|     63|       71|       25|    73|                67|                 75|                        70|                     68|               66|             72|         57|               48|                49|                72|                   69|                   72|              63|                69|              72|              77|           72|           66|            78|              71|                  68|                     21|                   75|              67|                 68|                 70|                         18|                       23|                      15|                 7|                   6|                  8|                     14|                  16|                0|       1500000|          Loïs Diony|    Attack|    Centre-Forward| 30|[-1.3856075189605...|      0|[-1.3856075189605...|\n",
      "|   360661|     69|      180|       75|        Scotland|         Right|        3|          3|  High/Medium|  67|      71|     63|       67|       37|    71|                53|                 73|                        65|                     66|               67|             65|         63|               65|                63|                67|                   67|                   67|              71|                69|              70|              71|           66|           74|            72|              66|                  64|                     40|                   73|              68|                 67|                 69|                         30|                       34|                      32|                 7|                  13|                 10|                      7|                  13|                0|       2500000|        Kevin Nisbet|    Attack|    Centre-Forward| 26|[-1.7386116474117...|      0|[-1.7386116474117...|\n",
      "|   330126|     74|      184|       78|          Poland|          Left|        3|          3|  High/Medium|  68|      74|     62|       71|       32|    71|                50|                 78|                        75|                     70|               71|             69|         61|               60|                59|                75|                   69|                   68|              72|                71|              62|              73|           59|           74|            75|              69|                  60|                     33|                   77|              65|                 69|                 75|                         31|                       21|                      19|                14|                  12|                 11|                     12|                   7|                0|       6000000|     Karol Swiderski|    Attack|    Centre-Forward| 26|[-1.8046511191527...|      0|[-1.8046511191527...|\n",
      "|   183720|     75|      188|       90|     Netherlands|         Right|        4|          4|  High/Medium|  70|      78|     70|       75|       35|    66|                74|                 77|                        72|                     73|               67|             78|         75|               73|                54|                76|                   67|                   73|              68|                79|              63|              84|           52|           67|            72|              77|                  55|                     28|                   78|              73|                 80|                 72|                         40|                       28|                      15|                13|                   9|                  7|                     14|                  11|                0|      10000000|      Anwar El Ghazi|    Attack|      Right Winger| 28|[-2.7887499436245...|      0|[-2.7887499436245...|\n",
      "|   221151|     71|      180|       75|           Benin|         Right|        5|          3|  High/Medium|  83|      64|     65|       70|       35|    62|                63|                 67|                        58|                     67|               56|             70|         54|               42|                69|                69|                   81|                   84|              81|                71|              71|              66|           80|           63|            69|              58|                  38|                     27|                   73|              69|                 54|                 60|                         28|                       39|                      32|                 9|                  13|                 15|                      9|                  14|                0|       1800000|        Jodel Dossou|    Attack|      Right Winger| 31|[-1.2834163446453...|      0|[-1.2834163446453...|\n",
      "|   131951|     73|      186|       80|           Italy|          Left|        3|          3|     High/Low|  87|      71|     65|       72|       38|    65|                66|                 66|                        71|                     70|               75|             71|         69|               47|                59|                71|                   85|                   89|              78|                71|              72|              82|           75|           64|            69|              70|                  53|                     39|                   77|              61|                 66|                 72|                         36|                       30|                      28|                 8|                  14|                 13|                     15|                  15|                0|       3500000|       Kevin Lasagna|    Attack|    Centre-Forward| 30|[-2.1840103573309...|      0|[-2.1840103573309...|\n",
      "|   184885|     70|      184|       83|          Greece|         Right|        3|          3|   Medium/Low|  77|      69|     61|       73|       38|    62|                62|                 70|                        54|                     64|               62|             76|         57|               45|                62|                75|                   76|                   77|              67|                64|              58|              72|           68|           63|            68|              68|                  43|                     44|                   67|              61|                 56|                 65|                         44|                       26|                      27|                15|                   8|                  7|                      9|                  12|                0|        600000|    Christos Albanis|    Attack|       Left Winger| 28|[-0.9460124500221...|      0|[-0.9460124500221...|\n",
      "|   255995|     73|      183|       77|           Spain|         Right|        3|          3|Medium/Medium|  71|      72|     64|       73|       22|    66|                66|                 75|                        71|                     65|               71|             75|         44|               52|                61|                73|                   69|                   73|              74|                70|              68|              73|           76|           75|            70|              67|                  41|                     16|                   80|              69|                 56|                 69|                         18|                       15|                      18|                 5|                  15|                 15|                      6|                  13|                0|       3000000|      Mario González|    Attack|    Centre-Forward| 27|[-1.2365984091263...|      0|[-1.2365984091263...|\n",
      "|   373300|     71|      190|       82|          Brazil|         Right|        4|          3|  High/Medium|  76|      69|     69|       70|       22|    79|                69|                 70|                        68|                     71|               65|             69|         67|               50|                68|                69|                   74|                   78|              82|                68|              65|              71|           74|           80|            82|              65|                  72|                     19|                   75|              70|                 70|                 70|                         20|                       14|                      14|                10|                   5|                 10|                     15|                  14|                0|        800000|              Cryzan|    Attack|    Centre-Forward| 26|[-1.9957935933047...|      0|[-1.9957935933047...|\n",
      "|   236537|     69|      180|       79|          Brazil|         Right|        2|          3|  High/Medium|  68|      71|     65|       67|       26|    71|                65|                 73|                        67|                     70|               65|             69|         62|               41|                67|                68|                   67|                   68|              60|                68|              61|              75|           70|           61|            75|              66|                  72|                     13|                   70|              62|                 61|                 55|                         30|                       20|                      18|                 8|                   8|                  8|                      8|                  14|                0|       1000000|    Fernando Andrade|    Attack|       Left Winger| 30|[-0.8742628510994...|      0|[-0.8742628510994...|\n",
      "|   481084|     73|      184|       78|          Brazil|         Right|        4|          3|     High/Low|  73|      75|     60|       71|       38|    71|                51|                 74|                        74|                     69|               69|             72|         50|               58|                57|                73|                   75|                   72|              72|                58|              69|              79|           78|           64|            77|              77|                  62|                     33|                   77|              60|                 61|                 65|                         33|                       36|                      31|                 6|                  14|                 11|                      8|                  12|                0|       7000000|        Marcos André|    Attack|    Centre-Forward| 26|[-1.8065910158154...|      0|[-1.8065910158154...|\n",
      "|    79110|     70|      186|       86|          Guinea|         Right|        5|          3|   Medium/Low|  78|      69|     58|       67|       22|    67|                62|                 71|                        69|                     63|               65|             70|         52|               42|                52|                67|                   73|                   82|              69|                61|              54|              79|           77|           63|            84|              59|                  26|                     27|                   69|              56|                 61|                 57|                         12|                       15|                      19|                 7|                   8|                 12|                      7|                   9|                0|        400000|          Fodé Koita|    Attack|    Centre-Forward| 32|[-0.2361510161110...|      0|[-0.2361510161110...|\n",
      "|   277777|     69|      189|       80|         Ukraine|         Right|        3|          3|Medium/Medium|  68|      68|     68|       69|       47|    65|                66|                 67|                        65|                     71|               63|             71|         69|               70|                62|                70|                   65|                   70|              62|                68|              55|              72|           65|           62|            72|              70|                  52|                     39|                   69|              70|                 62|                 66|                         53|                       43|                      38|                 9|                  13|                 12|                     11|                   7|                0|       1000000|  Andriy Totovytskyi|    Attack|Attacking Midfield| 30|[-1.4949806227928...|      0|[-1.4949806227928...|\n",
      "|    85383|     73|      185|       73|           Spain|         Right|        4|          3|  High/Medium|  77|      73|     63|       74|       37|    64|                59|                 73|                        75|                     70|               72|             77|         69|               57|                50|                75|                   74|                   79|              72|                68|              61|              75|           66|           54|            67|              73|                  68|                     32|                   71|              62|                 66|                 65|                         40|                       31|                      21|                13|                   8|                 11|                      7|                  15|                0|       1500000|       Rubén Sobrino|    Attack|    Centre-Forward| 30|[-1.9407444078927...|      0|[-1.9407444078927...|\n",
      "|   289802|     72|      183|       82|          Brazil|         Right|        3|          4|   Medium/Low|  76|      73|     65|       74|       27|    65|                65|                 73|                        62|                     69|               70|             74|         72|               47|                52|                73|                   80|                   72|              81|                68|              79|              76|           68|           72|            72|              70|                  39|                     29|                   69|              68|                 71|                 65|                         29|                       15|                      16|                14|                  15|                 13|                      7|                  16|                0|        450000|        Rafael Ratão|    Attack|       Left Winger| 27|[-1.7141432974587...|      0|[-1.7141432974587...|\n",
      "|    85000|     68|      185|       85|           Benin|         Right|        3|          3|  High/Medium|  70|      67|     63|       70|       34|    72|                65|                 67|                        64|                     65|               60|             71|         66|               55|                52|                70|                   77|                   64|              69|                66|              71|              73|           72|           76|            77|              65|                  52|                     23|                   65|              65|                 60|                 63|                         34|                       35|                      27|                11|                   9|                  7|                     12|                   5|                0|        500000|        Cebio Soukou|    Attack|      Right Winger| 30|[-1.1581614336097...|      0|[-1.1581614336097...|\n",
      "|   140808|     73|      187|       87|         Belgium|         Right|        3|          1|Medium/Medium|   0|       0|      0|        0|        0|     0|                11|                 14|                        11|                     37|               14|             18|         11|               19|                53|                25|                   53|                   48|              45|                70|              49|              54|           65|           33|            68|              12|                  28|                     12|                   11|              53|                 30|                 46|                         12|                       11|                      18|                74|                  73|                 72|                     72|                  72|               50|        800000|           Davy Roef|Goalkeeper|        Goalkeeper| 29|[13.8417415010905...|      1|[13.8417415010905...|\n",
      "|   262749|     76|      183|       75|           Spain|         Right|        3|          1|Medium/Medium|   0|       0|      0|        0|        0|     0|                12|                 19|                        20|                     49|               20|             17|         18|               15|                60|                40|                   58|                   46|              66|                72|              45|              60|           73|           29|            38|              14|                  29|                     11|                   15|              65|                 26|                 60|                         28|                       14|                      13|                76|                  74|                 80|                     75|                  77|               51|      18000000|          David Raya|Goalkeeper|        Goalkeeper| 27|[12.5776478113125...|      1|[12.5776478113125...|\n",
      "|   137326|     76|      187|       86|         Belgium|          Left|        2|          1|Medium/Medium|   0|       0|      0|        0|        0|     0|                12|                 11|                        11|                     48|               16|             29|         16|               13|                56|                36|                   37|                   37|              53|                65|              43|              58|           67|           37|            67|              13|                  34|                     14|                   11|              57|                 26|                 62|                         23|                       17|                      11|                77|                  73|                 77|                     77|                  79|               37|       5500000|Hendrik Van Cromb...|Goalkeeper|        Goalkeeper| 30|[13.2889744482965...|      1|[13.2889744482965...|\n",
      "|    79045|     71|      189|       88|     Netherlands|         Right|        4|          1|Medium/Medium|   0|       0|      0|        0|        0|     0|                17|                 12|                        19|                     37|               19|             15|         13|               20|                37|                34|                   55|                   45|              54|                65|              42|              56|           57|           40|            67|              17|                  18|                     20|                   11|              57|                 27|                 41|                         23|                       18|                      16|                70|                  73|                 74|                     71|                  70|               50|       1200000|         Jeroen Zoet|Goalkeeper|        Goalkeeper| 32|[13.6227933679477...|      1|[13.6227933679477...|\n",
      "|    65263|     74|      180|       76|           Spain|         Right|        4|          1|Medium/Medium|   0|       0|      0|        0|        0|     0|                20|                 12|                        13|                     42|               19|             17|         21|               20|                38|                25|                   63|                   62|              69|                76|              67|              51|           78|           40|            54|              13|                  21|                     16|                   11|              60|                 12|                 64|                         21|                       14|                      13|                74|                  72|                 68|                     72|                  74|               62|        700000|         Jordi Masip|Goalkeeper|        Goalkeeper| 34|[12.7812312305260...|      1|[12.7812312305260...|\n",
      "|    78570|     74|      186|       79|      Luxembourg|          Left|        3|          1|Medium/Medium|   0|       0|      0|        0|        0|     0|                20|                 11|                        19|                     36|               12|             16|         16|               14|                42|                34|                   46|                   48|              46|                71|              49|              59|           68|           31|            69|              15|                  24|                     17|                   16|              55|                 27|                 36|                         21|                       14|                      19|                74|                  71|                 79|                     72|                  75|               47|       1200000|       Anthony Moris|Goalkeeper|        Goalkeeper| 33|[13.7220301424449...|      1|[13.7220301424449...|\n",
      "|   258919|     79|      188|       85|         England|         Right|        3|          1|Medium/Medium|   0|       0|      0|        0|        0|     0|                14|                  9|                        13|                     45|                5|             13|         13|               10|                48|                35|                   55|                   56|              61|                77|              56|              58|           68|           32|            64|               6|                  35|                     11|                    8|              55|                 16|                 60|                         15|                       14|                      14|                80|                  78|                 77|                     75|                  82|               56|      18000000|      Dean Henderson|Goalkeeper|        Goalkeeper| 26|[13.7032741309333...|      1|[13.7032741309333...|\n",
      "|    40423|     78|      184|       80|           Chile|         Right|        3|          1|Medium/Medium|   0|       0|      0|        0|        0|     0|                12|                 13|                        18|                     56|               11|             22|         25|               38|                57|                32|                   58|                   54|              63|                72|              62|              63|           81|           39|            69|              17|                  40|                     23|                   16|              69|                 23|                 64|                         15|                       18|                      19|                77|                  78|                 84|                     78|                  78|               56|        900000|       Claudio Bravo|Goalkeeper|        Goalkeeper| 40|[12.2571962725323...|      1|[12.2571962725323...|\n",
      "|   128969|     78|      184|       82|       Australia|         Right|        4|          1|Medium/Medium|   0|       0|      0|        0|        0|     0|                23|                 11|                        14|                     40|               15|             13|         23|               12|                45|                24|                   53|                   52|              53|                73|              50|              62|           78|           34|            65|              18|                  36|                     23|                   10|              68|                 25|                 64|                         10|                       20|                      17|                78|                  76|                 82|                     76|                  80|               52|       5000000|         Mathew Ryan|Goalkeeper|        Goalkeeper| 31|[13.1444530194016...|      1|[13.1444530194016...|\n",
      "|   210528|     74|      188|       86|          Sweden|          Left|        3|          1|Medium/Medium|   0|       0|      0|        0|        0|     0|                15|                 15|                        16|                     40|               14|             16|         17|               15|                39|                30|                   46|                   47|              47|                69|              33|              56|           57|           35|            68|              15|                  27|                     15|                   14|              68|                 26|                 66|                         23|                       14|                      16|                73|                  72|                 74|                     72|                  75|               47|        800000|         Jacob Rinne|Goalkeeper|        Goalkeeper| 29|[13.4865816970079...|      1|[13.4865816970079...|\n",
      "|     9422|     74|      183|       74|        Scotland|         Right|        3|          1|Medium/Medium|   0|       0|      0|        0|        0|     0|                11|                 20|                        13|                     36|               15|             20|         20|               14|                39|                29|                   33|                   41|              65|                70|              51|              52|           68|           30|            71|              14|                  45|                     20|                   13|              58|                 23|                 59|                         15|                       13|                      15|                73|                  73|                 69|                     76|                  74|               37|        500000|      Allan McGregor|Goalkeeper|        Goalkeeper| 41|[13.2107547891166...|      1|[13.2107547891166...|\n",
      "|    73731|     73|      188|       80|         Romania|         Right|        3|          1|Medium/Medium|   0|       0|      0|        0|        0|     0|                19|                 14|                        16|                     30|               13|             17|         15|               18|                21|                23|                   38|                   35|              67|                71|              62|              52|           53|           27|            62|              17|                  39|                     14|                   10|              69|                 17|                 65|                         11|                       19|                      13|                72|                  70|                 69|                     74|                  74|               36|        350000|     Silviu Lung Jr.|Goalkeeper|        Goalkeeper| 33|[13.5239611198149...|      1|[13.5239611198149...|\n",
      "|   221624|     77|      191|       86|   United States|         Right|        3|          1|Medium/Medium|   0|       0|      0|        0|        0|     0|                14|                  9|                        13|                     52|                8|             15|         13|               11|                52|                31|                   54|                   52|              58|                71|              49|              56|           71|           39|            69|              12|                  31|                     19|                    9|              58|                 37|                 56|                         13|                       12|                      12|                79|                  74|                 75|                     72|                  82|               53|       6000000|        Zack Steffen|Goalkeeper|        Goalkeeper| 28|[13.4193487621973...|      1|[13.4193487621973...|\n",
      "|    74689|     74|      184|       79|        Portugal|         Right|        3|          1|Medium/Medium|   0|       0|      0|        0|        0|     0|                33|                 12|                         9|                     55|               14|             29|         49|               36|                60|                35|                   59|                   54|              57|                72|              57|              58|           74|           34|            57|              18|                  37|                     12|                    9|              60|                 49|                 61|                         18|                       21|                      24|                74|                  69|                 77|                     73|                  74|               56|        200000|       Marco Pereira|Goalkeeper|        Goalkeeper| 36|[11.6584403346191...|      1|[11.6584403346191...|\n",
      "|   290537|     77|      188|       86|          France|         Right|        4|          1|Medium/Medium|   0|       0|      0|        0|        0|     0|                14|                 17|                        20|                     38|               17|             30|         13|               14|                56|                31|                   49|                   40|              37|                73|              54|              58|           58|           42|            58|              11|                  21|                     17|                   20|              60|                 21|                 27|                         13|                       12|                      13|                76|                  76|                 77|                     75|                  79|               44|       3000000|          Jean Butez|Goalkeeper|        Goalkeeper| 27|[13.6902930784968...|      1|[13.6902930784968...|\n",
      "|   160929|     77|      190|       86|         Germany|         Right|        3|          1|Medium/Medium|   0|       0|      0|        0|        0|     0|                21|                 15|                        15|                     53|               15|             20|         20|                9|                49|                39|                   49|                   43|              45|                71|              46|              59|           64|           36|            70|              17|                  28|                     17|                   12|              66|                 28|                 61|                         21|                       16|                      17|                77|                  73|                 78|                     75|                  80|               46|       3000000|      Marvin Schwäbe|Goalkeeper|        Goalkeeper| 28|[13.0726671062751...|      1|[13.0726671062751...|\n",
      "|    85627|     67|      183|       84|        Scotland|         Right|        3|          1|Medium/Medium|   0|       0|      0|        0|        0|     0|                16|                 12|                        16|                     52|               15|             13|         16|               21|                45|                40|                   55|                   52|              65|                64|              53|              51|           72|           30|            66|              14|                  32|                     24|                   14|              62|                 19|                 59|                         17|                       11|                      10|                68|                  62|                 68|                     61|                  72|               53|        800000|          Scott Bain|Goalkeeper|        Goalkeeper| 31|[12.6935095365979...|      1|[12.6935095365979...|\n",
      "|   163568|     77|      196|       80|         Senegal|         Right|        3|          1|Medium/Medium|   0|       0|      0|        0|        0|     0|                15|                 16|                        11|                     34|               11|             15|         12|               12|                41|                24|                   43|                   41|              60|                73|              54|              53|           78|           33|            65|              15|                  16|                     21|                   16|              61|                 23|                 57|                         18|                       14|                      10|                77|                  76|                 71|                     76|                  76|               42|       8000000|        Alfred Gomis|Goalkeeper|        Goalkeeper| 29|[13.8483712641302...|      1|[13.8483712641302...|\n",
      "|   247915|     79|      189|       80|     Switzerland|         Right|        4|          1|Medium/Medium|   0|       0|      0|        0|        0|     0|                24|                 17|                        24|                     45|               15|             27|         21|               16|                35|                31|                   52|                   51|              32|                74|              51|              55|           75|           35|            72|              18|                  22|                     25|                   15|              48|                 27|                 55|                         20|                       21|                      24|                80|                  75|                 73|                     76|                  82|               51|       8000000|         Jonas Omlin|Goalkeeper|        Goalkeeper| 29|[13.2482214537107...|      1|[13.2482214537107...|\n",
      "|    54534|     79|      188|       81|       Argentina|         Right|        3|          1|Medium/Medium|   0|       0|      0|        0|        0|     0|                18|                 14|                        11|                     37|               15|             24|         16|               15|                34|                20|                   55|                   52|              65|                75|              60|              57|           73|           38|            59|              12|                  45|                     15|                   18|              65|                 14|                 64|                         22|                       15|                      15|                80|                  77|                 76|                     79|                  80|               53|       6000000|   Agustín Marchesín|Goalkeeper|        Goalkeeper| 35|[13.3297545410863...|      1|[13.3297545410863...|\n",
      "|   195488|     74|      196|       90|       Argentina|         Right|        3|          1|Medium/Medium|   0|       0|      0|        0|        0|     0|                23|                 12|                        14|                     49|               13|             20|         31|               21|                54|                31|                   57|                   56|              57|                59|              50|              59|           74|           42|            55|              19|                  40|                     19|                   15|              64|                 40|                 61|                         23|                       21|                      14|                76|                  74|                 78|                     73|                  77|               56|       3000000|     Paulo Gazzaniga|Goalkeeper|        Goalkeeper| 31|[12.6861461748012...|      1|[12.6861461748012...|\n",
      "|    33862|     73|      186|       83|          Turkey|         Right|        4|          1|Medium/Medium|   0|       0|      0|        0|        0|     0|                15|                 12|                        29|                     44|               13|             17|         19|               11|                52|                21|                   48|                   38|              52|                67|              43|              56|           65|           26|            72|              11|                  35|                     11|                   17|              55|                 28|                 65|                         13|                       14|                      13|                70|                  76|                 74|                     73|                  71|               43|       1700000|         Sinan Bolat|Goalkeeper|        Goalkeeper| 34|[13.2974540456693...|      1|[13.2974540456693...|\n",
      "|    85941|     80|      185|       88|         Germany|         Right|        4|          1|Medium/Medium|   0|       0|      0|        0|        0|     0|                18|                 15|                        20|                     40|               13|             20|         16|               12|                55|                38|                   51|                   53|              42|                80|              54|              65|           77|           33|            73|              12|                  29|                     27|                   10|              66|                 24|                 59|                         29|                       12|                      15|                76|                  74|                 86|                     80|                  85|               52|       6000000|       Stefan Ortega|Goalkeeper|        Goalkeeper| 30|[13.1306556716201...|      1|[13.1306556716201...|\n",
      "|   333640|     73|      193|       90|     Netherlands|         Right|        3|          1|Medium/Medium|   0|       0|      0|        0|        0|     0|                12|                 13|                        21|                     44|               12|             25|         21|               21|                39|                40|                   50|                   52|              62|                65|              49|              58|           75|           43|            70|              16|                  22|                     10|                   10|              53|                 32|                 65|                         12|                       20|                      19|                74|                  72|                 77|                     71|                  75|               51|       4500000|        Joël Drommel|Goalkeeper|        Goalkeeper| 26|[13.0969344237439...|      1|[13.0969344237439...|\n",
      "|   286415|     79|      189|       77|           Spain|          Left|        3|          1|Medium/Medium|   0|       0|      0|        0|        0|     0|                24|                 19|                        15|                     63|               17|             18|         23|               21|                55|                43|                   45|                   52|              40|                63|              57|              58|           71|           42|            52|              18|                  39|                     16|                   20|              68|                 25|                 62|                         19|                       20|                      11|                80|                  79|                 77|                     81|                  81|               49|      12000000|           Pau López|Goalkeeper|        Goalkeeper| 28|[12.4093453494343...|      1|[12.4093453494343...|\n",
      "|    25520|     75|      187|       88|     Netherlands|         Right|        4|          1|Medium/Medium|   0|       0|      0|        0|        0|     0|                15|                 12|                        16|                     37|               18|             17|         18|               14|                52|                34|                   46|                   38|              42|                67|              36|              62|           65|           35|            70|              16|                  30|                     13|                   15|              59|                 28|                 57|                         14|                       18|                      20|                73|                  76|                 82|                     75|                  76|               42|        250000|       Remko Pasveer|Goalkeeper|        Goalkeeper| 39|[13.5649996778304...|      1|[13.5649996778304...|\n",
      "|    92248|     70|      187|       83|         Denmark|         Right|        3|          1|Medium/Medium|   0|       0|      0|        0|        0|     0|                12|                 11|                        18|                     56|               12|             28|         16|               12|                54|                40|                   44|                   46|              43|                60|              39|              53|           60|           32|            64|              13|                  20|                     23|                   18|              66|                 19|                 64|                         22|                       11|                      10|                67|                  70|                 70|                     73|                  72|               45|        450000|      Nicolai Larsen|Goalkeeper|        Goalkeeper| 32|[13.0638543976921...|      1|[13.0638543976921...|\n",
      "|    74960|     80|      190|       80|        Slovakia|         Right|        2|          1|Medium/Medium|   0|       0|      0|        0|        0|     0|                12|                 10|                        12|                     48|               11|             19|         15|               13|                59|                33|                   48|                   44|              47|                73|              60|              59|           74|           38|            60|              17|                  28|                     25|                   12|              58|                 20|                 59|                         19|                       15|                      14|                78|                  76|                 79|                     77|                  81|               46|       5000000|     Martin Dúbravka|Goalkeeper|        Goalkeeper| 34|[13.3716947401551...|      1|[13.3716947401551...|\n",
      "|   227805|     74|      185|       73|           Spain|         Right|        3|          1|Medium/Medium|   0|       0|      0|        0|        0|     0|                30|                 11|                        16|                     57|               18|             13|         25|               13|                55|                32|                   58|                   58|              60|                72|              59|              56|           72|           40|            68|              12|                  21|                     25|                   16|              43|                 25|                 56|                         20|                       12|                      22|                71|                  74|                 74|                     71|                  75|               58|       2500000|      Jaume Doménech|Goalkeeper|        Goalkeeper| 32|[12.6067692776240...|      1|[12.6067692776240...|\n",
      "|    40792|     79|      186|       83|         Germany|         Right|        5|          1|Medium/Medium|   0|       0|      0|        0|        0|     0|                17|                 12|                        15|                     59|               13|             30|         15|               14|                65|                47|                   57|                   45|              49|                71|              64|              64|           70|           43|            65|              18|                  38|                     32|                   13|              69|                 34|                 67|                         30|                       14|                      19|                78|                  74|                 85|                     78|                  82|               50|       1000000|      Manuel Riemann|Goalkeeper|        Goalkeeper| 34|[11.8829413651082...|      1|[11.8829413651082...|\n",
      "|   190280|     70|      188|       84|          Sweden|         Right|        3|          1|Medium/Medium|   0|       0|      0|        0|        0|     0|                18|                 16|                        15|                     47|               17|             19|         22|               18|                44|                35|                   42|                   42|              52|                68|              52|              52|           64|           34|            64|              17|                  29|                     20|                   16|              60|                 21|                 58|                         22|                       14|                      14|                69|                  69|                 69|                     68|                  72|               42|       1000000|     Patrik Carlgren|Goalkeeper|        Goalkeeper| 31|[12.9457566515476...|      1|[12.9457566515476...|\n",
      "|   110036|     73|      188|       89|         Germany|          Left|        3|          2|Medium/Medium|  54|      37|     59|       58|       73|    78|                47|                 23|                        73|                     66|               26|             58|         55|               32|                65|                62|                   52|                   55|              43|                71|              48|              49|           63|           66|            86|              56|                  77|                     72|                   45|              61|                 41|                 68|                         72|                       75|                      75|                14|                  15|                  7|                      9|                  15|                0|       3000000|    Dominique Heintz|  Defender|       Centre-Back| 29|[0.99743873285241...|      2|[0.99743873285241...|\n",
      "|    33829|     80|      191|       84|        Portugal|         Right|        3|          2|  Medium/High|  31|      46|     62|       62|       82|    80|                47|                 42|                        84|                     74|               36|             61|         51|               32|                69|                68|                   31|                   31|              37|                83|              48|              60|           72|           76|            82|              43|                  83|                     81|                   48|              63|                 43|                 79|                         82|                       82|                      77|                 7|                  11|                 16|                     10|                   6|                0|       1000000|          José Fonte|  Defender|       Centre-Back| 39|[0.13522996887716...|      2|[0.13522996887716...|\n",
      "|    92947|     74|      185|       76|           Spain|         Right|        3|          2|  Medium/High|  58|      46|     62|       61|       75|    72|                45|                 40|                        73|                     72|               39|             57|         52|               46|                70|                69|                   64|                   53|              54|                72|              44|              58|           81|           63|            76|              48|                  71|                     74|                   52|              63|                 40|                 68|                         76|                       75|                      74|                15|                  16|                 11|                     11|                   7|                0|       3000000|         Sergi Gómez|  Defender|       Centre-Back| 31|[-0.0864390091281...|      2|[-0.0864390091281...|\n",
      "|    43256|     71|      185|       83|          France|         Right|        3|          2|Medium/Medium|  41|      45|     61|       61|       72|    69|                59|                 40|                        74|                     67|               29|             62|         56|               36|                64|                58|                   34|                   46|              55|                68|              64|              59|           69|           44|            80|              46|                  75|                     73|                   48|              59|                 50|                 69|                         73|                       72|                      68|                11|                  15|                 10|                     12|                  11|                0|       1000000|         Paul Baysse|  Defender|       Centre-Back| 35|[0.84360290146141...|      2|[0.84360290146141...|\n",
      "+---------+-------+---------+---------+----------------+--------------+---------+-----------+-------------+----+--------+-------+---------+---------+------+------------------+-------------------+--------------------------+-----------------------+-----------------+---------------+-----------+-----------------+------------------+------------------+---------------------+---------------------+----------------+------------------+----------------+----------------+-------------+-------------+--------------+----------------+--------------------+-----------------------+---------------------+----------------+-------------------+-------------------+---------------------------+-------------------------+------------------------+------------------+--------------------+-------------------+-----------------------+--------------------+-----------------+--------------+--------------------+----------+------------------+---+--------------------+-------+--------------------+\n",
      "only showing top 100 rows\n",
      "\n"
     ]
    }
   ],
   "source": [
    "df_k_means1.show(100)"
   ]
  },
  {
   "cell_type": "code",
   "execution_count": 30,
   "metadata": {},
   "outputs": [
    {
     "name": "stdout",
     "output_type": "stream",
     "text": [
      "+---------+-------+---------+---------+----------------+--------------+---------+-----------+-------------+----+--------+-------+---------+---------+------+------------------+-------------------+--------------------------+-----------------------+-----------------+---------------+-----------+-----------------+------------------+------------------+---------------------+---------------------+----------------+------------------+----------------+----------------+-------------+-------------+--------------+----------------+--------------------+-----------------------+---------------------+----------------+-------------------+-------------------+---------------------------+-------------------------+------------------------+------------------+--------------------+-------------------+-----------------------+--------------------+-----------------+--------------+--------------------+--------+------------------+---+--------------------+-------+--------------------+\n",
      "|player_id|overall|height_cm|weight_kg|nationality_name|preferred_foot|weak_foot|skill_moves|    work_rate|pace|shooting|passing|dribbling|defending|physic|attacking_crossing|attacking_finishing|attacking_heading_accuracy|attacking_short_passing|attacking_volleys|skill_dribbling|skill_curve|skill_fk_accuracy|skill_long_passing|skill_ball_control|movement_acceleration|movement_sprint_speed|movement_agility|movement_reactions|movement_balance|power_shot_power|power_jumping|power_stamina|power_strength|power_long_shots|mentality_aggression|mentality_interceptions|mentality_positioning|mentality_vision|mentality_penalties|mentality_composure|defending_marking_awareness|defending_standing_tackle|defending_sliding_tackle|goalkeeping_diving|goalkeeping_handling|goalkeeping_kicking|goalkeeping_positioning|goalkeeping_reflexes|goalkeeping_speed|last_valuation|                name|position|      sub_position|age|         pcaFeatures|cluster|            features|\n",
      "+---------+-------+---------+---------+----------------+--------------+---------+-----------+-------------+----+--------+-------+---------+---------+------+------------------+-------------------+--------------------------+-----------------------+-----------------+---------------+-----------+-----------------+------------------+------------------+---------------------+---------------------+----------------+------------------+----------------+----------------+-------------+-------------+--------------+----------------+--------------------+-----------------------+---------------------+----------------+-------------------+-------------------+---------------------------+-------------------------+------------------------+------------------+--------------------+-------------------+-----------------------+--------------------+-----------------+--------------+--------------------+--------+------------------+---+--------------------+-------+--------------------+\n",
      "|   503991|     73|      178|       73|   United States|         Right|        3|          4|  High/Medium|  85|      69|     66|       75|       59|    67|                66|                 68|                        44|                     73|               48|             79|         60|               54|                62|                75|                   82|                   87|              70|                65|              66|              77|           64|           71|            69|              73|                  59|                     62|                   70|              63|                 50|                 63|                         62|                       59|                      59|                15|                   6|                 14|                      6|                  10|                0|      15000000|         Yunus Musah|Midfield|  Central Midfield| 20|[-2.8841038925482...|      0|[-2.8841038925482...|\n",
      "|   345760|     75|      185|       75|        Scotland|         Right|        4|          3|  High/Medium|  68|      72|     77|       74|       63|    65|                76|                 69|                        48|                     77|               63|             74|         76|               73|                77|                76|                   67|                   69|              69|                72|              74|              72|           57|           78|            68|              78|                  42|                     69|                   71|              80|                 75|                 78|                         62|                       67|                      57|                 5|                   8|                 10|                     15|                   5|                0|       6500000|      David Turnbull|Midfield|  Central Midfield| 23|[-3.8804740299814...|      0|[-3.8804740299814...|\n",
      "|   367468|     74|      179|       73|        Portugal|         Right|        3|          3|  High/Medium|  80|      69|     71|       73|       67|    68|                60|                 67|                        54|                     76|               61|             73|         64|               60|                78|                75|                   80|                   80|              67|                74|              78|              75|           59|           79|            69|              72|                  56|                     66|                   66|              71|                 62|                 72|                         66|                       72|                      70|                11|                  14|                 12|                      5|                  14|                0|       2500000|         Nuno Santos|  Attack|Attacking Midfield| 24|[-3.5108131571293...|      0|[-3.5108131571293...|\n",
      "|   503866|     67|      185|       73|         Denmark|         Right|        3|          3|  High/Medium|  77|      63|     67|       71|       58|    66|                64|                 66|                        55|                     68|               55|             68|         64|               62|                65|                71|                   78|                   76|              80|                68|              76|              64|           61|           73|            63|              60|                  67|                     56|                   66|              72|                 55|                 73|                         55|                       62|                      61|                 8|                  12|                 13|                      6|                   9|                0|       1000000|     Albert Grönbaek|Midfield|  Central Midfield| 21|[-2.3677227546180...|      0|[-2.3677227546180...|\n",
      "|   423444|     79|      165|       64|           Spain|         Right|        3|          3|  Medium/High|  60|      56|     77|       77|       77|    65|                72|                 53|                        60|                     84|               55|             78|         54|               55|                82|                77|                   62|                   58|              77|                75|              78|              61|           57|           67|            63|              60|                  68|                     78|                   63|              79|                 49|                 66|                         77|                       81|                      80|                14|                  11|                  8|                     13|                   9|                0|      14000000|        Fran Beltrán|Midfield|  Central Midfield| 24|[-3.2682798862151...|      0|[-3.2682798862151...|\n",
      "|   285845|     75|      177|       71|         England|         Right|        3|          4|Medium/Medium|  78|      62|     70|       74|       70|    71|                69|                 58|                        50|                     74|               44|             73|         64|               50|                68|                75|                   79|                   77|              79|                73|              71|              69|           66|           78|            69|              66|                  69|                     70|                   70|              70|                 69|                 73|                         71|                       75|                      72|                15|                   9|                  7|                     10|                  13|                0|      12000000|Ainsley Maitland-...|Midfield|    Right Midfield| 25|[-3.5062612237917...|      0|[-3.5062612237917...|\n",
      "|   314210|     75|      180|       70|         England|         Right|        3|          3|Medium/Medium|  65|      64|     73|       75|       69|    70|                66|                 64|                        61|                     79|               42|             76|         64|               61|                74|                77|                   66|                   64|              63|                74|              69|              70|           56|           73|            65|              67|                  84|                     69|                   69|              76|                 49|                 76|                         68|                       73|                      69|                11|                  12|                  9|                     14|                  10|                0|      18000000|          Tom Davies|Midfield|  Central Midfield| 24|[-3.0184853421545...|      0|[-3.0184853421545...|\n",
      "|   335225|     73|      178|       75|           Spain|         Right|        3|          3|Medium/Medium|  68|      64|     74|       73|       69|    67|                67|                 64|                        55|                     78|               60|             72|         68|               70|                76|                74|                   72|                   65|              72|                73|              73|              66|           64|           72|            65|              65|                  66|                     70|                   60|              75|                 68|                 73|                         72|                       69|                      68|                 5|                   9|                 14|                     11|                  14|                0|       5000000|       Manu Morlanes|Midfield|  Central Midfield| 24|[-3.1457997391178...|      0|[-3.1457997391178...|\n",
      "|   344649|     67|      177|       74|          Kosovo|         Right|        4|          3|  High/Medium|  69|      57|     65|       68|       64|    70|                59|                 51|                        61|                     69|               63|             67|         65|               55|                66|                68|                   70|                   69|              72|                68|              73|              67|           71|           80|            66|              60|                  67|                     63|                   64|              64|                 50|                 68|                         64|                       65|                      62|                 6|                  14|                  9|                     14|                  13|                0|       1000000|       Toni Domgjoni|Midfield|  Central Midfield| 24|[-1.9450218790728...|      0|[-1.9450218790728...|\n",
      "|   467992|     74|      178|       72|           Italy|         Right|        3|          3|Medium/Medium|  74|      55|     70|       71|       71|    70|                62|                 42|                        57|                     76|               54|             69|         56|               62|                72|                73|                   75|                   74|              76|                72|              70|              70|           67|           82|            64|              68|                  72|                     72|                   68|              69|                 52|                 75|                         74|                       73|                      72|                14|                  12|                  6|                     11|                  13|                0|      12000000|       Samuele Ricci|Midfield|Defensive Midfield| 21|[-2.8795758175063...|      0|[-2.8795758175063...|\n",
      "|   249952|     71|      178|       72|          Turkey|         Right|        3|          3|Medium/Medium|  70|      64|     72|       75|       55|    66|                67|                 63|                        43|                     75|               53|             75|         73|               62|                73|                76|                   72|                   68|              76|                70|              75|              68|           57|           74|            66|              65|                  59|                     60|                   65|              73|                 58|                 72|                         54|                       58|                      47|                11|                  12|                 11|                     13|                  13|                0|       4000000|        Berkay Özcan|Midfield|  Central Midfield| 25|[-2.6110769337608...|      0|[-2.6110769337608...|\n",
      "|   543387|     76|      180|       73|            Mali|         Right|        3|          3|  Medium/High|  68|      57|     71|       76|       74|    76|                54|                 56|                        58|                     79|               48|             76|         59|               47|                77|                79|                   66|                   69|              72|                76|              71|              59|           66|           78|            77|              56|                  75|                     76|                   67|              77|                 52|                 77|                         72|                       80|                      74|                10|                  14|                 12|                     12|                  15|                0|      10000000|     Cheick Doucouré|Midfield|Defensive Midfield| 23|[-2.8103603414619...|      0|[-2.8103603414619...|\n",
      "|   333516|     71|      175|       75|          Greece|         Right|        3|          3|Medium/Medium|  67|      61|     67|       73|       65|    73|                59|                 59|                        46|                     73|               42|             72|         45|               56|                70|                72|                   74|                   61|              79|                72|              85|              68|           67|           81|            68|              62|                  75|                     64|                   70|              71|                 49|                 73|                         67|                       70|                      63|                12|                   7|                 14|                     14|                  12|                0|       2000000|Sebastian Vasiliadis|Midfield|  Central Midfield| 25|[-2.3661531805303...|      0|[-2.3661531805303...|\n",
      "|   422763|     70|      178|       74|         Belgium|         Right|        4|          3|    High/High|  68|      62|     70|       72|       65|    75|                68|                 57|                        66|                     72|               58|             70|         69|               67|                72|                73|                   70|                   67|              77|                67|              77|              71|           80|           82|            68|              68|                  82|                     68|                   54|              70|                 58|                 68|                         61|                       69|                      62|                14|                  14|                 13|                     11|                   7|                0|       5000000|      Nicolas Raskin|Midfield|  Central Midfield| 22|[-3.0108130745166...|      0|[-3.0108130745166...|\n",
      "|   284854|     73|      180|       73|           Spain|          Left|        2|          4|Medium/Medium|  68|      67|     74|       73|       59|    59|                67|                 66|                        34|                     79|               41|             71|         67|               59|                75|                75|                   69|                   68|              74|                76|              70|              68|           49|           59|            62|              73|                  55|                     70|                   70|              77|                 73|                 79|                         64|                       59|                      50|                12|                   9|                 10|                      8|                  12|                0|       9000000|        Carles Aleñá|Midfield|  Central Midfield| 25|[-2.8808988094361...|      0|[-2.8808988094361...|\n",
      "|   488784|     71|      175|       64|         Denmark|         Right|        3|          3|Medium/Medium|  68|      61|     69|       71|       63|    73|                60|                 58|                        45|                     72|               60|             69|         65|               65|                73|                71|                   70|                   66|              77|                70|              79|              70|           57|           87|            71|              60|                  65|                     65|                   65|              72|                 57|                 73|                         65|                       66|                      58|                12|                  10|                 11|                      9|                   6|                0|       3500000|Magnus Kofod Ande...|Midfield|  Central Midfield| 24|[-2.8507851019611...|      0|[-2.8507851019611...|\n",
      "|   322305|     72|      177|       75|          France|          Left|        3|          3|    High/High|  66|      66|     71|       72|       72|    70|                69|                 60|                        70|                     77|               69|             72|         66|               59|                70|                74|                   70|                   63|              65|                69|              70|              75|           62|           73|            69|              69|                  69|                     69|                   66|              68|                 59|                 70|                         70|                       77|                      74|                 8|                   9|                  9|                      8|                   9|                0|       4000000| Jean-Victor Makengo|Midfield|  Central Midfield| 24|[-3.0354387736786...|      0|[-3.0354387736786...|\n",
      "|   346707|     74|      180|       65|         England|         Right|        3|          2|Medium/Medium|  61|      65|     72|       71|       68|    67|                60|                 61|                        49|                     77|               56|             72|         68|               69|                74|                75|                   61|                   61|              57|                75|              68|              73|           61|           77|            67|              69|                  56|                     74|                   68|              75|                 54|                 74|                         69|                       72|                      62|                 6|                   8|                 13|                     14|                  12|                0|      13000000|      Sean Longstaff|Midfield|  Central Midfield| 25|[-2.5092324015967...|      0|[-2.5092324015967...|\n",
      "|   360140|     71|      182|       72|           Ghana|         Right|        3|          3|Medium/Medium|  73|      65|     69|       75|       62|    64|                65|                 64|                        41|                     75|               55|             74|         58|               48|                70|                76|                   75|                   71|              85|                68|              68|              70|           73|           68|            63|              68|                  61|                     64|                   67|              68|                 54|                 68|                         63|                       66|                      60|                12|                  12|                 11|                     12|                  12|                0|       2500000|     Majeed Ashimeru|Midfield|  Central Midfield| 25|[-2.3476529594138...|      0|[-2.3476529594138...|\n",
      "|   569598|     79|      176|       69|          France|         Right|        3|          3|  Medium/High|  68|      67|     74|       76|       75|    77|                66|                 64|                        58|                     78|               46|             77|         66|               56|                77|                78|                   68|                   68|              70|                77|              75|              76|           59|           83|            75|              69|                  77|                     78|                   74|              77|                 64|                 76|                         74|                       80|                      74|                12|                   7|                 12|                      5|                   9|                0|      14000000|     Youssouf Fofana|Midfield|  Central Midfield| 24|[-4.1635289567776...|      0|[-4.1635289567776...|\n",
      "|   504090|     67|      180|       75|        Portugal|         Right|        4|          3|Medium/Medium|  72|      63|     64|       72|       53|    66|                61|                 59|                        42|                     67|               63|             72|         68|               52|                62|                73|                   74|                   71|              68|                73|              62|              71|           57|           73|            64|              64|                  64|                     57|                   65|              65|                 57|                 74|                         47|                       62|                      44|                11|                   5|                  9|                     10|                   5|                0|       5000000|      Paulo Bernardo|Midfield|  Central Midfield| 21|[-1.9600388336569...|      0|[-1.9600388336569...|\n",
      "|   295622|     76|      174|       66|         Albania|         Right|        3|          3|Medium/Medium|  75|      60|     68|       74|       72|    79|                57|                 56|                        55|                     75|               45|             73|         66|               46|                72|                72|                   76|                   75|              83|                77|              82|              74|           58|           86|            76|              54|                  83|                     74|                   70|              71|                 64|                 73|                         75|                       74|                      72|                13|                  12|                 11|                     11|                  13|                0|       4000000|          Keidi Bare|Midfield|  Central Midfield| 25|[-3.5133075411824...|      0|[-3.5133075411824...|\n",
      "|   298975|     75|      183|       70|           Spain|         Right|        3|          3|Medium/Medium|  75|      62|     71|       73|       71|    70|                77|                 60|                        62|                     72|               58|             73|         72|               61|                66|                75|                   77|                   73|              68|                72|              73|              65|           64|           81|            66|              66|                  70|                     67|                   66|              68|                 57|                 70|                         73|                       74|                      73|                12|                  12|                  5|                      9|                  13|                0|       9000000|          Pol Lirola|Defender|        Right-Back| 25|[-3.1250818532791...|      0|[-3.1250818532791...|\n",
      "|   401578|     78|      177|       67|       Argentina|         Right|        4|          3|    High/High|  66|      73|     76|       78|       74|    72|                67|                 70|                        59|                     82|               63|             78|         68|               51|                80|                79|                   74|                   60|              78|                70|              79|              81|           70|           83|            65|              76|                  78|                     80|                   67|              78|                 63|                 78|                         73|                       75|                      76|                10|                   5|                  8|                      9|                   6|                0|      15000000|   Exequiel Palacios|Midfield|  Central Midfield| 24|[-4.8157848682118...|      0|[-4.8157848682118...|\n",
      "|   357233|     73|      174|       68|      Luxembourg|         Right|        3|          3|  Medium/High|  75|      58|     67|       77|       70|    64|                54|                 61|                        49|                     75|               54|             76|         62|               46|                71|                77|                   76|                   74|              88|                72|              91|              57|           83|           89|            44|              55|                  76|                     76|                   60|              70|                 47|                 64|                         73|                       72|                      67|                14|                   9|                  6|                      6|                   6|                0|       9000000|    Leandro Barreiro|Midfield|  Central Midfield| 23|[-3.2082705297083...|      0|[-3.2082705297083...|\n",
      "|   461629|     70|      178|       68|          Brazil|         Right|        3|          3|Medium/Medium|  66|      58|     64|       73|       67|    65|                50|                 54|                        54|                     70|               56|             72|         58|               63|                69|                73|                   68|                   65|              76|                70|              75|              70|           72|           76|            58|              60|                  68|                     68|                   56|              64|                 42|                 75|                         68|                       70|                      68|                 6|                   7|                 10|                      7|                  13|                0|       4500000|    Gustavo Assunção|Midfield|Defensive Midfield| 23|[-2.0960128161867...|      0|[-2.0960128161867...|\n",
      "|   525704|     73|      179|       70|           Italy|         Right|        4|          3|Medium/Medium|  72|      53|     73|       76|       68|    64|                65|                 46|                        48|                     77|               60|             75|         67|               71|                73|                77|                   69|                   75|              77|                72|              77|              66|           67|           83|            53|              53|                  68|                     70|                   60|              76|                 56|                 72|                         69|                       72|                      69|                 9|                  12|                 11|                      9|                  10|                0|      10000000|      Nicolò Rovella|Midfield|Defensive Midfield| 21|[-3.1418611223193...|      0|[-3.1418611223193...|\n",
      "|   533916|     69|      175|       67|         Grenada|         Right|        4|          3|Medium/Medium|  72|      58|     67|       74|       66|    68|                65|                 56|                        61|                     72|               58|             75|         51|               41|                66|                74|                   75|                   69|              72|                68|              77|              60|           65|           67|            69|              60|                  66|                     67|                   67|              69|                 41|                 70|                         68|                       65|                      63|                 5|                  13|                 10|                     15|                  14|                0|       3000000|    Shandon Baptiste|Midfield|  Central Midfield| 25|[-2.0588436168746...|      0|[-2.0588436168746...|\n",
      "|   610083|     77|      176|       71|           Spain|         Right|        4|          3|Medium/Medium|  62|      70|     75|       76|       74|    74|                65|                 68|                        54|                     79|               56|             75|         78|               81|                76|                77|                   70|                   56|              74|                74|              82|              74|           65|           81|            74|              80|                  68|                     75|                   70|              76|                 49|                 76|                         76|                       80|                      72|                15|                   6|                 10|                      6|                  13|                0|      10000000|       Unai Vencedor|Midfield|  Central Midfield| 22|[-4.2244985694254...|      0|[-4.2244985694254...|\n",
      "|   471582|     72|      182|       81|          France|          Left|        3|          3|Medium/Medium|  64|      58|     70|       76|       64|    73|                62|                 53|                        47|                     75|               55|             78|         66|               65|                73|                77|                   64|                   64|              73|                67|              73|              72|           67|           76|            72|              53|                  72|                     69|                   68|              71|                 55|                 70|                         64|                       68|                      61|                13|                   9|                 10|                     12|                  11|                0|       4000000|     Zaydou Youssouf|Midfield|  Central Midfield| 23|[-2.3033836797292...|      0|[-2.3033836797292...|\n",
      "|   465967|     76|      180|       73|           Spain|         Right|        3|          3|Medium/Medium|  50|      64|     74|       72|       73|    69|                60|                 70|                        54|                     82|               44|             69|         61|               59|                80|                75|                   53|                   47|              68|                78|              69|              52|           64|           76|            66|              69|                  68|                     73|                   66|              75|                 51|                 77|                         72|                       81|                      70|                14|                  12|                 11|                     14|                  14|                0|       7500000|       Ander Guevara|Midfield|  Central Midfield| 25|[-2.2718527515038...|      0|[-2.2718527515038...|\n",
      "|   289592|     75|      178|       80|         Belgium|         Right|        3|          3|Medium/Medium|  64|      54|     71|       82|       70|    72|                61|                 43|                        51|                     78|               50|             83|         65|               50|                73|                82|                   76|                   55|              79|                78|              85|              66|           67|           77|            70|              68|                  71|                     72|                   64|              76|                 42|                 80|                         76|                       70|                      70|                 7|                   6|                  7|                      7|                  10|                0|      15000000|        Orel Mangala|Midfield|  Central Midfield| 25|[-3.2476035357133...|      0|[-3.2476035357133...|\n",
      "|   288248|     65|      173|       68|          France|         Right|        3|          3|Medium/Medium|  73|      61|     65|       67|       63|    72|                60|                 57|                        55|                     69|               49|             67|         64|               66|                67|                67|                   77|                   69|              73|                61|              73|              68|           76|           76|            70|              68|                  70|                     64|                   46|              63|                 61|                 64|                         64|                       65|                      63|                10|                   6|                 12|                      9|                  14|                0|        500000|     Denis Will Poha|Midfield|  Central Midfield| 25|[-1.9247274238668...|      0|[-1.9247274238668...|\n",
      "|   295810|     72|      178|       76|         Romania|         Right|        4|          3|    High/High|  66|      69|     74|       72|       62|    69|                69|                 66|                        50|                     76|               57|             70|         73|               75|                75|                73|                   67|                   66|              74|                68|              81|              74|           76|           78|            61|              73|                  74|                     65|                   70|              73|                 77|                 73|                         61|                       67|                      60|                 5|                   8|                 14|                     10|                  14|                0|       8000000|  Alexandru Cicaldau|Midfield|  Central Midfield| 25|[-3.6987419064162...|      0|[-3.6987419064162...|\n",
      "|   395237|     79|      174|       63|          France|         Right|        3|          3|    High/High|  73|      58|     73|       81|       75|    68|                59|                 55|                        48|                     81|               49|             80|         66|               52|                77|                80|                   75|                   71|              86|                78|              84|              63|           42|           85|            56|              59|                  83|                     80|                   69|              79|                 53|                 78|                         75|                       81|                      71|                 8|                   5|                 12|                      5|                  15|                0|      20000000|    Maxence Caqueret|Midfield|  Central Midfield| 23|[-4.2495877697563...|      0|[-4.2495877697563...|\n",
      "|   353796|     77|      184|       69|           Italy|         Right|        3|          3|  High/Medium|  74|      62|     71|       76|       72|    72|                58|                 58|                        58|                     78|               48|             77|         59|               42|                77|                78|                   73|                   74|              67|                79|              67|              71|           64|           81|            68|              61|                  73|                     76|                   79|              76|                 53|                 76|                         68|                       76|                      75|                 6|                   8|                  9|                      8|                   6|                0|       8000000|     Giulio Maggiore|Midfield|  Central Midfield| 25|[-3.4244161993972...|      0|[-3.4244161993972...|\n",
      "|   381967|     75|      183|       73|         Belgium|         Right|        3|          3|Medium/Medium|  66|      58|     75|       78|       69|    69|                68|                 53|                        61|                     79|               58|             78|         71|               68|                77|                81|                   63|                   69|              78|                72|              68|              68|           71|           79|            63|              63|                  72|                     77|                   65|              75|                 41|                 80|                         64|                       73|                      68|                14|                   7|                  6|                     13|                   9|                0|      16000000|Albert Sambi Lokonga|Midfield|  Central Midfield| 23|[-3.3662335321447...|      0|[-3.3662335321447...|\n",
      "|   416660|     73|      183|       72|         Algeria|         Right|        3|          3|  Medium/High|  73|      64|     69|       73|       66|    79|                58|                 58|                        47|                     75|               57|             72|         64|               67|                75|                75|                   72|                   74|              75|                71|              75|              73|           70|           84|            76|              71|                  80|                     67|                   68|              69|                 57|                 68|                         68|                       68|                      68|                 6|                  11|                 14|                     12|                   6|                0|       1200000|      Ramiz Zerrouki|Midfield|Defensive Midfield| 24|[-3.1742477207219...|      0|[-3.1742477207219...|\n",
      "|   324377|     74|      177|       74|         Morocco|          Left|        3|          3|  Medium/High|  69|      67|     74|       76|       66|    67|                74|                 69|                        51|                     78|               72|             75|         78|               63|                74|                79|                   70|                   68|              75|                69|              75|              68|           53|           78|            64|              60|                  65|                     68|                   75|              70|                 67|                 72|                         67|                       69|                      66|                 6|                  15|                  6|                      5|                   6|                0|       5000000|       Youssef Maleh|Midfield|  Central Midfield| 24|[-3.7281805692795...|      0|[-3.7281805692795...|\n",
      "|   340329|     75|      179|       71|         England|         Right|        3|          3|    High/High|  76|      72|     69|       77|       67|    70|                60|                 75|                        68|                     77|               66|             79|         64|               46|                69|                77|                   75|                   76|              77|                78|              72|              73|           67|           78|            66|              66|                  70|                     70|                   77|              73|                 62|                 72|                         64|                       70|                      59|                11|                   6|                 12|                      8|                   9|                0|      22000000|         Joe Willock|Midfield|  Central Midfield| 23|[-4.0101280398492...|      0|[-4.0101280398492...|\n",
      "|   476237|     71|      180|       75|        Colombia|         Right|        3|          3|Medium/Medium|  68|      60|     69|       75|       62|    68|                65|                 61|                        45|                     75|               50|             76|         61|               54|                67|                73|                   69|                   68|              78|                72|              81|              60|           57|           73|            68|              59|                  64|                     67|                   65|              72|                 55|                 74|                         62|                       66|                      61|                 9|                   6|                  6|                      7|                   6|                0|       6000000|       Steven Alzate|Midfield|  Central Midfield| 24|[-2.4647477670109...|      0|[-2.4647477670109...|\n",
      "|   454567|     79|      175|       68|          Turkey|         Right|        5|          3|Medium/Medium|  72|      71|     81|       79|       65|    76|                77|                 69|                        41|                     84|               64|             77|         78|               70|                82|                83|                   75|                   69|              81|                73|              80|              73|           60|           84|            70|              76|                  83|                     67|                   72|              83|                 73|                 77|                         66|                       71|                      65|                 9|                   6|                 10|                      6|                  12|                0|      17000000|         Orkun Kökcü|Midfield|  Central Midfield| 22|[-5.4500584407316...|      0|[-5.4500584407316...|\n",
      "|   344600|     72|      181|       74|          France|          Left|        3|          4|Medium/Medium|  71|      66|     76|       76|       53|    62|                76|                 59|                        49|                     75|               63|             76|         83|               74|                78|                78|                   80|                   63|              83|                69|              75|              77|           61|           63|            64|              74|                  57|                     48|                   63|              75|                 61|                 62|                         49|                       61|                      54|                 9|                  14|                 11|                      8|                  15|                0|       5000000|    Michaël Cuisance|Midfield|  Central Midfield| 23|[-3.3047289654311...|      0|[-3.3047289654311...|\n",
      "|   261504|     73|      173|       68|           Spain|         Right|        3|          3|Medium/Medium|  65|      69|     72|       75|       64|    63|                60|                 70|                        51|                     77|               56|             73|         70|               69|                76|                76|                   67|                   63|              75|                69|              85|              72|           63|           67|            62|              72|                  60|                     63|                   67|              75|                 54|                 74|                         63|                       70|                      62|                16|                   8|                  9|                     10|                   7|                0|       1800000|        Aleix García|Midfield|  Central Midfield| 25|[-3.1996664568102...|      0|[-3.1996664568102...|\n",
      "|   321204|     75|      169|       65|  Czech Republic|          Left|        4|          3|  Medium/High|  73|      61|     70|       73|       72|    78|                69|                 57|                        64|                     75|               55|             71|         68|               67|                71|                73|                   75|                   72|              75|                72|              84|              66|           79|           84|            74|              68|                  78|                     73|                   62|              65|                 62|                 69|                         72|                       73|                      73|                 7|                  15|                  9|                     14|                  15|                0|       2500000|      Michal Sadilek|Midfield|Defensive Midfield| 23|[-3.7661009308389...|      0|[-3.7661009308389...|\n",
      "|   460939|     71|      185|       73|     Netherlands|         Right|        4|          3|Medium/Medium|  78|      68|     70|       74|       61|    67|                69|                 64|                        55|                     72|               62|             72|         66|               59|                70|                73|                   80|                   76|              84|                73|              74|              76|           73|           75|            64|              76|                  63|                     64|                   62|              72|                 57|                 75|                         63|                       61|                      58|                 6|                  10|                  9|                     14|                   9|                0|       1500000|   Tijjani Reijnders|Midfield|  Central Midfield| 24|[-3.3751617749962...|      0|[-3.3751617749962...|\n",
      "|   393804|     70|      182|       75|         Morocco|         Right|        3|          4|Medium/Medium|  76|      59|     68|       76|       64|    59|                66|                 52|                        62|                     70|               48|             78|         65|               49|                67|                76|                   73|                   79|              76|                70|              71|              68|           58|           72|            54|              68|                  54|                     65|                   65|              71|                 52|                 60|                         60|                       67|                      66|                 8|                   8|                 12|                     15|                   8|                0|       2300000|       Sofian Kiyine|Midfield|     Left Midfield| 25|[-2.2684298361757...|      0|[-2.2684298361757...|\n",
      "|   274461|     70|      172|       70|         Germany|         Right|        4|          3|    High/High|  69|      62|     67|       71|       66|    75|                69|                 61|                        44|                     70|               53|             70|         69|               63|                64|                71|                   76|                   64|              75|                70|              86|              73|           74|           78|            71|              55|                  83|                     62|                   63|              62|                 66|                 64|                         69|                       70|                      73|                10|                  11|                 10|                     16|                   9|                0|       2500000|      Felix Passlack|Defender|        Right-Back| 24|[-2.8460390374118...|      0|[-2.8460390374118...|\n",
      "|   368611|     77|      178|       72|         Ukraine|         Right|        3|          3|Medium/Medium|  77|      72|     76|       78|       65|    68|                72|                 70|                        41|                     78|               58|             78|         72|               74|                76|                80|                   80|                   75|              82|                73|              71|              73|           59|           78|            60|              80|                  80|                     72|                   72|              80|                 59|                 70|                         65|                       69|                      66|                13|                   6|                 12|                     14|                  13|                0|      10000000|   Mykola Shaparenko|Midfield|  Central Midfield| 24|[-4.3341590513712...|      0|[-4.3341590513712...|\n",
      "|   410735|     68|      182|       74|     Netherlands|         Right|        3|          3|  High/Medium|  67|      67|     67|       68|       60|    63|                63|                 69|                        52|                     69|               55|             68|         67|               64|                66|                68|                   69|                   66|              73|                66|              66|              67|           58|           74|            60|              67|                  59|                     61|                   67|              71|                 60|                 66|                         62|                       59|                      58|                 8|                  11|                  9|                      6|                  12|                0|        900000|        Jamie Jacobs|Midfield|  Central Midfield| 25|[-1.9578078278771...|      0|[-1.9578078278771...|\n",
      "|   578872|     75|      181|       78|          Brazil|         Right|        3|          3|  High/Medium|  74|      69|     73|       75|       68|    73|                70|                 66|                        62|                     77|               58|             76|         72|               56|                75|                76|                   75|                   73|              74|                73|              71|              77|           55|           78|            72|              74|                  73|                     68|                   75|              73|                 47|                 75|                         66|                       72|                      66|                12|                   7|                 14|                     13|                  11|                0|       8000000|          Jean Lucas|Midfield|  Central Midfield| 24|[-3.6478310817682...|      0|[-3.6478310817682...|\n",
      "|   554284|     68|      178|       68|          Poland|         Right|        4|          4|  High/Medium|  73|      58|     62|       75|       59|    67|                51|                 59|                        59|                     67|               54|             74|         65|               41|                61|                73|                   78|                   69|              80|                66|              85|              62|           76|           70|            65|              56|                  66|                     56|                   57|              68|                 40|                 77|                         57|                       63|                      62|                 8|                  14|                  8|                     10|                   6|                0|       9000000|    Kacper Kozlowski|Midfield|  Central Midfield| 19|[-2.3156450611807...|      0|[-2.3156450611807...|\n",
      "|   432090|     73|      178|       72|           Italy|         Right|        4|          3|Medium/Medium|  73|      62|     74|       77|       61|    60|                63|                 56|                        48|                     81|               68|             77|         72|               65|                77|                79|                   73|                   73|              77|                68|              77|              70|           53|           77|            59|              64|                  42|                     60|                   60|              73|                 63|                 72|                         60|                       68|                      60|                 7|                  10|                  8|                     10|                  13|                0|       3500000|      Nicolò Fagioli|Midfield|  Central Midfield| 22|[-3.1889662382566...|      0|[-3.1889662382566...|\n",
      "|   624037|     74|      179|       70|          France|         Right|        4|          3|Medium/Medium|  68|      54|     72|       74|       71|    68|                68|                 52|                        58|                     77|               40|             75|         66|               57|                71|                74|                   67|                   68|              76|                73|              70|              61|           69|           77|            61|              53|                  75|                     75|                   62|              71|                 55|                 69|                         72|                       73|                      66|                11|                   6|                  7|                     14|                  10|                0|      10000000|       Joris Chotard|Midfield|Defensive Midfield| 21|[-2.6229265598501...|      0|[-2.6229265598501...|\n",
      "|   475188|     74|      177|       70|         England|          Left|        3|          3|  High/Medium|  66|      64|     74|       75|       65|    71|                68|                 59|                        63|                     77|               59|             76|         69|               62|                75|                77|                   69|                   64|              69|                71|              70|              69|           68|           78|            69|              68|                  70|                     68|                   73|              77|                 59|                 72|                         63|                       67|                      62|                12|                  15|                  9|                     10|                   7|                0|       5000000|Kiernan Dewsbury-...|Midfield|  Central Midfield| 24|[-3.3347720819480...|      0|[-3.3347720819480...|\n",
      "|   384593|     74|      175|       64|          France|         Right|        3|          4|   Medium/Low|  80|      71|     72|       79|       69|    69|                64|                 69|                        60|                     77|               61|             79|         79|               69|                69|                79|                   79|                   81|              88|                71|              79|              75|           70|           69|            68|              76|                  69|                     69|                   69|              73|                 65|                 72|                         69|                       72|                      65|                11|                  13|                 15|                     14|                  15|                0|       8000000|Alexis Claude-Mau...|  Attack|Attacking Midfield| 24|[-4.6196789613709...|      0|[-4.6196789613709...|\n",
      "|   524010|     73|      175|       76|           Spain|         Right|        3|          3|  High/Medium|  77|      65|     72|       75|       61|    67|                65|                 69|                        58|                     79|               48|             75|         65|               55|                75|                74|                   79|                   75|              78|                70|              80|              58|           74|           75|            67|              70|                  56|                     65|                   68|              69|                 54|                 67|                         53|                       71|                      50|                12|                   8|                  6|                     11|                  15|                0|       2500000|        Oier Zarraga|Midfield|  Central Midfield| 24|[-3.0056796838978...|      0|[-3.0056796838978...|\n",
      "|   789082|     76|      180|       74|          Brazil|         Right|        3|          3|Medium/Medium|  78|      62|     74|       75|       69|    69|                77|                 63|                        68|                     76|               61|             76|         69|               72|                67|                75|                   79|                   78|              76|                74|              74|              62|           56|           75|            67|              59|                  71|                     67|                   74|              74|                 49|                 72|                         69|                       71|                      69|                 8|                   8|                  6|                      6|                   7|                0|      11000000|           Vanderson|Defender|        Right-Back| 21|[-3.6713326915630...|      0|[-3.6713326915630...|\n",
      "|   450050|     75|      172|       70|          France|         Right|        3|          3|Medium/Medium|  78|      62|     72|       76|       70|    71|                64|                 59|                        61|                     77|               53|             75|         57|               68|                76|                76|                   77|                   79|              82|                75|              85|              69|           69|           79|            68|              63|                  69|                     70|                   73|              74|                 55|                 74|                         70|                       74|                      69|                12|                  15|                 14|                     10|                   9|                0|       6000000|Jean-Ricner Belle...|Midfield|  Central Midfield| 24|[-3.8706382690560...|      0|[-3.8706382690560...|\n",
      "|   560593|     76|      175|       61|         Algeria|         Right|        3|          3|  Medium/High|  74|      65|     71|       79|       72|    72|                64|                 68|                        71|                     77|               51|             80|         73|               58|                68|                79|                   75|                   74|              78|                74|              77|              65|           71|           83|            66|              62|                  73|                     70|                   72|              74|                 54|                 77|                         71|                       74|                      69|                 7|                   6|                  7|                     13|                   8|                0|       5000000|     Hicham Boudaoui|Midfield|  Central Midfield| 23|[-4.1692859192240...|      0|[-4.1692859192240...|\n",
      "|   617074|     73|      185|       73|          Guinea|         Right|        4|          4|Medium/Medium|  70|      71|     64|       74|       64|    64|                40|                 74|                        59|                     76|               48|             77|         46|               47|                75|                75|                   68|                   71|              68|                71|              59|              73|           58|           73|            62|              72|                  58|                     66|                   67|              68|                 49|                 70|                         59|                       70|                      64|                 9|                  14|                 15|                     10|                  12|                0|      10000000|        Ilaix Moriba|Midfield|  Central Midfield| 20|[-2.1836990880618...|      0|[-2.1836990880618...|\n",
      "|   390177|     76|      179|       68|         Albania|         Right|        4|          3|Medium/Medium|  76|      68|     73|       77|       59|    66|                61|                 68|                        54|                     79|               58|             79|         70|               64|                72|                79|                   76|                   76|              78|                70|              70|              74|           63|           72|            63|              60|                  67|                     56|                   75|              78|                 69|                 68|                         58|                       62|                      64|                14|                   6|                 10|                      7|                   9|                0|      10000000|       Nedim Bajrami|  Attack|Attacking Midfield| 24|[-3.7489535942005...|      0|[-3.7489535942005...|\n",
      "|   390179|     68|      174|       67|     Switzerland|         Right|        3|          3|Medium/Medium|  67|      63|     66|       72|       63|    68|                55|                 62|                        54|                     70|               55|             72|         56|               62|                68|                69|                   74|                   62|              81|                65|              84|              61|           64|           72|            69|              71|                  63|                     66|                   64|              70|                 54|                 64|                         64|                       64|                      64|                 8|                   9|                 11|                      7|                  14|                0|       2500000|        Bastien Toma|Midfield|  Central Midfield| 23|[-2.2057962288769...|      0|[-2.2057962288769...|\n",
      "|   369316|     73|      174|       73|          Turkey|         Right|        3|          4|  High/Medium|  80|      63|     72|       78|       65|    65|                69|                 60|                        59|                     76|               59|             79|         72|               64|                66|                77|                   81|                   80|              83|                74|              84|              69|           62|           81|            60|              68|                  59|                     65|                   66|              73|                 52|                 69|                         66|                       65|                      68|                10|                  13|                 11|                     11|                   5|                0|       9500000|      Ferdi Kadioglu|Defender|        Right-Back| 23|[-3.9745119211748...|      0|[-3.9745119211748...|\n",
      "|   323874|     76|      179|       76|          Brazil|         Right|        4|          4|Medium/Medium|  73|      71|     76|       80|       67|    69|                73|                 69|                        51|                     77|               55|             80|         77|               74|                75|                78|                   76|                   70|              84|                76|              83|              77|           64|           86|            59|              72|                  72|                     71|                   72|              79|                 74|                 76|                         71|                       68|                      56|                11|                   8|                 12|                     11|                   6|                0|       7000000|             Evander|Midfield|  Central Midfield| 24|[-4.9820865234004...|      0|[-4.9820865234004...|\n",
      "|   443710|     73|      183|       79|         Germany|          Left|        3|          3|Medium/Medium|  66|      56|     74|       72|       68|    67|                64|                 49|                        63|                     79|               45|             70|         66|               66|                76|                75|                   65|                   66|              73|                65|              73|              66|           69|           77|            62|              65|                  64|                     68|                   61|              76|                 42|                 72|                         68|                       71|                      68|                 7|                  14|                  5|                      9|                   9|                0|       6000000|      Angelo Stiller|Midfield|Defensive Midfield| 22|[-2.3265224073288...|      0|[-2.3265224073288...|\n",
      "|   535834|     72|      174|       67|         Belgium|         Right|        3|          3|    High/High|  73|      58|     70|       75|       65|    69|                59|                 56|                        56|                     76|               34|             76|         64|               43|                73|                74|                   74|                   72|              77|                69|              81|              68|           69|           69|            69|              60|                  68|                     67|                   66|              74|                 45|                 74|                         64|                       69|                      65|                14|                   8|                 13|                     14|                  14|                0|       8000000|        Eliot Matazo|Midfield|  Central Midfield| 21|[-2.5720419309342...|      0|[-2.5720419309342...|\n",
      "|   490224|     68|      183|       68|            Mali|         Right|        4|          4|    High/High|  78|      64|     63|       71|       63|    67|                51|                 62|                        44|                     70|               57|             72|         59|               48|                64|                69|                   75|                   81|              79|                67|              68|              70|           62|           80|            61|              63|                  68|                     69|                   67|              66|                 58|                 67|                         59|                       67|                      65|                 6|                  15|                 14|                      9|                   9|                0|       2500000|   Ismaila Coulibaly|Midfield|  Central Midfield| 22|[-2.4418783275596...|      0|[-2.4418783275596...|\n",
      "|   534033|     76|      176|       72|       Argentina|         Right|        3|          3|Medium/Medium|  69|      77|     78|       75|       56|    62|                79|                 77|                        61|                     77|               73|             75|         83|               81|                76|                78|                   73|                   66|              71|                74|              72|              76|           64|           68|            63|              80|                  51|                     45|                   77|              77|                 77|                 74|                         65|                       54|                      51|                 7|                  10|                 14|                     15|                  10|                0|      10000000| Alexis Mac Allister|Midfield|  Central Midfield| 24|[-4.2595170862650...|      0|[-4.2595170862650...|\n",
      "|   342405|     76|      185|       77|          Sweden|         Right|        3|          3|Medium/Medium|  77|      68|     75|       77|       63|    69|                68|                 64|                        32|                     79|               53|             78|         66|               63|                77|                79|                   74|                   79|              77|                73|              67|              73|           63|           77|            68|              77|                  65|                     71|                   64|              77|                 57|                 73|                         62|                       69|                      62|                 7|                   6|                 13|                      8|                  12|                0|      15000000|    Mattias Svanberg|Midfield|  Central Midfield| 24|[-3.5325866905999...|      0|[-3.5325866905999...|\n",
      "|   398808|     72|      181|       77|        Cameroon|         Right|        3|          4|Medium/Medium|  79|      69|     69|       75|       66|    77|                57|                 67|                        73|                     76|               60|             76|         71|               49|                76|                74|                   79|                   79|              81|                62|              74|              78|           81|           84|            78|              73|                  63|                     70|                   63|              70|                 55|                 80|                         64|                       66|                      58|                14|                   9|                  5|                      8|                  13|                0|       4500000|       Martin Hongla|Midfield|Defensive Midfield| 25|[-3.8099743069860...|      0|[-3.8099743069860...|\n",
      "|   434676|     71|      178|       70|         England|         Right|        3|          3|Medium/Medium|  73|      58|     65|       72|       67|    74|                56|                 53|                        53|                     72|               50|             71|         63|               49|                67|                73|                   69|                   76|              73|                67|              78|              65|           67|           76|            71|              62|                  80|                     68|                   58|              66|                 57|                 71|                         66|                       71|                      68|                12|                  10|                  7|                      6|                   8|                0|       3500000|      Ronaldo Vieira|Midfield|  Central Midfield| 24|[-2.3267733730568...|      0|[-2.3267733730568...|\n",
      "|   315130|     71|      185|       73|     Netherlands|         Right|        4|          3|Medium/Medium|  78|      68|     70|       74|       61|    67|                69|                 64|                        55|                     72|               62|             72|         66|               59|                70|                73|                   80|                   76|              84|                73|              74|              76|           73|           75|            64|              76|                  63|                     64|                   62|              72|                 57|                 75|                         63|                       61|                      58|                 6|                  10|                  9|                     14|                   9|                0|        150000|   Rashaan Fernandes|  Attack|      Right Winger| 24|[-3.3751624219797...|      0|[-3.3751624219797...|\n",
      "|   461943|     75|      178|       71|        Portugal|          Left|        4|          4|Medium/Medium|  80|      66|     75|       81|       64|    63|                68|                 67|                        49|                     76|               63|             79|         76|               64|                78|                80|                   79|                   81|              92|                72|              91|              66|           65|           70|            60|              64|                  59|                     61|                   73|              80|                 66|                 78|                         64|                       68|                      69|                 6|                  12|                 14|                     11|                  11|                0|       8000000|     Daniel Bragança|Midfield|  Central Midfield| 23|[-4.6879966385364...|      0|[-4.6879966385364...|\n",
      "|   370885|     71|      172|       72|          Greece|         Right|        3|          3|  High/Medium|  76|      71|     68|       71|       69|    71|                65|                 71|                        63|                     72|               59|             70|         65|               48|                72|                74|                   77|                   75|              72|                67|              77|              75|           59|           75|            67|              73|                  77|                     69|                   72|              68|                 49|                 64|                         70|                       70|                      70|                 6|                  12|                  9|                      6|                   7|                0|       1800000|Konstantinos Gala...|Midfield|  Central Midfield| 25|[-3.2591012135041...|      0|[-3.2591012135041...|\n",
      "|   600481|     70|      173|       66|         Nigeria|         Right|        3|          3|    High/High|  78|      60|     66|       73|       62|    75|                59|                 59|                        48|                     71|               51|             72|         60|               51|                69|                67|                   81|                   76|              89|                70|              85|              65|           74|           93|            65|              64|                  80|                     72|                   62|              69|                 46|                 74|                         59|                       65|                      60|                14|                   9|                  6|                      7|                   9|                0|       1800000|      Alhassan Yusuf|Midfield|  Central Midfield| 22|[-3.1910653828614...|      0|[-3.1910653828614...|\n",
      "|   348756|     70|      168|       61|        Portugal|         Right|        3|          3|Medium/Medium|  78|      61|     67|       73|       65|    70|                59|                 62|                        55|                     74|               50|             70|         62|               42|                69|                72|                   90|                   69|              89|                67|              90|              62|           90|           79|            59|              59|                  79|                     68|                   62|              67|                 56|                 64|                         63|                       69|                      61|                10|                  16|                 15|                     16|                  14|                0|       1200000|      Leonardo Lopes|Midfield|  Central Midfield| 24|[-2.9418647200001...|      0|[-2.9418647200001...|\n",
      "|   503855|     67|      181|       71|         Belgium|         Right|        4|          3|  High/Medium|  75|      62|     61|       72|       38|    59|                56|                 64|                        36|                     66|               63|             73|         65|               62|                61|                71|                   78|                   73|              80|                63|              71|              58|           76|           58|            60|              59|                  55|                     36|                   65|              58|                 58|                 72|                         28|                       48|                      45|                14|                   6|                  6|                      6|                   9|                0|        600000|      Amine Benchaib|  Attack|Attacking Midfield| 24|[-1.4399292590839...|      1|[-1.4399292590839...|\n",
      "|   485591|     65|      178|       68|     Netherlands|         Right|        3|          4|Medium/Medium|  76|      56|     62|       71|       43|    54|                50|                 56|                        43|                     65|               53|             70|         61|               55|                63|                70|                   78|                   74|              81|                65|              78|              59|           58|           67|            48|              53|                  50|                     26|                   57|              69|                 55|                 67|                         42|                       52|                      56|                12|                   6|                  6|                     12|                  12|                0|       1000000|    Mohamed Taabouni|  Attack|Attacking Midfield| 21|[-1.2097117154487...|      1|[-1.2097117154487...|\n",
      "|   370833|     72|      180|       74|          Turkey|         Right|        4|          4|  High/Medium|  80|      64|     65|       75|       42|    52|                65|                 65|                        47|                     68|               50|             78|         69|               56|                59|                72|                   81|                   80|              79|                66|              77|              64|           57|           72|            46|              64|                  43|                     30|                   68|              67|                 59|                 67|                         37|                       49|                      53|                13|                  14|                  7|                      6|                  15|                0|       3300000|       Dogukan Sinik|  Attack|       Left Winger| 24|[-2.2437381838403...|      1|[-2.2437381838403...|\n",
      "|   300532|     66|      183|       67|          Sweden|          Left|        4|          4|Medium/Medium|  87|      59|     64|       71|       38|    53|                62|                 59|                        62|                     68|               58|             70|         66|               36|                63|                71|                   86|                   87|              82|                69|              74|              58|           77|           62|            48|              60|                  48|                     39|                   74|              64|                 49|                 66|                         33|                       35|                      39|                 8|                   7|                 10|                      5|                   5|                0|       3000000|     Pontus Almqvist|  Attack|    Centre-Forward| 23|[-1.9504606874608...|      1|[-1.9504606874608...|\n",
      "|   393239|     72|      170|       62|     Netherlands|         Right|        5|          3|Medium/Medium|  86|      66|     65|       73|       27|    56|                69|                 66|                        34|                     67|               69|             74|         74|               54|                53|                71|                   87|                   86|              84|                67|              77|              65|           51|           71|            49|              68|                  54|                     23|                   69|              67|                 60|                 65|                         35|                       21|                      23|                 7|                  14|                 13|                     11|                  11|                0|       2200000| Mitchell van Bergen|  Attack|       Left Winger| 23|[-2.4802739709889...|      1|[-2.4802739709889...|\n",
      "|   535469|     71|      180|       71|         Romania|         Right|        3|          3|  High/Medium|  86|      64|     64|       72|       33|    58|                64|                 66|                        42|                     68|               63|             73|         66|               45|                63|                70|                   88|                   84|              82|                65|              73|              67|           57|           80|            52|              58|                  45|                     25|                   64|              64|                 58|                 67|                         37|                       30|                      35|                 5|                  11|                  8|                     11|                  10|                0|       6000000|    Valentin Mihaila|  Attack|       Left Winger| 23|[-1.9884165274214...|      1|[-1.9884165274214...|\n",
      "|   481117|     68|      168|       62|         Belgium|         Right|        4|          3|Medium/Medium|  79|      61|     66|       74|       44|    48|                64|                 57|                        30|                     68|               59|             73|         74|               53|                67|                72|                   83|                   76|              87|                66|              82|              71|           68|           70|            32|              64|                  54|                     43|                   55|              66|                 52|                 64|                         41|                       51|                      47|                 7|                   6|                  8|                     11|                  10|                0|       1100000|    Othmane Boussaid|  Attack|       Left Winger| 23|[-2.3580725438368...|      1|[-2.3580725438368...|\n",
      "|   592400|     68|      170|       69|         Algeria|         Right|        4|          3|Medium/Medium|  74|      64|     67|       73|       58|    56|                63|                 61|                        38|                     71|               56|             74|         68|               63|                68|                70|                   77|                   71|              79|                62|              85|              71|           69|           57|            49|              68|                  69|                     61|                   60|              66|                 54|                 71|                         58|                       62|                      56|                 7|                   9|                  8|                     13|                  12|                0|       2000000|    Abdelkahar Kadri|  Attack|Attacking Midfield| 22|[-2.4973984124947...|      1|[-2.4973984124947...|\n",
      "|   682032|     70|      177|       68|          France|         Right|        3|          3|Medium/Medium|  82|      63|     63|       76|       39|    53|                65|                 60|                        55|                     68|               57|             78|         56|               56|                60|                76|                   79|                   85|              79|                70|              78|              70|           62|           59|            51|              64|                  48|                     36|                   58|              60|                 63|                 58|                         34|                       39|                      40|                14|                  15|                 10|                     13|                  10|                0|       2500000|          Marley Aké|  Attack|       Left Winger| 22|[-1.6351844865872...|      1|[-1.6351844865872...|\n",
      "|   550108|     74|      175|       70|          Poland|         Right|        4|          3|   Medium/Low|  83|      59|     70|       76|       55|    55|                72|                 58|                        45|                     75|               59|             78|         64|               57|                63|                76|                   84|                   83|              75|                68|              75|              72|           57|           71|            45|              46|                  57|                     50|                   69|              69|                 63|                 63|                         59|                       57|                      52|                10|                   5|                  7|                      8|                  15|                0|       2500000|     Nicola Zalewski|Midfield|     Left Midfield| 21|[-2.7671471943420...|      1|[-2.7671471943420...|\n",
      "|   498686|     68|      179|       71|        Colombia|         Right|        3|          3|  Medium/High|  86|      59|     61|       71|       40|    54|                58|                 52|                        48|                     66|               44|             73|         62|               61|                44|                68|                   85|                   87|              74|                67|              77|              68|           64|           73|            48|              64|                  43|                     37|                   68|              69|                 62|                 63|                         41|                       39|                      34|                11|                  12|                  8|                     14|                  14|                0|        800000|         Iván Angulo|  Attack|       Left Winger| 24|[-1.3565062389664...|      1|[-1.3565062389664...|\n",
      "|   547354|     69|      174|       66|           Spain|         Right|        3|          3|Medium/Medium|  75|      65|     65|       72|       38|    49|                67|                 69|                        46|                     64|               61|             73|         63|               44|                60|                69|                   76|                   75|              78|                68|              80|              57|           55|           54|            43|              64|                  58|                     44|                   69|              72|                 55|                 66|                         37|                       32|                      38|                 9|                  10|                  8|                      9|                  12|                0|        200000|               Pascu|Midfield|  Central Midfield| 23|[-1.5185447009867...|      1|[-1.5185447009867...|\n",
      "|   685887|     68|      175|       68|        Portugal|         Right|        3|          3|  High/Medium|  86|      55|     64|       73|       38|    55|                63|                 57|                        39|                     66|               60|             73|         66|               58|                61|                70|                   88|                   84|              88|                64|              71|              60|           59|           68|            53|              42|                  44|                     35|                   62|              63|                 62|                 66|                         38|                       40|                      35|                14|                   7|                  9|                     10|                   9|                0|       2000000|       Matchoi Djaló|  Attack|Attacking Midfield| 20|[-1.5864724700047...|      1|[-1.5864724700047...|\n",
      "|   537860|     74|      175|       61|         Ukraine|         Right|        4|          4|  High/Medium|  88|      63|     67|       78|       44|    58|                69|                 66|                        39|                     65|               47|             80|         58|               63|                63|                78|                   89|                   87|              84|                67|              73|              67|           60|           64|            53|              59|                  62|                     28|                   69|              73|                 52|                 70|                         51|                       52|                      38|                10|                  12|                 14|                      6|                   7|                0|       4000000|     Mykhaylo Mudryk|  Attack|       Left Winger| 22|[-3.0599285230197...|      1|[-3.0599285230197...|\n",
      "|   402887|     72|      175|       62|          Greece|         Right|        4|          3|  High/Medium|  81|      65|     68|       74|       36|    61|                70|                 67|                        55|                     68|               59|             76|         65|               65|                66|                74|                   82|                   80|              77|                65|              75|              64|           63|           65|            57|              65|                  64|                     25|                   67|              67|                 55|                 65|                         45|                       30|                      33|                12|                   8|                  8|                     12|                   6|                0|       1800000|Anastasios Chatzi...|  Attack|      Right Winger| 25|[-2.5659609032106...|      1|[-2.5659609032106...|\n",
      "|   391719|     68|      175|       66|        Portugal|         Right|        3|          3|Medium/Medium|  69|      66|     66|       72|       44|    48|                56|                 65|                        34|                     72|               54|             72|         63|               50|                71|                72|                   72|                   67|              76|                64|              82|              73|           50|           58|            34|              70|                  69|                     46|                   64|              67|                 48|                 62|                         44|                       47|                      45|                12|                  11|                  8|                     12|                   6|                0|       2500000|      Domingos Quina|Midfield|  Central Midfield| 23|[-1.5205355908949...|      1|[-1.5205355908949...|\n",
      "|   407347|     66|      174|       70|         Belgium|         Right|        4|          3|    High/High|  77|      62|     63|       72|       46|    58|                58|                 58|                        32|                     63|               53|             72|         69|               66|                65|                70|                   80|                   74|              82|                55|              85|              68|           71|           64|            52|              68|                  60|                     49|                   56|              64|                 55|                 60|                         40|                       54|                      49|                13|                   9|                 10|                     14|                  11|                0|        300000| Alessandro Albanese|  Attack|       Left Winger| 23|[-1.6374752454857...|      1|[-1.6374752454857...|\n",
      "|   667121|     67|      175|       69|        Portugal|         Right|        3|          3|  High/Medium|  77|      61|     58|       69|       52|    51|                52|                 62|                        52|                     63|               45|             68|         56|               41|                59|                68|                   77|                   77|              74|                74|              73|              69|           58|           70|            41|              55|                  52|                     54|                   67|              58|                 56|                 62|                         54|                       49|                      51|                10|                  13|                 10|                     14|                  10|                0|       2000000|       Rodrigo Gomes|  Attack|      Right Winger| 19|[-1.0591763117149...|      1|[-1.0591763117149...|\n",
      "|   426624|     71|      176|       67|        Portugal|         Right|        4|          4|  High/Medium|  83|      64|     62|       74|       27|    58|                67|                 65|                        41|                     64|               66|             74|         67|               46|                57|                72|                   87|                   80|              90|                66|              78|              68|           52|           70|            48|              58|                  70|                     23|                   67|              62|                 55|                 65|                         31|                       23|                      17|                 7|                  13|                 10|                     10|                  13|                0|        600000|       André Vidigal|  Attack|       Left Winger| 24|[-2.2083533460101...|      1|[-2.2083533460101...|\n",
      "|   331739|     67|      177|       66|         Iceland|         Right|        4|          3|  High/Medium|  80|      61|     62|       72|       40|    72|                60|                 60|                        33|                     65|               53|             73|         60|               61|                55|                68|                   79|                   80|              80|                66|              81|              65|           58|           79|            67|              60|                  80|                     43|                   70|              66|                 55|                 72|                         44|                       38|                      34|                 7|                   7|                 12|                      8|                   9|                0|       1500000|Jón Dagur Thorste...|  Attack|       Left Winger| 24|[-2.2048044230559...|      1|[-2.2048044230559...|\n",
      "|   272278|     74|      181|       70|         Germany|         Right|        4|          3|  High/Medium|  83|      68|     69|       75|       54|    59|                67|                 71|                        54|                     74|               58|             74|         68|               50|                68|                74|                   83|                   83|              84|                70|              80|              69|           66|           79|            49|              65|                  58|                     43|                   70|              70|                 61|                 63|                         56|                       59|                      55|                 6|                   7|                 12|                     12|                   6|                0|       4000000|       Chris Führich|  Attack|      Right Winger| 25|[-3.3283922044276...|      1|[-3.3283922044276...|\n",
      "|   383109|     69|      177|       72|          Poland|          Left|        3|          3|  High/Medium|  92|      60|     60|       70|       39|    55|                64|                 65|                        37|                     63|               49|             68|         55|               46|                47|                67|                   89|                   94|              89|                62|              85|              67|           65|           76|            47|              49|                  46|                     41|                   63|              63|                 40|                 59|                         38|                       40|                      33|                13|                   8|                 13|                      7|                  14|                0|       2000000| Przemyslaw Placheta|  Attack|       Left Winger| 25|[-1.2429941055429...|      1|[-1.2429941055429...|\n",
      "|   377665|     70|      177|       75|         Iceland|         Right|        3|          3|     High/Low|  79|      67|     67|       73|       41|    62|                67|                 70|                        39|                     72|               68|             73|         56|               46|                69|                73|                   75|                   82|              80|                65|              72|              67|           70|           72|            59|              67|                  57|                     42|                   68|              66|                 45|                 64|                         45|                       39|                      32|                 8|                   7|                 10|                      7|                  11|                0|       3000000|    Arnór Sigurdsson|  Attack|Attacking Midfield| 24|[-2.0784102239442...|      1|[-2.0784102239442...|\n",
      "+---------+-------+---------+---------+----------------+--------------+---------+-----------+-------------+----+--------+-------+---------+---------+------+------------------+-------------------+--------------------------+-----------------------+-----------------+---------------+-----------+-----------------+------------------+------------------+---------------------+---------------------+----------------+------------------+----------------+----------------+-------------+-------------+--------------+----------------+--------------------+-----------------------+---------------------+----------------+-------------------+-------------------+---------------------------+-------------------------+------------------------+------------------+--------------------+-------------------+-----------------------+--------------------+-----------------+--------------+--------------------+--------+------------------+---+--------------------+-------+--------------------+\n",
      "only showing top 100 rows\n",
      "\n"
     ]
    }
   ],
   "source": [
    "df_k_means2.show(100)"
   ]
  },
  {
   "attachments": {},
   "cell_type": "markdown",
   "metadata": {},
   "source": [
    "Drop weight_kg, nationality_name, work_rate pcaFeatures, features"
   ]
  },
  {
   "attachments": {},
   "cell_type": "markdown",
   "metadata": {},
   "source": [
    "Remove useful columns in df_k_means1 and df_k_means2"
   ]
  },
  {
   "cell_type": "code",
   "execution_count": 31,
   "metadata": {},
   "outputs": [],
   "source": [
    "# def funtion to remove columns in df_k_means1 and df_k_means2\n",
    "def remove_columns(df_k_means):\n",
    "    # drop pcaFeatures, features\n",
    "    df_k_means = df_k_means.drop(\"pcaFeatures\")\n",
    "    df_k_means = df_k_means.drop(\"features\")\n",
    "    df_k_means = df_k_means.drop(\"nationality_name\")\n",
    "    df_k_means = df_k_means.drop(\"work_rate\")\n",
    "    df_k_means = df_k_means.drop(\"weight_kg\")\n",
    "    return df_k_means"
   ]
  },
  {
   "cell_type": "code",
   "execution_count": 32,
   "metadata": {},
   "outputs": [],
   "source": [
    "df_k_means1 = remove_columns(df_k_means1)\n",
    "df_k_means2 = remove_columns(df_k_means2)"
   ]
  },
  {
   "attachments": {},
   "cell_type": "markdown",
   "metadata": {},
   "source": [
    "## **Football players cluster scouting**"
   ]
  },
  {
   "attachments": {},
   "cell_type": "markdown",
   "metadata": {},
   "source": [
    "The clustering algorithm used grouped similar players together. From now on we could think of using the obtained partition in various ways, in particolar, input a player_id and find a cluster made up of similar players with a lower average age"
   ]
  },
  {
   "attachments": {},
   "cell_type": "markdown",
   "metadata": {},
   "source": [
    "### **Implementation of the first of the two method to get the cluster for the input player**\n",
    "\n",
    "This method returns always one cluster. It does not allow the manipulation of the hyperparameters.\n",
    "The problem with this method is that it tends to look for a cluster containing players with similar stat values ​​to the input player. The method implemented subsequently is able to search for clusters that contain players with values ​​even lower than those of the player given in input."
   ]
  },
  {
   "attachments": {},
   "cell_type": "markdown",
   "metadata": {},
   "source": [
    "This function is used to create:\n",
    "- a dictionary with the stats of the input player (player_id)\n",
    "- a list of dictionary with the average stats of the clusters"
   ]
  },
  {
   "cell_type": "code",
   "execution_count": 34,
   "metadata": {},
   "outputs": [],
   "source": [
    "def search_cluster(df1, df2, player_id): #player_id is related to df1\n",
    "\n",
    "    # insert in a dictionaty all the values of player_id of df1 except player_id, name, age, cluster\n",
    "    player_id_dict = {}\n",
    "    for column in df1.columns:\n",
    "        if column not in [\"player_id\", \"name\", \"age\", \"cluster\"]:\n",
    "            values = df1.filter(col(\"player_id\") == player_id).select(col(column)).collect()\n",
    "            player_id_dict[column] = values[0][0] if len(values) > 0 else None\n",
    "    \n",
    "    clusters_value = []\n",
    "    no_cluster = df2.select(col(\"cluster\")).distinct().count()\n",
    "    for i in range(no_cluster):\n",
    "        # filter the rows where the column \"cluster\" is equal to i\n",
    "        df_filtered = df2.filter(col(\"cluster\") == i)\n",
    "        col_to_drop = [\"player_id\", \"name\", \"age\", \"cluster\"]\n",
    "        df_filtered = df_filtered.drop(*col_to_drop)\n",
    "        clus_values = {}\n",
    "\n",
    "        # Itera su ogni colonna nel DataFrame\n",
    "        for column in df_filtered.columns:\n",
    "            if column not in [\"player_id\", \"name\", \"age\", \"cluster\"]:\n",
    "                # check if the column is numeric or not\n",
    "                if df_filtered.schema[column].dataType in [IntegerType(), FloatType()]:\n",
    "                    # compute the mean of the column\n",
    "                    avg = df_filtered.select(mean(col(column))).collect()[0][0]\n",
    "                    clus_values[column] = avg\n",
    "                else:\n",
    "                    # Calcola il valore che appare maggiormente nella colonna non numerica\n",
    "                    max_value = df_filtered.groupBy(column).count().orderBy(desc(\"count\")).first()[column]\n",
    "                    clus_values[column] = max_value\n",
    "\n",
    "        clusters_value.append(clus_values)\n",
    "\n",
    "    return player_id_dict, clusters_value"
   ]
  },
  {
   "attachments": {},
   "cell_type": "markdown",
   "metadata": {},
   "source": [
    "This function returns the index of the cluster with the most similar player"
   ]
  },
  {
   "cell_type": "code",
   "execution_count": 35,
   "metadata": {},
   "outputs": [],
   "source": [
    "from sklearn.feature_extraction.text import TfidfVectorizer\n",
    "from sklearn.metrics.pairwise import cosine_similarity\n",
    "\n",
    "def find_most_similar(dictionary, dictionary_list):\n",
    "    # Creazione della lista di testi dai dizionari nella lista\n",
    "    texts = [','.join(str(v) for v in d.values()) for d in dictionary_list]\n",
    "\n",
    "    # Creazione del vettore TF-IDF dei testi\n",
    "    vectorizer = TfidfVectorizer()\n",
    "    tfidf_matrix = vectorizer.fit_transform(texts)\n",
    "\n",
    "    # Creazione del vettore TF-IDF per il dizionario di riferimento\n",
    "    reference_vector = vectorizer.transform([','.join(str(v) for v in dictionary.values())])\n",
    "\n",
    "    # Calcolo della similarità del coseno tra il dizionario di riferimento e gli altri dizionari\n",
    "    similarities = cosine_similarity(reference_vector, tfidf_matrix)[0]\n",
    "\n",
    "    # Individuazione dell'indice del dizionario più simile\n",
    "    most_similar_index = np.argmax(similarities)\n",
    "\n",
    "    # Restituzione del dizionario più simile\n",
    "    most_similar_dict = dictionary_list[most_similar_index]\n",
    "\n",
    "    return dictionary_list.index(most_similar_dict)"
   ]
  },
  {
   "cell_type": "code",
   "execution_count": 49,
   "metadata": {},
   "outputs": [],
   "source": [
    "player_id_dict, clusters_value = search_cluster(df_k_means1, df_k_means2, 33829)"
   ]
  },
  {
   "attachments": {},
   "cell_type": "markdown",
   "metadata": {},
   "source": [
    "Create copies of the list and of the player dictionary, and remove the keys [\"overall\", \"weak_foot\", \"pace\", \"shooting\", \"dribbling\", \"defending\", \"physic\"] from the dictionary beacuse the search will be not based on these values"
   ]
  },
  {
   "cell_type": "code",
   "execution_count": 96,
   "metadata": {},
   "outputs": [],
   "source": [
    "import copy\n",
    "player_id_dict_copy = copy.deepcopy(player_id_dict)\n",
    "clusters_value_copy = copy.deepcopy(clusters_value)\n",
    "keys_to_remove = [\"overall\", \"weak_foot\", \"pace\", \"shooting\", \"dribbling\", \"defending\", \"physic\", \"last_valuation\"]\n",
    "\n",
    "for key in keys_to_remove:\n",
    "    del player_id_dict_copy[key]\n",
    "\n",
    "for i in range(len(clusters_value_copy)):\n",
    "    for key in keys_to_remove:\n",
    "        del clusters_value_copy[i][key]"
   ]
  },
  {
   "cell_type": "code",
   "execution_count": 97,
   "metadata": {},
   "outputs": [],
   "source": [
    "cluster_index = find_most_similar(player_id_dict_copy, clusters_value_copy) + 1"
   ]
  },
  {
   "attachments": {},
   "cell_type": "markdown",
   "metadata": {},
   "source": [
    "Show the cluster (cluster_index)"
   ]
  },
  {
   "cell_type": "code",
   "execution_count": 98,
   "metadata": {},
   "outputs": [
    {
     "name": "stdout",
     "output_type": "stream",
     "text": [
      "+---------+-------+---------+--------------+---------+-----------+----+--------+-------+---------+---------+------+------------------+-------------------+--------------------------+-----------------------+-----------------+---------------+-----------+-----------------+------------------+------------------+---------------------+---------------------+----------------+------------------+----------------+----------------+-------------+-------------+--------------+----------------+--------------------+-----------------------+---------------------+----------------+-------------------+-------------------+---------------------------+-------------------------+------------------------+------------------+--------------------+-------------------+-----------------------+--------------------+-----------------+--------------+---------------+--------+------------+---+-------+\n",
      "|player_id|overall|height_cm|preferred_foot|weak_foot|skill_moves|pace|shooting|passing|dribbling|defending|physic|attacking_crossing|attacking_finishing|attacking_heading_accuracy|attacking_short_passing|attacking_volleys|skill_dribbling|skill_curve|skill_fk_accuracy|skill_long_passing|skill_ball_control|movement_acceleration|movement_sprint_speed|movement_agility|movement_reactions|movement_balance|power_shot_power|power_jumping|power_stamina|power_strength|power_long_shots|mentality_aggression|mentality_interceptions|mentality_positioning|mentality_vision|mentality_penalties|mentality_composure|defending_marking_awareness|defending_standing_tackle|defending_sliding_tackle|goalkeeping_diving|goalkeeping_handling|goalkeeping_kicking|goalkeeping_positioning|goalkeeping_reflexes|goalkeeping_speed|last_valuation|           name|position|sub_position|age|cluster|\n",
      "+---------+-------+---------+--------------+---------+-----------+----+--------+-------+---------+---------+------+------------------+-------------------+--------------------------+-----------------------+-----------------+---------------+-----------+-----------------+------------------+------------------+---------------------+---------------------+----------------+------------------+----------------+----------------+-------------+-------------+--------------+----------------+--------------------+-----------------------+---------------------+----------------+-------------------+-------------------+---------------------------+-------------------------+------------------------+------------------+--------------------+-------------------+-----------------------+--------------------+-----------------+--------------+---------------+--------+------------+---+-------+\n",
      "|   386047|     77|      190|         Right|        2|          2|  50|      28|     51|       55|       77|    82|                25|                 20|                        77|                     66|               36|             54|         34|               27|                64|                62|                   46|                   54|              31|                75|              34|              54|           72|           66|            92|              17|                  78|                     77|                   23|              51|                 36|                 71|                         78|                       78|                      75|                12|                   8|                 11|                      8|                   6|                0|      15000000|    Axel Disasi|Defender| Centre-Back| 25|     33|\n",
      "|   272636|     72|      191|         Right|        3|          2|  43|      32|     52|       49|       72|    78|                31|                 27|                        74|                     68|               27|             40|         30|               29|                60|                60|                   38|                   47|              40|                69|              36|              45|           56|           74|            84|              27|                  73|                     72|                   39|              50|                 38|                 70|                         72|                       73|                      70|                12|                  14|                 12|                     15|                   9|                0|       5000000|Harold Moukoudi|Defender| Centre-Back| 25|     33|\n",
      "|   498237|     76|      196|          Left|        2|          2|  50|      28|     53|       51|       77|    79|                29|                 23|                        73|                     69|               28|             45|         33|               25|                68|                62|                   51|                   50|              35|                73|              32|              42|           32|           62|            92|              23|                  80|                     77|                   22|              50|                 38|                 70|                         78|                       79|                      75|                10|                   7|                  9|                     14|                  15|                0|      10000000|    David Carmo|Defender| Centre-Back| 23|     33|\n",
      "|   357003|     74|      193|         Right|        2|          2|  64|      34|     49|       52|       74|    73|                31|                 29|                        75|                     68|               33|             49|         32|               28|                62|                57|                   55|                   72|              41|                73|              45|              55|           60|           54|            82|              21|                  78|                     71|                   31|              33|                 49|                 66|                         72|                       77|                      75|                 9|                   9|                  7|                     13|                   8|                0|       4000000|   Martin Erlic|Defender| Centre-Back| 25|     33|\n",
      "|   673492|     74|      192|          Left|        2|          2|  67|      35|     51|       61|       73|    80|                34|                 32|                        73|                     65|               39|             61|         26|               27|                62|                65|                   66|                   68|              41|                74|              43|              49|           63|           67|            88|              28|                  82|                     67|                   29|              49|                 44|                 75|                         74|                       76|                      74|                12|                  12|                 12|                      6|                   6|                0|      10000000|         Morato|Defender| Centre-Back| 21|     33|\n",
      "+---------+-------+---------+--------------+---------+-----------+----+--------+-------+---------+---------+------+------------------+-------------------+--------------------------+-----------------------+-----------------+---------------+-----------+-----------------+------------------+------------------+---------------------+---------------------+----------------+------------------+----------------+----------------+-------------+-------------+--------------+----------------+--------------------+-----------------------+---------------------+----------------+-------------------+-------------------+---------------------------+-------------------------+------------------------+------------------+--------------------+-------------------+-----------------------+--------------------+-----------------+--------------+---------------+--------+------------+---+-------+\n",
      "\n"
     ]
    }
   ],
   "source": [
    "df_k_means2.filter(col(\"cluster\") == cluster_index).show(100)"
   ]
  },
  {
   "attachments": {},
   "cell_type": "markdown",
   "metadata": {},
   "source": [
    "### **Implementation of a more precise method to get the clusters for the input player**\n",
    "\n",
    "This method returns a list of similar cluster. It can return an empty list. It allows the manipulation of the hyperparameters"
   ]
  },
  {
   "cell_type": "code",
   "execution_count": 52,
   "metadata": {},
   "outputs": [],
   "source": [
    "key_list = []\n",
    "for k,v in player_id_dict.items():\n",
    "    key_list.append(k)"
   ]
  },
  {
   "cell_type": "code",
   "execution_count": 56,
   "metadata": {},
   "outputs": [],
   "source": [
    "# remove: overall, height_cm, skill_moves, pace, shooting, dribbling, defending, physic from key_list\n",
    "key_list = list(set(key_list) - set([\"overall\", \"weak_foot\", \"pace\", \"shooting\", \"dribbling\", \"defending\", \"physic\"]))"
   ]
  },
  {
   "attachments": {},
   "cell_type": "markdown",
   "metadata": {},
   "source": [
    "Remove the keys [\"overall\", \"weak_foot\", \"pace\", \"shooting\", \"dribbling\", \"defending\", \"physic\"] from the dictionary beacuse the search will be not based on these values"
   ]
  },
  {
   "cell_type": "code",
   "execution_count": 57,
   "metadata": {},
   "outputs": [],
   "source": [
    "import copy\n",
    "player_id_dict_c = player_id_dict.copy()\n",
    "clusters_value_c = copy.deepcopy(clusters_value)\n",
    "keys_to_remove = [\"overall\", \"weak_foot\", \"pace\", \"shooting\", \"dribbling\", \"defending\", \"physic\"]\n",
    "\n",
    "for key in keys_to_remove:\n",
    "    del player_id_dict_c[key]\n",
    "\n",
    "for i in range(len(clusters_value_c)):\n",
    "    for key in keys_to_remove:\n",
    "        del clusters_value_c[i][key]"
   ]
  },
  {
   "attachments": {},
   "cell_type": "markdown",
   "metadata": {},
   "source": [
    "Function to get the list of the clusters with players similar to one given in input.\n",
    "\n",
    "1. For each cluster in the list of clusters:\n",
    "    - Check if the cluster has the same position, sub position, and preferred foot as the player.\n",
    "    - Check if the cluster has a height that does not differ by more than 10 cm from the player.\n",
    "    - Check if the cluster has a last valuation that does not differ by more than 50% of m_value (input parameter).\n",
    "    - Check if the cluster has a skill moves that does not differ by more than 2 points from the player.\n",
    "\n",
    "\n",
    "2. Sort the keys of the player in descending order by values.\n",
    "\n",
    "3. For each cluster in the list of clusters:\n",
    "    - Sort the keys of the cluster in descending order by values.\n",
    "\n",
    "\n",
    "4. Return the clusters that have the same first x values as those of the player.\n"
   ]
  },
  {
   "cell_type": "code",
   "execution_count": 89,
   "metadata": {},
   "outputs": [],
   "source": [
    "import math\n",
    "\n",
    "def get_clus(player_dict, clusters_list): # return the list of the clusters for the player of player_dict\n",
    "    player_dict_c = copy.deepcopy(player_dict)\n",
    "    clusters_list_c = copy.deepcopy(clusters_list)\n",
    "\n",
    "    clus_list_first = [] # dictionary that have passed the first filter\n",
    "\n",
    "    # first filter\n",
    "    for i in range(len(clusters_list_c)):\n",
    "        if clusters_list_c[i][\"position\"] == player_dict_c[\"position\"] and clusters_list_c[i][\"sub_position\"] == player_dict_c[\"sub_position\"] and clusters_list_c[i][\"preferred_foot\"] == player_dict_c[\"preferred_foot\"]:\n",
    "            height_diff = int(clusters_list_c[i][\"height_cm\"]) - int(player_dict_c[\"height_cm\"])\n",
    "            skills_diff = int(clusters_list_c[i][\"skill_moves\"]) - int(player_dict_c[\"skill_moves\"])\n",
    "            val_diff = int(clusters_list_c[i][\"last_valuation\"]) - int(player_dict_c[\"last_valuation\"])\n",
    "            if math.sqrt(height_diff**2) < 10 and math.sqrt(skills_diff**2) <= 2 and math.sqrt(val_diff**2) < m_value*0.5:\n",
    "                clus_list_first.append((i,clusters_list_c[i]))\n",
    "\n",
    "    # delete from clus_list_first and player_dict_c keys height_cm, skill_moves, last_valuation, position, sub_position, preferred_foot\n",
    "\n",
    "    keys_todelete = [\"height_cm\", \"skill_moves\", \"last_valuation\", \"position\", \"sub_position\", \"preferred_foot\"]\n",
    "\n",
    "    for clus in clus_list_first:\n",
    "        for key in keys_todelete:\n",
    "            del clus[1][key]\n",
    "    #print(clus_list_first)\n",
    "\n",
    "    # delete from player_dict_c keys height_cm, skill_moves, last_valuation, position, sub_position, preferred_foot\n",
    "    for key in keys_todelete:\n",
    "        del player_dict_c[key]\n",
    "\n",
    "    # sort the player_dict_c keys based on the values\n",
    "    sorted_keys_player_id = sorted(player_dict_c, key=player_dict_c.get, reverse=True)\n",
    "    #print(sorted_keys_player_id)\n",
    "\n",
    "    # sort the clusters based on the values\n",
    "    sorted_keys_clusters = []\n",
    "    for clus in clus_list_first:\n",
    "        sorted_keys_clusters.append((clus[0], sorted(clus[1], key=clus[1].get, reverse=True)))\n",
    "    #print(sorted_keys_clusters)\n",
    "\n",
    "    # filter the filtered clusters based on the remaining stats value\n",
    "    list_to_return = []\n",
    "    for clus in sorted_keys_clusters:\n",
    "        if len(list((set(sorted_keys_player_id[:10])) & (set(clus[1][:10])))) > 8:\n",
    "            list_to_return.append(clus[0])\n",
    "\n",
    "    return list_to_return"
   ]
  },
  {
   "cell_type": "code",
   "execution_count": 90,
   "metadata": {},
   "outputs": [
    {
     "name": "stdout",
     "output_type": "stream",
     "text": [
      "[8]\n"
     ]
    }
   ],
   "source": [
    "l = get_clus(player_id_dict_c, clusters_value_c)\n",
    "print(l)"
   ]
  },
  {
   "attachments": {},
   "cell_type": "markdown",
   "metadata": {},
   "source": [
    "Show the first cluster of the list. The list can be empty."
   ]
  },
  {
   "cell_type": "code",
   "execution_count": null,
   "metadata": {},
   "outputs": [],
   "source": [
    "df_k_means2.filter(col(\"cluster\") == l[0]).show(100)"
   ]
  }
 ],
 "metadata": {
  "kernelspec": {
   "display_name": "Python 3",
   "language": "python",
   "name": "python3"
  },
  "language_info": {
   "codemirror_mode": {
    "name": "ipython",
    "version": 3
   },
   "file_extension": ".py",
   "mimetype": "text/x-python",
   "name": "python",
   "nbconvert_exporter": "python",
   "pygments_lexer": "ipython3",
   "version": "3.10.9"
  },
  "orig_nbformat": 4
 },
 "nbformat": 4,
 "nbformat_minor": 2
}
