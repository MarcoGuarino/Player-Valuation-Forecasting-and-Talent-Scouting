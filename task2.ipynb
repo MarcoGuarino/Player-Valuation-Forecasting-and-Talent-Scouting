{
 "cells": [
  {
   "attachments": {},
   "cell_type": "markdown",
   "metadata": {},
   "source": [
    "# Task 2\n",
    "**Clustering**\n",
    "\n",
    "In task 2 a new dataset will be introduced. The new dataset will be partially merged with the one obtained in feature engineering and preprocessing. The goal will be to create clusters made up of players with similar characteristics. The final partition will be used to scout young talents."
   ]
  },
  {
   "attachments": {},
   "cell_type": "markdown",
   "metadata": {},
   "source": [
    "Imported libraries"
   ]
  },
  {
   "cell_type": "code",
   "execution_count": 1,
   "metadata": {},
   "outputs": [],
   "source": [
    "import pyspark\n",
    "from pyspark.sql import *\n",
    "from pyspark.sql.types import *\n",
    "from pyspark.sql.functions import *\n",
    "from pyspark import SparkContext, SparkConf\n",
    "import numpy as np\n",
    "from pyspark.sql.functions import udf\n",
    "from pyspark.sql.types import BinaryType\n",
    "from pyspark.sql import SparkSession\n",
    "from pyspark.conf import SparkConf\n",
    "from pyspark.ml.feature import *"
   ]
  },
  {
   "attachments": {},
   "cell_type": "markdown",
   "metadata": {},
   "source": [
    "Creating the pyspark session"
   ]
  },
  {
   "cell_type": "code",
   "execution_count": 2,
   "metadata": {},
   "outputs": [
    {
     "data": {
      "text/plain": [
       "[('spark.driver.extraJavaOptions',\n",
       "  '-XX:+IgnoreUnrecognizedVMOptions --add-opens=java.base/java.lang=ALL-UNNAMED --add-opens=java.base/java.lang.invoke=ALL-UNNAMED --add-opens=java.base/java.lang.reflect=ALL-UNNAMED --add-opens=java.base/java.io=ALL-UNNAMED --add-opens=java.base/java.net=ALL-UNNAMED --add-opens=java.base/java.nio=ALL-UNNAMED --add-opens=java.base/java.util=ALL-UNNAMED --add-opens=java.base/java.util.concurrent=ALL-UNNAMED --add-opens=java.base/java.util.concurrent.atomic=ALL-UNNAMED --add-opens=java.base/sun.nio.ch=ALL-UNNAMED --add-opens=java.base/sun.nio.cs=ALL-UNNAMED --add-opens=java.base/sun.security.action=ALL-UNNAMED --add-opens=java.base/sun.util.calendar=ALL-UNNAMED --add-opens=java.security.jgss/sun.security.krb5=ALL-UNNAMED'),\n",
       " ('spark.executor.memory', '15G'),\n",
       " ('spark.app.submitTime', '1684275270793'),\n",
       " ('spark.driver.host', 'MarcoPC.homenet.telecomitalia.it'),\n",
       " ('spark.executor.id', 'driver'),\n",
       " ('spark.driver.memory', '50G'),\n",
       " ('spark.executor.cores', '10'),\n",
       " ('spark.app.name', 'PySparkProject'),\n",
       " ('spark.app.startTime', '1684275271085'),\n",
       " ('spark.ui.port', '4050'),\n",
       " ('spark.driver.port', '52473'),\n",
       " ('spark.driver.maxResultSize', '40G'),\n",
       " ('spark.rdd.compress', 'True'),\n",
       " ('spark.executor.extraJavaOptions',\n",
       "  '-XX:+IgnoreUnrecognizedVMOptions --add-opens=java.base/java.lang=ALL-UNNAMED --add-opens=java.base/java.lang.invoke=ALL-UNNAMED --add-opens=java.base/java.lang.reflect=ALL-UNNAMED --add-opens=java.base/java.io=ALL-UNNAMED --add-opens=java.base/java.net=ALL-UNNAMED --add-opens=java.base/java.nio=ALL-UNNAMED --add-opens=java.base/java.util=ALL-UNNAMED --add-opens=java.base/java.util.concurrent=ALL-UNNAMED --add-opens=java.base/java.util.concurrent.atomic=ALL-UNNAMED --add-opens=java.base/sun.nio.ch=ALL-UNNAMED --add-opens=java.base/sun.nio.cs=ALL-UNNAMED --add-opens=java.base/sun.security.action=ALL-UNNAMED --add-opens=java.base/sun.util.calendar=ALL-UNNAMED --add-opens=java.security.jgss/sun.security.krb5=ALL-UNNAMED'),\n",
       " ('spark.serializer.objectStreamReset', '100'),\n",
       " ('spark.master', 'local[*]'),\n",
       " ('spark.submit.pyFiles', ''),\n",
       " ('spark.submit.deployMode', 'client'),\n",
       " ('spark.app.id', 'local-1684275272234'),\n",
       " ('spark.ui.showConsoleProgress', 'true')]"
      ]
     },
     "execution_count": 2,
     "metadata": {},
     "output_type": "execute_result"
    }
   ],
   "source": [
    "# Create the session\n",
    "conf = SparkConf(). \\\n",
    "    set('spark.ui.port', \"4050\"). \\\n",
    "    set('spark.executor.memory', '15G'). \\\n",
    "    set('spark.driver.memory', '50G'). \\\n",
    "    set('spark.driver.maxResultSize', '40G'). \\\n",
    "    setAppName(\"PySparkProject\"). \\\n",
    "    set('spark.executor.cores', \"10\"). \\\n",
    "    setMaster(\"local[*]\")\n",
    "\n",
    "sc = pyspark.SparkContext.getOrCreate(conf=conf)\n",
    "spark = SparkSession.builder.getOrCreate()\n",
    "\n",
    "sc._conf.getAll()"
   ]
  },
  {
   "attachments": {},
   "cell_type": "markdown",
   "metadata": {},
   "source": [
    "**Work on dataset begins**"
   ]
  },
  {
   "attachments": {},
   "cell_type": "markdown",
   "metadata": {},
   "source": [
    "Loading the new dataset and the dataset obtained from feature_engineering.ipynb"
   ]
  },
  {
   "cell_type": "code",
   "execution_count": 3,
   "metadata": {},
   "outputs": [],
   "source": [
    "# Load cvs fifa23 dataset files pyspark\n",
    "df = spark.read.csv(\"C:/Users/marco/Desktop/male_players.csv\", header=True, inferSchema=True)"
   ]
  },
  {
   "cell_type": "code",
   "execution_count": 4,
   "metadata": {},
   "outputs": [],
   "source": [
    "# Load csv dataset, obtained from the feature engineering and econdinf process\n",
    "df_ = spark.read.csv(\"dataset.csv\", header=True, inferSchema=True)"
   ]
  },
  {
   "attachments": {},
   "cell_type": "markdown",
   "metadata": {},
   "source": [
    "**Pre Processing Phase**"
   ]
  },
  {
   "cell_type": "code",
   "execution_count": 5,
   "metadata": {},
   "outputs": [],
   "source": [
    "# Drop some df_ columns that are not useful for the task\n",
    "df_ = df_.drop(\"clubs_id_binary\", \"competitions_id_binary\", \"sub_position_binary\", \"position_binary\", \"citizenship_encoded_binary\", \"current_club_id_binary\", \"winning_rate_club\", \"winning_rate_pl\", \"games_lost_pl\",\n",
    "         \"games_draw_pl\", \"games_won_pl\", \"appearances\", \"yellow_cards\", \"red_cards\", \"minutes_played\", \"goals\", \"assists\", \"height\", \"age\", \"market_value\", )"
   ]
  },
  {
   "attachments": {},
   "cell_type": "markdown",
   "metadata": {},
   "source": [
    "Filtering the dataset df_ : It must be composed by the instances whose date_v is in 2022. "
   ]
  },
  {
   "cell_type": "code",
   "execution_count": 6,
   "metadata": {},
   "outputs": [],
   "source": [
    "# delete the instances from df_ in which date_v is not in the year 2022\n",
    "df_ = df_.filter(year(df_.date_v) == \"2022\")"
   ]
  },
  {
   "attachments": {},
   "cell_type": "markdown",
   "metadata": {},
   "source": [
    "Multiplying the player_id to return to the original value"
   ]
  },
  {
   "cell_type": "code",
   "execution_count": 7,
   "metadata": {},
   "outputs": [],
   "source": [
    "# multiply the player_id by 100000\n",
    "df_ = df_.withColumn(\"player_id\", df_.player_id * 100000)\n",
    "# convert player_id to int (without decimal places)\n",
    "df_ = df_.withColumn(\"player_id\", df_.player_id.cast(IntegerType()))"
   ]
  },
  {
   "attachments": {},
   "cell_type": "markdown",
   "metadata": {},
   "source": [
    "Filtering the dataset df_ : for each player must be remain only the instance with date_v closest to 2022-06-15"
   ]
  },
  {
   "cell_type": "code",
   "execution_count": 8,
   "metadata": {},
   "outputs": [],
   "source": [
    "# Define the reference date as \"2022-06-15\" using lit\n",
    "target_date = lit(\"2022-06-15\").cast(\"date\")\n",
    "\n",
    "# Compute the difference in days between date_v and the reference date\n",
    "df_with_diff = df_.withColumn(\"date_diff\", when(col(\"date_v\") > target_date, col(\"date_v\") - target_date)\n",
    "                                 .otherwise(target_date - col(\"date_v\")))\n",
    "\n",
    "# Find the closest date to \"2022-06-15\" for each player_id\n",
    "closest_date = df_with_diff.groupBy(\"player_id\").agg(min(\"date_diff\").alias(\"min_date_diff\"))\n",
    "\n",
    "# Join the original DataFrame with the DataFrame of the closest dates\n",
    "df_ = df_with_diff.join(closest_date, on=[\"player_id\"]).where(col(\"date_diff\") == col(\"min_date_diff\"))\n",
    "\n",
    "# Remove the date_diff column if it is not necessary\n",
    "df_ = df_.drop(\"date_diff\", \"min_date_diff\")"
   ]
  },
  {
   "cell_type": "code",
   "execution_count": 9,
   "metadata": {},
   "outputs": [],
   "source": [
    "# Remove (player_id, date_v) duplicates\n",
    "df_ = df_.dropDuplicates([\"player_id\", \"date_v\"])"
   ]
  },
  {
   "attachments": {},
   "cell_type": "markdown",
   "metadata": {},
   "source": [
    "Removing the player_id with last_valuation equal to 0 (if their last_valuation is 0, they are probably not present in the fifa23players dataset)\n"
   ]
  },
  {
   "cell_type": "code",
   "execution_count": 10,
   "metadata": {},
   "outputs": [],
   "source": [
    "# remove the player_id with last_valuation equal to 0\n",
    "df_ = df_.filter(df_.last_valuation != 0)"
   ]
  },
  {
   "attachments": {},
   "cell_type": "markdown",
   "metadata": {},
   "source": [
    "Through the player_id key we get information about the players contained in player_id"
   ]
  },
  {
   "cell_type": "code",
   "execution_count": 11,
   "metadata": {},
   "outputs": [],
   "source": [
    "# Load the cvs players to obtain some crucial information for the merge\n",
    "df_players = spark.read.csv(\"archive/players.csv\", header=True, inferSchema=True)"
   ]
  },
  {
   "cell_type": "code",
   "execution_count": 12,
   "metadata": {},
   "outputs": [],
   "source": [
    "# join the two datasets on player_id\n",
    "df_ = df_.join(df_players, on=[\"player_id\"])"
   ]
  },
  {
   "cell_type": "code",
   "execution_count": 13,
   "metadata": {},
   "outputs": [],
   "source": [
    "# drop some columns that are not useful for the task\n",
    "df_ = df_.drop(\"current_club_id\", \"current_club_name\", \"country_of_birth\", \"city_of_birth\", \"foot\", \"height_in_cm\", \"market_value_in_eur\", \"highest_market_value_in_eur\", \"agent_name\", \"contract_expiration_date\", \"current_club_domestic_competition_id\", \"player_code\", \"image_url\", \"last_season\", \"url\")"
   ]
  },
  {
   "cell_type": "code",
   "execution_count": 14,
   "metadata": {},
   "outputs": [],
   "source": [
    "# select only the fifa_version == 23\n",
    "df = df.filter(df.fifa_version == 23)"
   ]
  },
  {
   "cell_type": "code",
   "execution_count": 15,
   "metadata": {},
   "outputs": [],
   "source": [
    "# select only the fifa_update == 1\n",
    "df = df.filter(df.fifa_update == 1)"
   ]
  },
  {
   "cell_type": "code",
   "execution_count": 16,
   "metadata": {},
   "outputs": [],
   "source": [
    "# drop duplicates on player_id\n",
    "df = df.dropDuplicates([\"player_id\"])"
   ]
  },
  {
   "attachments": {},
   "cell_type": "markdown",
   "metadata": {},
   "source": [
    "We have to drop some not very useful features:\n",
    " |-- ls: string (nullable = true)\n",
    " |-- st: string (nullable = true)\n",
    " |-- rs: string (nullable = true)\n",
    " |-- lw: string (nullable = true)\n",
    " |-- lf: string (nullable = true)\n",
    " |-- cf: string (nullable = true)\n",
    " |-- rf: string (nullable = true)\n",
    " |-- rw: string (nullable = true)\n",
    " |-- lam: string (nullable = true)\n",
    " |-- cam: string (nullable = true)\n",
    " |-- ram: string (nullable = true)\n",
    " |-- lm: string (nullable = true)\n",
    " |-- lcm: string (nullable = true)\n",
    " |-- cm: string (nullable = true)\n",
    " |-- rcm: string (nullable = true)\n",
    " |-- rm: string (nullable = true)\n",
    " |-- lwb: string (nullable = true)\n",
    " |-- ldm: string (nullable = true)\n",
    " |-- cdm: string (nullable = true)\n",
    " |-- rdm: string (nullable = true)\n",
    " |-- rwb: string (nullable = true)\n",
    " |-- lb: string (nullable = true)\n",
    " |-- lcb: string (nullable = true)\n",
    " |-- cb: string (nullable = true)\n",
    " |-- rcb: string (nullable = true)\n",
    " |-- rb: string (nullable = true)\n",
    " |-- gk: string (nullable = true)\n",
    " |-- player_face_url: string (nullable = true)\n",
    " |-- body_type: string (nullable = true)\n",
    " |-- real_face: string (nullable = true)\n",
    " |-- release_clause_eur: integer (nullable = true)\n",
    " |-- player_tags: string (nullable = true)\n",
    " |-- player_traits: string (nullable = true)\n",
    "|-- international_reputation: integer (nullable = true)\n",
    " |-- club_jersey_number: integer (nullable = true)\n",
    " |-- club_loaned_from: string (nullable = true)\n",
    " |-- club_joined_date: date (nullable = true)\n",
    " |-- club_contract_valid_until_year: integer (nullable = true)\n",
    " |-- nationality_id: integer (nullable = true)\n",
    " |-- nationality_name: string (nullable = true)\n",
    " |-- nation_team_id: integer (nullable = true)\n",
    " |-- nation_position: string (nullable = true)\n",
    " |-- nation_jersey_number: integer (nullable = true)\n",
    " |-- league_id: integer (nullable = true)\n",
    " |-- league_name: string (nullable = true)\n",
    " |-- league_level: integer (nullable = true)\n",
    " |-- club_team_id: integer (nullable = true)\n",
    " |-- club_name: string (nullable = true)\n",
    " |-- club_position: string (nullable = true)\n",
    " |-- potential: integer (nullable = true)\n",
    " |-- value_eur: integer (nullable = true)\n",
    " |-- wage_eur: integer (nullable = true)\n",
    " |-- age: integer (nullable = true)\n",
    " |-- player_positions: string (nullable = true)\n",
    " |-- player_id: integer (nullable = true)\n",
    " |-- player_url: string (nullable = true)\n",
    " |-- fifa_version: integer (nullable = true)\n",
    " |-- fifa_update: integer (nullable = true)\n",
    " |-- fifa_update_date: date (nullable = true)"
   ]
  },
  {
   "cell_type": "code",
   "execution_count": 19,
   "metadata": {},
   "outputs": [],
   "source": [
    "import re\n",
    "str = \"|-- ls: string (nullable = true)|-- st: string (nullable = true)|-- rs: string (nullable = true)|-- lw: string (nullable = true)|-- lf: string (nullable = true)|-- cf: string (nullable = true)|-- rf: string (nullable = true)|-- rw: string (nullable = true)|-- lam: string (nullable = true)|-- cam: string (nullable = true)|-- ram: string (nullable = true)|-- lm: string (nullable = true)|-- lcm: string (nullable = true)|-- cm: string (nullable = true)|-- rcm: string (nullable = true)|-- rm: string (nullable = true)|-- lwb: string (nullable = true)|-- ldm: string (nullable = true)|-- cdm: string (nullable = true)|-- rdm: string (nullable = true)|-- rwb: string (nullable = true)|-- lb: string (nullable = true)|-- lcb: string (nullable = true)|-- cb: string (nullable = true)|-- rcb: string (nullable = true)|-- rb: string (nullable = true)|-- gk: string (nullable = true)|-- player_face_url: string (nullable = true)|-- body_type: string (nullable = true)|-- real_face: string (nullable = true)|-- release_clause_eur: integer (nullable = true)|-- player_tags: string (nullable = true)|-- player_traits: string (nullable = true)|-- international_reputation: integer (nullable = true)|-- club_jersey_number: integer (nullable = true)|-- club_loaned_from: string (nullable = true)|-- club_joined_date: date (nullable = true)|-- club_contract_valid_until_year: integer (nullable = true)|-- nationality_id: integer (nullable = true)|-- nation_team_id: integer (nullable = true)|-- nation_position: string (nullable = true)|-- nation_jersey_number: integer (nullable = true)|-- league_id: integer (nullable = true)|-- league_name: string (nullable = true)|-- league_level: integer (nullable = true)|-- club_team_id: integer (nullable = true)|-- club_name: string (nullable = true)|-- club_position: string (nullable = true)|-- potential: integer (nullable = true)|-- value_eur: integer (nullable = true)|-- wage_eur: integer (nullable = true)|-- age: integer (nullable = true)|-- player_positions: string (nullable = true)|-- player_id: integer (nullable = true)|-- player_url: string (nullable = true)|-- fifa_version: integer (nullable = true)|-- fifa_update: integer (nullable = true)|-- fifa_update_date: date (nullable = true)\"\n",
    "pattern = pattern = r\"(?<=- ).*?(?=: )\"\n",
    "elements_to_drop = re.findall(pattern, str)"
   ]
  },
  {
   "cell_type": "code",
   "execution_count": 20,
   "metadata": {},
   "outputs": [],
   "source": [
    "for element in elements_to_drop:\n",
    "    df = df.drop(element)"
   ]
  },
  {
   "attachments": {},
   "cell_type": "markdown",
   "metadata": {},
   "source": [
    "Merging the fifa dataset and the dataset obtained in feature_engineering.ipynb:\n",
    "in this case the difficulty is finding the parameters on which to join. We have opted in the union on the couple (date of birth, nationality)"
   ]
  },
  {
   "cell_type": "code",
   "execution_count": 21,
   "metadata": {},
   "outputs": [],
   "source": [
    "# fare il join df e df_ in cui df.dob == df_.date_of_birth e df_.country_of_citizenship == df.nationality_name\n",
    "joined_df = df.join(df_, (df.dob == df_.date_of_birth) & (df_.country_of_citizenship == df.nationality_name))"
   ]
  },
  {
   "cell_type": "code",
   "execution_count": 22,
   "metadata": {},
   "outputs": [],
   "source": [
    "#conta il numero di player_id distinct\n",
    "#print(joined_df.select(\"player_id\").distinct().count())\n",
    "# conta il numero di istanze\n",
    "#print(joined_df.count())"
   ]
  },
  {
   "attachments": {},
   "cell_type": "markdown",
   "metadata": {},
   "source": [
    "Removing from df the player_id that occurre more than once"
   ]
  },
  {
   "cell_type": "code",
   "execution_count": 23,
   "metadata": {},
   "outputs": [],
   "source": [
    "count_df = joined_df.groupBy(\"player_id\").agg(count(\"*\").alias(\"count\"))\n",
    "df = joined_df.join(count_df, \"player_id\").filter(count_df[\"count\"] == 1).drop(\"count\") # we will ad the instances obtained from the filtered df \n",
    "#print(df.select(\"player_id\").distinct().count())"
   ]
  },
  {
   "attachments": {},
   "cell_type": "markdown",
   "metadata": {},
   "source": [
    "filtered_df is composed of instances of player_id that appear in df more than once: in particular filtered_df is composed of the players for whom the union (date of birth, nationality) does not work because there is more than one instance for which the key tuple (date of birth, nationality) is valid"
   ]
  },
  {
   "cell_type": "code",
   "execution_count": 24,
   "metadata": {},
   "outputs": [],
   "source": [
    "# dataset composed by the instances with player_id not unique (i.e. that appears more than once)\n",
    "count_df = joined_df.groupBy(\"player_id\").agg(count(\"*\").alias(\"count\"))\n",
    "filtered_df = joined_df.join(count_df, \"player_id\").filter(count_df[\"count\"] > 1).drop(\"count\")"
   ]
  },
  {
   "cell_type": "code",
   "execution_count": 25,
   "metadata": {},
   "outputs": [],
   "source": [
    "#filtered_df.count()"
   ]
  },
  {
   "attachments": {},
   "cell_type": "markdown",
   "metadata": {},
   "source": [
    "Since, for these instances, (date of birth, nationality) does not work, we decide to perform the filter through long_name (fifa dataset) and name (the other dataset)"
   ]
  },
  {
   "cell_type": "code",
   "execution_count": 26,
   "metadata": {},
   "outputs": [],
   "source": [
    "# mantain only the instance in which long name is equal to name\n",
    "filtered_df = filtered_df.filter(filtered_df.long_name == filtered_df.name)"
   ]
  },
  {
   "cell_type": "code",
   "execution_count": 27,
   "metadata": {},
   "outputs": [],
   "source": [
    "#filtered_df.count()"
   ]
  },
  {
   "attachments": {},
   "cell_type": "markdown",
   "metadata": {},
   "source": [
    "Adding to df the unique instances of filtered_df that we managed to extract"
   ]
  },
  {
   "cell_type": "code",
   "execution_count": 28,
   "metadata": {},
   "outputs": [],
   "source": [
    "# add to df the instances of filtered_df\n",
    "df = df.union(filtered_df)"
   ]
  },
  {
   "cell_type": "code",
   "execution_count": 29,
   "metadata": {},
   "outputs": [],
   "source": [
    "# check if there are still duplicates\n",
    "#print(df.count())\n",
    "#print(df.select(\"player_id\").distinct().count())"
   ]
  },
  {
   "cell_type": "code",
   "execution_count": 30,
   "metadata": {},
   "outputs": [],
   "source": [
    "# INSERT CURRENT DATE #\n",
    "import datetime\n",
    "current_date = datetime.datetime.now().strftime(\"%Y-%m-%d\")"
   ]
  },
  {
   "attachments": {},
   "cell_type": "markdown",
   "metadata": {},
   "source": [
    "Adding to the dataset the feature age"
   ]
  },
  {
   "cell_type": "code",
   "execution_count": 31,
   "metadata": {},
   "outputs": [],
   "source": [
    "# add to the df the column age\n",
    "df = df.withColumn(\"age\", floor(datediff(lit(current_date), \"dob\")/365))"
   ]
  },
  {
   "cell_type": "code",
   "execution_count": 32,
   "metadata": {},
   "outputs": [],
   "source": [
    "# drop some columns\n",
    "df = df.drop(\"first_name\", \"last_name\", \"date_of_birth\", \"date_v\", \"country_of_citizenship\", \"dob\", \"short_name\", \"long_name\")"
   ]
  },
  {
   "attachments": {},
   "cell_type": "markdown",
   "metadata": {},
   "source": [
    "**Feature Engineering Phase**"
   ]
  },
  {
   "cell_type": "code",
   "execution_count": 33,
   "metadata": {},
   "outputs": [
    {
     "name": "stdout",
     "output_type": "stream",
     "text": [
      "+---------+-------+---------+---------+----------------+--------------+---------+-----------+---------+----+--------+-------+---------+---------+------+------------------+-------------------+--------------------------+-----------------------+-----------------+---------------+-----------+-----------------+------------------+------------------+---------------------+---------------------+----------------+------------------+----------------+----------------+-------------+-------------+--------------+----------------+--------------------+-----------------------+---------------------+----------------+-------------------+-------------------+---------------------------+-------------------------+------------------------+------------------+--------------------+-------------------+-----------------------+--------------------+-----------------+--------------+----+--------+------------+---+\n",
      "|player_id|overall|height_cm|weight_kg|nationality_name|preferred_foot|weak_foot|skill_moves|work_rate|pace|shooting|passing|dribbling|defending|physic|attacking_crossing|attacking_finishing|attacking_heading_accuracy|attacking_short_passing|attacking_volleys|skill_dribbling|skill_curve|skill_fk_accuracy|skill_long_passing|skill_ball_control|movement_acceleration|movement_sprint_speed|movement_agility|movement_reactions|movement_balance|power_shot_power|power_jumping|power_stamina|power_strength|power_long_shots|mentality_aggression|mentality_interceptions|mentality_positioning|mentality_vision|mentality_penalties|mentality_composure|defending_marking_awareness|defending_standing_tackle|defending_sliding_tackle|goalkeeping_diving|goalkeeping_handling|goalkeeping_kicking|goalkeeping_positioning|goalkeeping_reflexes|goalkeeping_speed|last_valuation|name|position|sub_position|age|\n",
      "+---------+-------+---------+---------+----------------+--------------+---------+-----------+---------+----+--------+-------+---------+---------+------+------------------+-------------------+--------------------------+-----------------------+-----------------+---------------+-----------+-----------------+------------------+------------------+---------------------+---------------------+----------------+------------------+----------------+----------------+-------------+-------------+--------------+----------------+--------------------+-----------------------+---------------------+----------------+-------------------+-------------------+---------------------------+-------------------------+------------------------+------------------+--------------------+-------------------+-----------------------+--------------------+-----------------+--------------+----+--------+------------+---+\n",
      "|        0|      0|        0|        0|               0|             0|        0|          0|        0| 392|     392|    392|      392|      392|   392|                 0|                  0|                         0|                      0|                0|              0|          0|                0|                 0|                 0|                    0|                    0|               0|                 0|               0|               0|            0|            0|             0|               0|                   0|                      0|                    0|               0|                  0|                  0|                          0|                        0|                       0|                 0|                   0|                  0|                      0|                   0|             3736|             0|   0|       0|         384|  0|\n",
      "+---------+-------+---------+---------+----------------+--------------+---------+-----------+---------+----+--------+-------+---------+---------+------+------------------+-------------------+--------------------------+-----------------------+-----------------+---------------+-----------+-----------------+------------------+------------------+---------------------+---------------------+----------------+------------------+----------------+----------------+-------------+-------------+--------------+----------------+--------------------+-----------------------+---------------------+----------------+-------------------+-------------------+---------------------------+-------------------------+------------------------+------------------+--------------------+-------------------+-----------------------+--------------------+-----------------+--------------+----+--------+------------+---+\n",
      "\n"
     ]
    }
   ],
   "source": [
    "# for each features of df, check if there are null values\n",
    "df.select([count(when(isnan(c) | col(c).isNull(), c)).alias(c) for c in df.columns]).show()"
   ]
  },
  {
   "attachments": {},
   "cell_type": "markdown",
   "metadata": {},
   "source": [
    "Fixing null value and zero value"
   ]
  },
  {
   "cell_type": "code",
   "execution_count": 34,
   "metadata": {},
   "outputs": [],
   "source": [
    "# if position is goal keeper then club_position = GK then set pace, shooting, passing, dribbling, defending, physic = 0\n",
    "df = df.withColumn(\"pace\", when(df.position == \"Goalkeeper\", 0).otherwise(df.pace))\n",
    "df = df.withColumn(\"shooting\", when(df.position == \"Goalkeeper\", 0).otherwise(df.shooting))\n",
    "df = df.withColumn(\"passing\", when(df.position == \"Goalkeeper\", 0).otherwise(df.passing))\n",
    "df = df.withColumn(\"dribbling\", when(df.position == \"Goalkeeper\", 0).otherwise(df.dribbling))\n",
    "df = df.withColumn(\"defending\", when(df.position == \"Goalkeeper\", 0).otherwise(df.defending))\n",
    "df = df.withColumn(\"physic\", when(df.position == \"Goalkeeper\", 0).otherwise(df.physic))"
   ]
  },
  {
   "cell_type": "code",
   "execution_count": 35,
   "metadata": {},
   "outputs": [],
   "source": [
    "# if the sub_position is null, set it to position value\n",
    "df = df.withColumn(\"sub_position\", when(col(\"sub_position\").isNull(), col(\"position\")).otherwise(col(\"sub_position\")))"
   ]
  },
  {
   "cell_type": "code",
   "execution_count": 36,
   "metadata": {},
   "outputs": [],
   "source": [
    "# if position is not Goalkeeper then set goalkeeping_speed to 0\n",
    "df = df.withColumn(\"goalkeeping_speed\", when(df.position != \"Goalkeeper\", 0).otherwise(df.goalkeeping_speed))"
   ]
  },
  {
   "attachments": {},
   "cell_type": "markdown",
   "metadata": {},
   "source": [
    "If the fixes didn't work, it means that the instances involved are originally wrong. Then we decided to drop it"
   ]
  },
  {
   "cell_type": "code",
   "execution_count": 37,
   "metadata": {},
   "outputs": [
    {
     "name": "stdout",
     "output_type": "stream",
     "text": [
      "4128\n",
      "4112\n"
     ]
    }
   ],
   "source": [
    "# remove the instances in which there are null values\n",
    "df = df.na.drop()"
   ]
  },
  {
   "attachments": {},
   "cell_type": "markdown",
   "metadata": {},
   "source": [
    "Saving the dataset obtained from the pre-processing, feature engineering and merging operations"
   ]
  },
  {
   "cell_type": "code",
   "execution_count": 41,
   "metadata": {},
   "outputs": [],
   "source": [
    "import pandas as pd\n",
    "df_p = df.toPandas()\n",
    "df_p.to_csv(\"task2dataset.csv\", index=False)"
   ]
  },
  {
   "cell_type": "code",
   "execution_count": null,
   "metadata": {},
   "outputs": [],
   "source": [
    "# save df in csv\n",
    "#df.write.csv(\"task2dataset2.csv\", header=True)"
   ]
  },
  {
   "cell_type": "code",
   "execution_count": 3,
   "metadata": {},
   "outputs": [],
   "source": [
    "#from autoviz.AutoViz_Class import AutoViz_Class\n",
    "#AV = AutoViz_Class()\n",
    "#dfc = AV.AutoViz(\"task2dataset.csv\")"
   ]
  },
  {
   "attachments": {},
   "cell_type": "markdown",
   "metadata": {},
   "source": [
    "**Clustering algorithms applications: k-means** "
   ]
  },
  {
   "attachments": {},
   "cell_type": "markdown",
   "metadata": {},
   "source": [
    "Loading the dataset obtained from the previous phases"
   ]
  },
  {
   "cell_type": "code",
   "execution_count": 50,
   "metadata": {},
   "outputs": [],
   "source": [
    "# load the dataset obtained in the previous phases\n",
    "df = spark.read.csv(\"task2dataset.csv\", header=True, inferSchema=True)"
   ]
  },
  {
   "attachments": {},
   "cell_type": "markdown",
   "metadata": {},
   "source": [
    "k-means STEPS:\n",
    "- divide by 10kk the player_id feature to decrease its weight\n",
    "- features normalization for the numerical features\n",
    "- one hot encoding for the categorical features\n",
    "- multiplicate the features age and market_value to increase its weight (1.2 - 1.5)\n",
    "- set the k value for the algorithm\n",
    "- set the inizialization technique for the centroids\n",
    "- set the similarity metric\n",
    "- pca to decrease the dimensionality (the feature player_id must be excluded from the pca application)"
   ]
  },
  {
   "attachments": {},
   "cell_type": "markdown",
   "metadata": {},
   "source": [
    "Converting double features to avoid problem in the next steps and to make all the numerical instances of the same type"
   ]
  },
  {
   "cell_type": "code",
   "execution_count": 51,
   "metadata": {},
   "outputs": [],
   "source": [
    "# convert from double to int the features goalkeeping_speed, pace, shooting, passing, dribbling, defending, physic\n",
    "df = df.withColumn(\"goalkeeping_speed\", df.goalkeeping_speed.cast(\"int\"))\n",
    "df = df.withColumn(\"pace\", df.pace.cast(\"int\"))\n",
    "df = df.withColumn(\"shooting\", df.shooting.cast(\"int\"))\n",
    "df = df.withColumn(\"passing\", df.passing.cast(\"int\"))\n",
    "df = df.withColumn(\"dribbling\", df.dribbling.cast(\"int\"))\n",
    "df = df.withColumn(\"defending\", df.defending.cast(\"int\"))\n",
    "df = df.withColumn(\"physic\", df.physic.cast(\"int\"))"
   ]
  },
  {
   "attachments": {},
   "cell_type": "markdown",
   "metadata": {},
   "source": [
    "Since nationality is not a crucial feature for our task, and furthermore, in the case of applying one hot encoding, it would greatly increase the number of features, we decided to exclude it from the dataset\n"
   ]
  },
  {
   "cell_type": "code",
   "execution_count": 53,
   "metadata": {},
   "outputs": [],
   "source": [
    "# drop the features nationality_name and name\n",
    "df = df.drop(\"nationality_name\", \"name\")"
   ]
  },
  {
   "attachments": {},
   "cell_type": "markdown",
   "metadata": {},
   "source": [
    "Dividing by 10kk the feature player_id to decrease its weight (the goal is to reach an average very close to 0)"
   ]
  },
  {
   "cell_type": "code",
   "execution_count": 54,
   "metadata": {},
   "outputs": [],
   "source": [
    "# divide by 10kk the feature player_id to decrease its weight\n",
    "df = df.withColumn(\"player_id\", df.player_id/10000000)"
   ]
  },
  {
   "attachments": {},
   "cell_type": "markdown",
   "metadata": {},
   "source": [
    "Normalizing the numerical features between the range (0,1)"
   ]
  },
  {
   "cell_type": "code",
   "execution_count": 55,
   "metadata": {},
   "outputs": [],
   "source": [
    "# list with the columns to normalize\n",
    "columns_to_normalize = list(set(df.columns) - set([\"player_id\", \"preferred_foot\", \"work_rate\", \"position\", \"sub_position\"]))\n",
    "\n",
    "# calculate the min and max for the specified columns\n",
    "min_max_df = df.select([min(col(colonna)).alias('min_'+colonna) for colonna in columns_to_normalize] +\n",
    "                       [max(col(colonna)).alias('max_'+colonna) for colonna in columns_to_normalize])\n",
    "\n",
    "# extract the min and max values from the resulting DataFrame rows\n",
    "min_values = min_max_df.first().asDict()\n",
    "max_values = min_max_df.take(1)[0].asDict()\n",
    "\n",
    "# define a function to normalize the values\n",
    "def normalize_value(value, min_value, max_value):\n",
    "    return (value - min_value) / (max_value - min_value)\n",
    "\n",
    "# apply the normalization to the specified columns\n",
    "for colonna in columns_to_normalize:\n",
    "    min_value = min_values['min_'+colonna]\n",
    "    max_value = max_values['max_'+colonna]\n",
    "    \n",
    "    df = df.withColumn(colonna, normalize_value(col(colonna), min_value, max_value))"
   ]
  },
  {
   "cell_type": "code",
   "execution_count": 56,
   "metadata": {},
   "outputs": [
    {
     "name": "stdout",
     "output_type": "stream",
     "text": [
      "+---------+-------------------+---------+---------+--------------+---------+-----------+-------------+-------------------+-------------------+-------------------+-------------------+------------------+------------------+-------------------+-------------------+--------------------------+-----------------------+-------------------+-------------------+-------------------+-------------------+-------------------+-------------------+---------------------+---------------------+-------------------+-------------------+-------------------+------------------+-------------------+-------------------+-------------------+-------------------+--------------------+-----------------------+---------------------+-------------------+-------------------+-------------------+---------------------------+-------------------------+------------------------+--------------------+--------------------+-------------------+-----------------------+--------------------+------------------+--------------------+----------+----------------+--------------------+\n",
      "|player_id|            overall|height_cm|weight_kg|preferred_foot|weak_foot|skill_moves|    work_rate|               pace|           shooting|            passing|          dribbling|         defending|            physic| attacking_crossing|attacking_finishing|attacking_heading_accuracy|attacking_short_passing|  attacking_volleys|    skill_dribbling|        skill_curve|  skill_fk_accuracy| skill_long_passing| skill_ball_control|movement_acceleration|movement_sprint_speed|   movement_agility| movement_reactions|   movement_balance|  power_shot_power|      power_jumping|      power_stamina|     power_strength|   power_long_shots|mentality_aggression|mentality_interceptions|mentality_positioning|   mentality_vision|mentality_penalties|mentality_composure|defending_marking_awareness|defending_standing_tackle|defending_sliding_tackle|  goalkeeping_diving|goalkeeping_handling|goalkeeping_kicking|goalkeeping_positioning|goalkeeping_reflexes| goalkeeping_speed|      last_valuation|  position|    sub_position|                 age|\n",
      "+---------+-------------------+---------+---------+--------------+---------+-----------+-------------+-------------------+-------------------+-------------------+-------------------+------------------+------------------+-------------------+-------------------+--------------------------+-----------------------+-------------------+-------------------+-------------------+-------------------+-------------------+-------------------+---------------------+---------------------+-------------------+-------------------+-------------------+------------------+-------------------+-------------------+-------------------+-------------------+--------------------+-----------------------+---------------------+-------------------+-------------------+-------------------+---------------------------+-------------------------+------------------------+--------------------+--------------------+-------------------+-----------------------+--------------------+------------------+--------------------+----------+----------------+--------------------+\n",
      "|0.0018944| 0.7837837837837838|    0.775|     0.64|         Right|      0.5|       0.25|  High/Medium| 0.5773195876288659| 0.6630434782608695| 0.7634408602150538|  0.723404255319149|0.9230769230769231|0.8555555555555555| 0.5697674418604651| 0.6813186813186813|        0.8977272727272727|     0.8395061728395061| 0.6162790697674418| 0.6483516483516484| 0.5930232558139535|0.43333333333333335| 0.8658536585365854| 0.8352941176470589|   0.4024390243902439|    0.573170731707317|0.49333333333333335| 0.7833333333333333|0.18666666666666668|0.5753424657534246| 0.6911764705882353|  0.569620253164557| 0.8428571428571429| 0.5348837209302325|  0.8192771084337349|     0.9176470588235294|   0.6774193548387096| 0.7380952380952381| 0.7228915662650602| 0.8648648648648649|          0.896551724137931|       0.9058823529411765|      0.9156626506024096| 0.09090909090909091| 0.10227272727272728| 0.1348314606741573|    0.14606741573033707| 0.06818181818181818|               0.0| 0.03109860915768089|  Defender|     Centre-Back|                0.75|\n",
      "| 0.005737| 0.5405405405405406|    0.525|      0.6|         Right|     0.75|       0.25|Medium/Medium| 0.3711340206185567|0.40217391304347827| 0.6129032258064516| 0.5531914893617021|0.8241758241758241|0.8111111111111111|0.47674418604651164|0.24175824175824176|        0.8295454545454546|     0.7037037037037037|0.37209302325581395| 0.4175824175824176|0.36046511627906974|                0.3| 0.6707317073170732| 0.6352941176470588|  0.24390243902439024|   0.2682926829268293|               0.36|               0.65|               0.48|0.5068493150684932| 0.7794117647058824| 0.4936708860759494| 0.7714285714285715| 0.4186046511627907|  0.8072289156626506|     0.7647058823529411|   0.3870967741935484|0.44047619047619047|0.40963855421686746| 0.6756756756756757|         0.7931034482758621|                      0.8|      0.8192771084337349|0.045454545454545456| 0.06818181818181818|0.11235955056179775|    0.15730337078651685| 0.10227272727272728|               0.0| 0.00922019065478981|  Defender|     Centre-Back|  0.7083333333333334|\n",
      "|0.0067089|0.43243243243243246|     0.55|      0.5|         Right|      0.5|       0.25|  Medium/High| 0.5154639175257731| 0.5760869565217391| 0.6451612903225806| 0.6276595744680851|0.7582417582417582|0.8666666666666667| 0.5930232558139535| 0.4725274725274725|        0.7613636363636364|     0.7037037037037037|                0.5| 0.5714285714285714|  0.686046511627907|                0.4| 0.6585365853658537| 0.6235294117647059|  0.36585365853658536|  0.47560975609756095| 0.5466666666666666| 0.5166666666666667|               0.44|0.7123287671232876| 0.7794117647058824| 0.7468354430379747| 0.7857142857142857|  0.627906976744186|  0.8072289156626506|     0.7529411764705882|   0.3548387096774194|0.44047619047619047| 0.4457831325301205|                0.5|          0.735632183908046|       0.7176470588235294|      0.7108433734939759| 0.14772727272727273| 0.06818181818181818| 0.1348314606741573|    0.14606741573033707| 0.09090909090909091|               0.0|0.005469604625722769|  Defender|     Centre-Back|               0.625|\n",
      "|0.0100986| 0.6486486486486487|      0.7|     0.74|         Right|     0.75|        0.5|  High/Medium| 0.7525773195876289| 0.8043478260869565| 0.7956989247311828| 0.7659574468085106|0.8131868131868132|               0.9| 0.8604651162790697| 0.7362637362637363|        0.8522727272727273|     0.7530864197530864| 0.8488372093023255| 0.7802197802197802| 0.8023255813953488| 0.5777777777777777| 0.7439024390243902| 0.7529411764705882|   0.6341463414634146|   0.7682926829268293| 0.5733333333333334|               0.65|               0.36| 0.821917808219178| 0.6911764705882353| 0.8481012658227848| 0.8428571428571429| 0.8372093023255814|  0.7710843373493976|                    0.8|   0.7741935483870968|               0.75| 0.6746987951807228| 0.7027027027027027|         0.7586206896551724|       0.7764705882352941|      0.8674698795180723| 0.06818181818181818|               0.125|0.14606741573033707|     0.0449438202247191| 0.07954545454545454|               0.0| 0.05610251601812783|  Defender|      Right-Back|  0.5416666666666666|\n",
      "|0.0153555| 0.4594594594594595|     0.65|     0.64|         Right|      0.5|       0.25|Medium/Medium| 0.7010309278350515| 0.5108695652173914| 0.6236559139784946| 0.5851063829787234|0.7802197802197802|               0.9| 0.5116279069767442| 0.3956043956043956|        0.7045454545454546|      0.654320987654321|0.43023255813953487| 0.5714285714285714|0.38372093023255816| 0.4111111111111111| 0.6341463414634146| 0.5058823529411764|  0.47560975609756095|   0.7926829268292683| 0.4533333333333333| 0.5666666666666667| 0.4266666666666667| 0.547945205479452| 0.4117647058823529| 0.8481012658227848| 0.8142857142857143| 0.5581395348837209|  0.8674698795180723|     0.7529411764705882|  0.46236559139784944| 0.5357142857142857| 0.4457831325301205|  0.581081081081081|         0.7701149425287356|       0.7529411764705882|      0.7710843373493976|0.056818181818181816| 0.11363636363636363|0.11235955056179775|    0.10112359550561797|               0.125|               0.0|0.004844506954211595|  Defender|     Centre-Back|  0.5833333333333334|\n",
      "|0.0156941| 0.5675675675675675|     0.45|     0.42|         Right|      1.0|        0.5|Medium/Medium| 0.6494845360824743| 0.7608695652173914| 0.7849462365591398| 0.7553191489361702|0.7912087912087912|0.8555555555555555|  0.686046511627907| 0.6923076923076923|        0.6590909090909091|     0.8148148148148148| 0.6976744186046512| 0.7142857142857143| 0.7790697674418605| 0.5555555555555556| 0.7926829268292683|                0.8|   0.6097560975609756|   0.5609756097560976|                0.6| 0.5833333333333334|               0.72|0.8082191780821918|0.45588235294117646| 0.8607594936708861|                0.7| 0.8023255813953488|  0.8554216867469879|      0.788235294117647|   0.7096774193548387| 0.7619047619047619| 0.5180722891566265| 0.7162162162162162|         0.7931034482758621|       0.7529411764705882|      0.7710843373493976| 0.13636363636363635|0.045454545454545456| 0.0449438202247191|    0.07865168539325842| 0.06818181818181818|               0.0| 0.03422409751523676|  Midfield|Central Midfield|  0.4583333333333333|\n",
      "|0.0172015| 0.6486486486486487|    0.575|     0.56|          Left|     0.25|        0.0|Medium/Medium|                0.0|                0.0|                0.0|                0.0|               0.0|               0.0|0.06976744186046512|0.14285714285714285|      0.056818181818181816|    0.19753086419753085|0.10465116279069768| 0.0989010989010989| 0.1511627906976744|0.17777777777777778|0.21951219512195122|0.07058823529411765|   0.4024390243902439|  0.32926829268292684| 0.5733333333333334|                0.7|               0.44|0.4520547945205479| 0.6764705882352942|0.34177215189873417| 0.7142857142857143|0.11627906976744186| 0.21686746987951808|    0.23529411764705882|  0.11827956989247312| 0.5119047619047619| 0.1686746987951807| 0.5405405405405406|        0.14942528735632185|      0.09411764705882353|     0.07228915662650602|  0.8522727272727273|  0.8295454545454546| 0.7640449438202247|     0.8539325842696629|  0.8863636363636364|0.6923076923076923| 0.03109860915768089|Goalkeeper|      Goalkeeper|  0.5416666666666666|\n",
      "|0.0199976| 0.5675675675675675|    0.725|     0.68|         Right|     0.25|        0.0|Medium/Medium|                0.0|                0.0|                0.0|                0.0|               0.0|               0.0|0.05813953488372093|0.16483516483516483|       0.14772727272727273|    0.24691358024691357|0.09302325581395349|0.16483516483516483|0.08139534883720931|0.18888888888888888| 0.0975609756097561|0.15294117647058825|   0.4024390243902439|   0.2804878048780488|               0.48| 0.6666666666666666| 0.5066666666666667|0.4246575342465753| 0.6029411764705882|0.26582278481012656| 0.5857142857142857|0.13953488372093023| 0.14457831325301204|    0.27058823529411763|  0.16129032258064516|0.40476190476190477|0.14457831325301204|  0.581081081081081|         0.2413793103448276|      0.10588235294117647|     0.07228915662650602|  0.8181818181818182|  0.8181818181818182| 0.7415730337078652|     0.8202247191011236|  0.8295454545454546|0.6615384615384615| 0.00922019065478981|Goalkeeper|      Goalkeeper|  0.5416666666666666|\n",
      "|0.0203504| 0.3783783783783784|     0.65|     0.46|         Right|      0.5|       0.25|Medium/Medium| 0.5154639175257731|               0.75| 0.6129032258064516| 0.6808510638297872|0.3076923076923077|0.6888888888888889| 0.5697674418604651| 0.7362637362637363|        0.8181818181818182|     0.6419753086419753| 0.6162790697674418| 0.6593406593406593| 0.4069767441860465| 0.4666666666666667| 0.4878048780487805| 0.6823529411764706|   0.5121951219512195|  0.35365853658536583| 0.4533333333333333| 0.5833333333333334|               0.64|0.7123287671232876| 0.8823529411764706| 0.6075949367088608| 0.6428571428571429|  0.686046511627907| 0.25301204819277107|    0.21176470588235294|   0.7419354838709677| 0.5595238095238095| 0.7108433734939759| 0.5675675675675675|        0.19540229885057472|       0.1411764705882353|     0.20481927710843373| 0.10227272727272728| 0.13636363636363635|0.12359550561797752|    0.12359550561797752|               0.125|               0.0| 0.00922019065478981|    Attack|  Centre-Forward|  0.4583333333333333|\n",
      "|0.0253765| 0.5945945945945946|    0.625|     0.48|          Left|      0.5|       0.25|Medium/Medium| 0.5360824742268041|                0.5| 0.7204301075268817| 0.6382978723404256|0.8351648351648352|0.8666666666666667| 0.6511627906976745| 0.2967032967032967|        0.8068181818181818|     0.7037037037037037| 0.6395348837209303| 0.6153846153846154|0.37209302325581395| 0.5777777777777777| 0.8048780487804879| 0.6823529411764706|   0.4024390243902439|   0.4878048780487805|                0.2|                0.6| 0.5333333333333333|0.7123287671232876| 0.9117647058823529| 0.6329113924050633| 0.8142857142857143|  0.627906976744186|  0.8072289156626506|     0.8235294117647058|  0.27956989247311825| 0.6904761904761905| 0.3373493975903614| 0.6351351351351351|         0.7931034482758621|       0.8235294117647058|      0.8313253012048193| 0.14772727272727273| 0.09090909090909091|0.12359550561797752|    0.06741573033707865| 0.10227272727272728|               0.0|0.024847632442569153|  Defender|     Centre-Back|  0.4583333333333333|\n",
      "|0.0338794| 0.3783783783783784|     0.65|      0.5|         Right|      0.5|       0.25|  Medium/High|0.38144329896907214|0.45652173913043476| 0.5913978494623656| 0.6382978723404256|0.7692307692307693|0.7777777777777778|0.36046511627906974| 0.4175824175824176|        0.6818181818181818|     0.7037037037037037|0.32558139534883723| 0.6043956043956044| 0.3023255813953488| 0.2777777777777778| 0.6341463414634146| 0.6823529411764706|   0.3048780487804878|  0.24390243902439024| 0.5066666666666667|0.36666666666666664|               0.28|0.4657534246575342|0.36764705882352944| 0.6962025316455697|                0.7|0.32558139534883723|  0.6144578313253012|     0.7058823529411765|  0.41935483870967744| 0.4880952380952381|0.37349397590361444|0.43243243243243246|         0.7471264367816092|       0.7764705882352941|      0.7831325301204819|0.056818181818181816| 0.10227272727272728| 0.0449438202247191|    0.12359550561797752| 0.13636363636363635|               0.0|0.021722144085013283|  Defender|     Centre-Back|  0.2916666666666667|\n",
      "| 0.034095| 0.8378378378378378|    0.375|      0.4|         Right|      1.0|       0.75|    High/High| 0.8762886597938144| 0.9021739130434783| 0.8064516129032258| 0.9042553191489362|0.6263736263736264|0.8555555555555555| 0.7558139534883721| 0.9120879120879121|        0.8977272727272727|     0.8024691358024691|  0.872093023255814| 0.8901098901098901|  0.813953488372093|                0.6| 0.7439024390243902| 0.8823529411764706|   0.8902439024390244|   0.8170731707317073| 0.8933333333333333| 0.8833333333333333| 0.8666666666666667|0.8904109589041096| 0.7941176470588235| 0.8481012658227848| 0.6571428571428571|  0.813953488372093|   0.891566265060241|     0.5882352941176471|   0.9247311827956989| 0.7976190476190477| 0.7228915662650602| 0.7837837837837838|         0.5517241379310345|       0.5764705882352941|      0.4578313253012048|0.056818181818181816| 0.11363636363636363|0.14606741573033707|    0.07865168539325842| 0.10227272727272728|               0.0|  0.3749023284888264|    Attack|     Left Winger|  0.3333333333333333|\n",
      "|0.0344392|0.43243243243243246|    0.475|     0.44|         Right|      0.5|        0.5|Medium/Medium| 0.7525773195876289|0.44565217391304346| 0.6451612903225806|  0.723404255319149|0.7142857142857143|0.8111111111111111| 0.6744186046511628| 0.3516483516483517|        0.5909090909090909|      0.654320987654321|0.36046511627906974| 0.7252747252747253| 0.6162790697674418|0.37777777777777777|  0.524390243902439| 0.6941176470588235|   0.6951219512195121|   0.7195121951219512|               0.56|                0.6| 0.5866666666666667|0.4794520547945205| 0.6617647058823529| 0.8227848101265823| 0.6428571428571429|0.37209302325581395|  0.7228915662650602|     0.7176470588235294|   0.6344086021505376| 0.5476190476190477|0.46987951807228917| 0.5135135135135135|         0.6551724137931034|       0.7058823529411765|      0.7108433734939759| 0.03409090909090909|0.056818181818181816| 0.0898876404494382|   0.033707865168539325| 0.13636363636363635|               0.0| 0.00734489764025629|  Defender|      Right-Back|  0.3333333333333333|\n",
      "|0.0354173| 0.2972972972972973|     0.55|      0.5|         Right|      0.5|       0.25|Medium/Medium| 0.5257731958762887|0.33695652173913043|0.41935483870967744|0.46808510638297873|0.7362637362637363|0.7111111111111111|0.29069767441860467|0.23076923076923078|        0.7159090909090909|     0.4567901234567901|  0.313953488372093| 0.3956043956043956| 0.2558139534883721|0.26666666666666666| 0.4268292682926829| 0.4235294117647059|  0.35365853658536583|                  0.5|                0.2|                0.5|               0.56|0.4383561643835616| 0.6029411764705882|  0.569620253164557| 0.6142857142857143|0.22093023255813954|  0.5783132530120482|     0.7294117647058823|  0.22580645161290322|0.21428571428571427|0.43373493975903615| 0.5540540540540541|         0.6781609195402298|       0.7294117647058823|      0.7228915662650602|0.045454545454545456| 0.06818181818181818|0.10112359550561797|    0.06741573033707865| 0.06818181818181818|               0.0|0.010470385997812158|  Defender|     Centre-Back|  0.2916666666666667|\n",
      "| 0.040426|0.35135135135135137|    0.525|     0.34|          Left|     0.25|       0.25|Medium/Medium| 0.6907216494845361|0.44565217391304346| 0.6021505376344086| 0.7021276595744681|0.7032967032967034|0.6555555555555556| 0.6976744186046512| 0.3626373626373626|        0.5681818181818182|     0.6296296296296297|  0.313953488372093| 0.6923076923076923| 0.4186046511627907|0.43333333333333335| 0.4634146341463415| 0.6941176470588235|   0.6341463414634146|   0.6341463414634146| 0.6266666666666667| 0.4166666666666667| 0.5466666666666666|0.3424657534246575| 0.4852941176470588| 0.6075949367088608|0.42857142857142855|0.46511627906976744|  0.6024096385542169|     0.6470588235294118|   0.5053763440860215|0.38095238095238093| 0.4819277108433735|0.35135135135135137|         0.6551724137931034|       0.7058823529411765|      0.7469879518072289|               0.125|0.045454545454545456| 0.0449438202247191|    0.10112359550561797|0.045454545454545456|               0.0|0.012345679012345678|  Defender|       Left-Back| 0.20833333333333334|\n",
      "|0.0423444| 0.6756756756756757|     0.05|     0.22|         Right|      0.5|        0.5|  Medium/High| 0.6185567010309279| 0.6086956521739131| 0.8279569892473119| 0.8191489361702128|0.8461538461538461|0.7222222222222222| 0.7441860465116279| 0.5494505494505495|                     0.625|     0.8888888888888888| 0.5930232558139535| 0.8131868131868132| 0.5465116279069767| 0.5666666666666667| 0.8658536585365854|                0.8|    0.573170731707317|    0.524390243902439| 0.7733333333333333| 0.6833333333333333| 0.7733333333333333|0.5616438356164384| 0.4411764705882353| 0.6455696202531646| 0.5428571428571428| 0.6395348837209303|  0.6867469879518072|     0.8470588235294118|   0.6451612903225806| 0.8214285714285714| 0.4819277108433735| 0.5945945945945946|         0.8275862068965517|       0.8588235294117647|      0.8795180722891566| 0.13636363636363635| 0.10227272727272728|0.06741573033707865|    0.12359550561797752| 0.07954545454545454|               0.0| 0.08735739959368652|  Midfield|Central Midfield|                0.25|\n",
      "|0.0481688| 0.4594594594594595|      0.5|     0.36|         Right|     0.25|       0.25|Medium/Medium| 0.7835051546391752| 0.6521739130434783| 0.6774193548387096| 0.7340425531914894|0.7472527472527473|               0.8| 0.4883720930232558| 0.5494505494505495|        0.6477272727272727|     0.7530864197530864| 0.5116279069767442| 0.7032967032967034|                0.5|0.37777777777777777| 0.7195121951219512| 0.7529411764705882|   0.7560975609756098|   0.7317073170731707| 0.6266666666666667| 0.5666666666666667| 0.6133333333333333| 0.684931506849315| 0.5735294117647058|  0.810126582278481| 0.6285714285714286|  0.813953488372093|  0.7228915662650602|     0.7058823529411765|   0.5698924731182796| 0.6190476190476191| 0.3614457831325301| 0.5945945945945946|         0.7471264367816092|       0.7058823529411765|      0.7228915662650602| 0.06818181818181818| 0.06818181818181818|0.07865168539325842|    0.06741573033707865| 0.09090909090909091|               0.0|0.015471167369901548|  Midfield|Central Midfield|               0.125|\n",
      "|0.0566723| 0.5945945945945946|    0.375|      0.3|          Left|     0.25|       0.75|Medium/Medium| 0.8247422680412371| 0.7608695652173914| 0.8172043010752689|  0.851063829787234|0.5494505494505495|0.5888888888888889| 0.7790697674418605| 0.7362637362637363|        0.3522727272727273|     0.7901234567901234|  0.627906976744186| 0.8351648351648352| 0.8023255813953488| 0.7111111111111111| 0.7682926829268293| 0.8235294117647058|   0.8170731707317073|   0.7682926829268293|               0.96|               0.65| 0.8933333333333333|0.7397260273972602|0.35294117647058826| 0.6455696202531646|0.22857142857142856| 0.7325581395348837|  0.6626506024096386|    0.49411764705882355|   0.7096774193548387| 0.8095238095238095| 0.6987951807228916| 0.6756756756756757|         0.5402298850574713|       0.5647058823529412|     0.46987951807228917| 0.07954545454545454| 0.10227272727272728|0.07865168539325842|     0.0898876404494382| 0.09090909090909091|               0.0|  0.1373652133145804|    Attack|    Right Winger|               0.125|\n",
      "|0.0607226|0.35135135135135137|    0.425|     0.28|          Left|      0.5|        0.5|Medium/Medium| 0.7835051546391752| 0.6521739130434783| 0.6774193548387096| 0.7340425531914894|0.4065934065934066|0.5888888888888889| 0.6744186046511628| 0.6153846153846154|        0.5113636363636364|     0.6790123456790124| 0.6395348837209303| 0.7472527472527473| 0.6162790697674418|                0.5| 0.5853658536585366| 0.7176470588235294|   0.7317073170731707|   0.7439024390243902|                0.6| 0.5166666666666667| 0.6533333333333333|0.6027397260273972| 0.4117647058823529| 0.4936708860759494|0.42857142857142855| 0.6511627906976745| 0.43373493975903615|     0.3058823529411765|   0.5698924731182796| 0.6071428571428571| 0.6024096385542169|                0.5|          0.367816091954023|      0.32941176470588235|      0.3132530120481928| 0.13636363636363635| 0.11363636363636363|0.14606741573033707|    0.06741573033707865| 0.13636363636363635|               0.0|0.012345679012345678|    Attack|    Right Winger|0.041666666666666664|\n",
      "|0.0023523| 0.2702702702702703|    0.675|     0.64|         Right|     0.25|        0.0|Medium/Medium|                0.0|                0.0|                0.0|                0.0|               0.0|               0.0|0.09302325581395349|0.14285714285714285|       0.10227272727272728|     0.4444444444444444|0.16279069767441862| 0.1978021978021978|0.12790697674418605|0.15555555555555556|0.45121951219512196|0.36470588235294116|  0.18292682926829268|  0.24390243902439024|0.17333333333333334|0.31666666666666665|0.25333333333333335| 0.410958904109589| 0.3088235294117647|0.20253164556962025| 0.6714285714285714|0.12790697674418605|  0.1927710843373494|    0.18823529411764706|  0.12903225806451613| 0.5833333333333334|0.25301204819277107| 0.3108108108108108|        0.21839080459770116|      0.10588235294117647|    0.060240963855421686|  0.7045454545454546|  0.7159090909090909| 0.7303370786516854|     0.7191011235955056|  0.6818181818181818|0.5076923076923077|1.562744178777934E-4|Goalkeeper|      Goalkeeper|               0.875|\n",
      "+---------+-------------------+---------+---------+--------------+---------+-----------+-------------+-------------------+-------------------+-------------------+-------------------+------------------+------------------+-------------------+-------------------+--------------------------+-----------------------+-------------------+-------------------+-------------------+-------------------+-------------------+-------------------+---------------------+---------------------+-------------------+-------------------+-------------------+------------------+-------------------+-------------------+-------------------+-------------------+--------------------+-----------------------+---------------------+-------------------+-------------------+-------------------+---------------------------+-------------------------+------------------------+--------------------+--------------------+-------------------+-----------------------+--------------------+------------------+--------------------+----------+----------------+--------------------+\n",
      "only showing top 20 rows\n",
      "\n"
     ]
    }
   ],
   "source": [
    "df.show()"
   ]
  },
  {
   "cell_type": "code",
   "execution_count": 23,
   "metadata": {},
   "outputs": [
    {
     "name": "stdout",
     "output_type": "stream",
     "text": [
      "+--------------------+-------------------+-------------------+-----------+-------------------+---------------------+-------------------+-------------------+-----------------------+--------------------+-------------------+-------------------+---------+--------------------------+-------------------+-------------------+------------------+--------------------+------------------+-------------------+--------------------+-------------------+-------------------+-----------------------+------------------------+---------------------+-------------------+-------------------+-------------------+-------------------+---------+-------------------+-------------------+-------------------+--------------------+-------------------+---------+-------------------------+-------------------+-------------------+---------------------------+---------------------+--------------------+-------------------+-------------------+------------------+------------------+-----------------------+---------+--------------------+----------+\n",
      "|  goalkeeping_diving|  skill_fk_accuracy|               pace|skill_moves|     power_strength|movement_acceleration|   movement_agility|      power_jumping|goalkeeping_positioning|goalkeeping_handling| skill_long_passing|   mentality_vision|weak_foot|attacking_heading_accuracy| movement_reactions|   movement_balance|  power_shot_power|mentality_aggression|            physic|            passing|goalkeeping_reflexes|  attacking_volleys|        skill_curve|mentality_interceptions|defending_sliding_tackle|movement_sprint_speed|    skill_dribbling|   power_long_shots|           shooting| attacking_crossing|weight_kg|          dribbling|attacking_finishing|mentality_composure|      last_valuation|      power_stamina|height_cm|defending_standing_tackle|goalkeeping_kicking| skill_ball_control|defending_marking_awareness|mentality_positioning|                 age|            overall|mentality_penalties| goalkeeping_speed|         defending|attacking_short_passing|player_id|            features|prediction|\n",
      "+--------------------+-------------------+-------------------+-----------+-------------------+---------------------+-------------------+-------------------+-----------------------+--------------------+-------------------+-------------------+---------+--------------------------+-------------------+-------------------+------------------+--------------------+------------------+-------------------+--------------------+-------------------+-------------------+-----------------------+------------------------+---------------------+-------------------+-------------------+-------------------+-------------------+---------+-------------------+-------------------+-------------------+--------------------+-------------------+---------+-------------------------+-------------------+-------------------+---------------------------+---------------------+--------------------+-------------------+-------------------+------------------+------------------+-----------------------+---------+--------------------+----------+\n",
      "| 0.09090909090909091|0.43333333333333335| 0.5773195876288659|       0.25| 0.8428571428571429|   0.4024390243902439|0.49333333333333335| 0.6911764705882353|    0.14606741573033707| 0.10227272727272728| 0.8658536585365854| 0.7380952380952381|      0.5|        0.8977272727272727| 0.7833333333333333|0.18666666666666668|0.5753424657534246|  0.8192771084337349|0.8555555555555555| 0.7634408602150538| 0.06818181818181818| 0.6162790697674418| 0.5930232558139535|     0.9176470588235294|      0.9156626506024096|    0.573170731707317| 0.6483516483516484| 0.5348837209302325| 0.6630434782608695| 0.5697674418604651|     0.64|  0.723404255319149| 0.6813186813186813| 0.8717948717948718| 0.03109860915768089|  0.569620253164557|    0.775|       0.9058823529411765| 0.1348314606741573| 0.8352941176470589|          0.896551724137931|   0.6774193548387096|                0.75| 0.7837837837837838| 0.7228915662650602|               0.0|0.9230769230769231|     0.8395061728395061|0.0018944|[0.09090909090909...|        18|\n",
      "|0.045454545454545456|                0.3| 0.3711340206185567|       0.25| 0.7714285714285715|  0.24390243902439024|               0.36| 0.7794117647058824|    0.15730337078651685| 0.06818181818181818| 0.6707317073170732|0.44047619047619047|     0.75|        0.8295454545454546|               0.65|               0.48|0.5068493150684932|  0.8072289156626506|0.8111111111111111| 0.6129032258064516| 0.10227272727272728|0.37209302325581395|0.36046511627906974|     0.7647058823529411|      0.8192771084337349|   0.2682926829268293| 0.4175824175824176| 0.4186046511627907|0.40217391304347827|0.47674418604651164|      0.6| 0.5531914893617021|0.24175824175824176| 0.6923076923076923| 0.00922019065478981| 0.4936708860759494|    0.525|                      0.8|0.11235955056179775| 0.6352941176470588|         0.7931034482758621|   0.3870967741935484|  0.7083333333333334| 0.5405405405405406|0.40963855421686746|               0.0|0.8241758241758241|     0.7037037037037037| 0.005737|[0.04545454545454...|        38|\n",
      "| 0.14772727272727273|                0.4| 0.5154639175257731|       0.25| 0.7857142857142857|  0.36585365853658536| 0.5466666666666666| 0.7794117647058824|    0.14606741573033707| 0.06818181818181818| 0.6585365853658537|0.44047619047619047|      0.5|        0.7613636363636364| 0.5166666666666667|               0.44|0.7123287671232876|  0.8072289156626506|0.8666666666666667| 0.6451612903225806| 0.09090909090909091|                0.5|  0.686046511627907|     0.7529411764705882|      0.7108433734939759|  0.47560975609756095| 0.5714285714285714|  0.627906976744186| 0.5760869565217391| 0.5930232558139535|      0.5| 0.6276595744680851| 0.4725274725274725| 0.5256410256410257|0.005469604625722769| 0.7468354430379747|     0.55|       0.7176470588235294| 0.1348314606741573| 0.6235294117647059|          0.735632183908046|   0.3548387096774194|               0.625|0.43243243243243246| 0.4457831325301205|               0.0|0.7582417582417582|     0.7037037037037037|0.0067089|[0.14772727272727...|        22|\n",
      "| 0.06818181818181818| 0.5777777777777777| 0.7525773195876289|        0.5| 0.8428571428571429|   0.6341463414634146| 0.5733333333333334| 0.6911764705882353|     0.0449438202247191|               0.125| 0.7439024390243902|               0.75|     0.75|        0.8522727272727273|               0.65|               0.36| 0.821917808219178|  0.7710843373493976|               0.9| 0.7956989247311828| 0.07954545454545454| 0.8488372093023255| 0.8023255813953488|                    0.8|      0.8674698795180723|   0.7682926829268293| 0.7802197802197802| 0.8372093023255814| 0.8043478260869565| 0.8604651162790697|     0.74| 0.7659574468085106| 0.7362637362637363|  0.717948717948718| 0.05610251601812783| 0.8481012658227848|      0.7|       0.7764705882352941|0.14606741573033707| 0.7529411764705882|         0.7586206896551724|   0.7741935483870968|  0.5416666666666666| 0.6486486486486487| 0.6746987951807228|               0.0|0.8131868131868132|     0.7530864197530864|0.0100986|[0.06818181818181...|        20|\n",
      "|0.056818181818181816| 0.4111111111111111| 0.7010309278350515|       0.25| 0.8142857142857143|  0.47560975609756095| 0.4533333333333333| 0.4117647058823529|    0.10112359550561797| 0.11363636363636363| 0.6341463414634146| 0.5357142857142857|      0.5|        0.7045454545454546| 0.5666666666666667| 0.4266666666666667| 0.547945205479452|  0.8674698795180723|               0.9| 0.6236559139784946|               0.125|0.43023255813953487|0.38372093023255816|     0.7529411764705882|      0.7710843373493976|   0.7926829268292683| 0.5714285714285714| 0.5581395348837209| 0.5108695652173914| 0.5116279069767442|     0.64| 0.5851063829787234| 0.3956043956043956| 0.6025641025641025|0.004844506954211595| 0.8481012658227848|     0.65|       0.7529411764705882|0.11235955056179775| 0.5058823529411764|         0.7701149425287356|  0.46236559139784944|  0.5833333333333334| 0.4594594594594595| 0.4457831325301205|               0.0|0.7802197802197802|      0.654320987654321|0.0153555|[0.05681818181818...|        41|\n",
      "| 0.13636363636363635| 0.5555555555555556| 0.6494845360824743|        0.5|                0.7|   0.6097560975609756|                0.6|0.45588235294117646|    0.07865168539325842|0.045454545454545456| 0.7926829268292683| 0.7619047619047619|      1.0|        0.6590909090909091| 0.5833333333333334|               0.72|0.8082191780821918|  0.8554216867469879|0.8555555555555555| 0.7849462365591398| 0.06818181818181818| 0.6976744186046512| 0.7790697674418605|      0.788235294117647|      0.7710843373493976|   0.5609756097560976| 0.7142857142857143| 0.8023255813953488| 0.7608695652173914|  0.686046511627907|     0.42| 0.7553191489361702| 0.6923076923076923| 0.7307692307692307| 0.03422409751523676| 0.8607594936708861|     0.45|       0.7529411764705882| 0.0449438202247191|                0.8|         0.7931034482758621|   0.7096774193548387|  0.4583333333333333| 0.5675675675675675| 0.5180722891566265|               0.0|0.7912087912087912|     0.8148148148148148|0.0156941|[0.13636363636363...|        20|\n",
      "|  0.8522727272727273|0.17777777777777778|                0.0|        0.0| 0.7142857142857143|   0.4024390243902439| 0.5733333333333334| 0.6764705882352942|     0.8539325842696629|  0.8295454545454546|0.21951219512195122| 0.5119047619047619|     0.25|      0.056818181818181816|                0.7|               0.44|0.4520547945205479| 0.21686746987951808|               0.0|                0.0|  0.8863636363636364|0.10465116279069768| 0.1511627906976744|    0.23529411764705882|     0.07228915662650602|  0.32926829268292684| 0.0989010989010989|0.11627906976744186|                0.0|0.06976744186046512|     0.56|                0.0|0.14285714285714285| 0.5641025641025641| 0.03109860915768089|0.34177215189873417|    0.575|      0.09411764705882353| 0.7640449438202247|0.07058823529411765|        0.14942528735632185|  0.11827956989247312|  0.5416666666666666| 0.6486486486486487| 0.1686746987951807|0.6923076923076923|               0.0|    0.19753086419753085|0.0172015|[0.85227272727272...|        29|\n",
      "|  0.8181818181818182|0.18888888888888888|                0.0|        0.0| 0.5857142857142857|   0.4024390243902439|               0.48| 0.6029411764705882|     0.8202247191011236|  0.8181818181818182| 0.0975609756097561|0.40476190476190477|     0.25|       0.14772727272727273| 0.6666666666666666| 0.5066666666666667|0.4246575342465753| 0.14457831325301204|               0.0|                0.0|  0.8295454545454546|0.09302325581395349|0.08139534883720931|    0.27058823529411763|     0.07228915662650602|   0.2804878048780488|0.16483516483516483|0.13953488372093023|                0.0|0.05813953488372093|     0.68|                0.0|0.16483516483516483| 0.6025641025641025| 0.00922019065478981|0.26582278481012656|    0.725|      0.10588235294117647| 0.7415730337078652|0.15294117647058825|         0.2413793103448276|  0.16129032258064516|  0.5416666666666666| 0.5675675675675675|0.14457831325301204|0.6615384615384615|               0.0|    0.24691358024691357|0.0199976|[0.81818181818181...|        29|\n",
      "| 0.10227272727272728| 0.4666666666666667| 0.5154639175257731|       0.25| 0.6428571428571429|   0.5121951219512195| 0.4533333333333333| 0.8823529411764706|    0.12359550561797752| 0.13636363636363635| 0.4878048780487805| 0.5595238095238095|      0.5|        0.8181818181818182| 0.5833333333333334|               0.64|0.7123287671232876| 0.25301204819277107|0.6888888888888889| 0.6129032258064516|               0.125| 0.6162790697674418| 0.4069767441860465|    0.21176470588235294|     0.20481927710843373|  0.35365853658536583| 0.6593406593406593|  0.686046511627907|               0.75| 0.5697674418604651|     0.46| 0.6808510638297872| 0.7362637362637363| 0.5897435897435898| 0.00922019065478981| 0.6075949367088608|     0.65|       0.1411764705882353|0.12359550561797752| 0.6823529411764706|        0.19540229885057472|   0.7419354838709677|  0.4583333333333333| 0.3783783783783784| 0.7108433734939759|               0.0|0.3076923076923077|     0.6419753086419753|0.0203504|[0.10227272727272...|        44|\n",
      "| 0.14772727272727273| 0.5777777777777777| 0.5360824742268041|       0.25| 0.8142857142857143|   0.4024390243902439|                0.2| 0.9117647058823529|    0.06741573033707865| 0.09090909090909091| 0.8048780487804879| 0.6904761904761905|      0.5|        0.8068181818181818|                0.6| 0.5333333333333333|0.7123287671232876|  0.8072289156626506|0.8666666666666667| 0.7204301075268817| 0.10227272727272728| 0.6395348837209303|0.37209302325581395|     0.8235294117647058|      0.8313253012048193|   0.4878048780487805| 0.6153846153846154|  0.627906976744186|                0.5| 0.6511627906976745|     0.48| 0.6382978723404256| 0.2967032967032967| 0.6538461538461539|0.024847632442569153| 0.6329113924050633|    0.625|       0.8235294117647058|0.12359550561797752| 0.6823529411764706|         0.7931034482758621|  0.27956989247311825|  0.4583333333333333| 0.5945945945945946| 0.3373493975903614|               0.0|0.8351648351648352|     0.7037037037037037|0.0253765|[0.14772727272727...|        18|\n",
      "|0.056818181818181816| 0.2777777777777778|0.38144329896907214|       0.25|                0.7|   0.3048780487804878| 0.5066666666666667|0.36764705882352944|    0.12359550561797752| 0.10227272727272728| 0.6341463414634146| 0.4880952380952381|      0.5|        0.6818181818181818|0.36666666666666664|               0.28|0.4657534246575342|  0.6144578313253012|0.7777777777777778| 0.5913978494623656| 0.13636363636363635|0.32558139534883723| 0.3023255813953488|     0.7058823529411765|      0.7831325301204819|  0.24390243902439024| 0.6043956043956044|0.32558139534883723|0.45652173913043476|0.36046511627906974|      0.5| 0.6382978723404256| 0.4175824175824176|0.46153846153846156|0.021722144085013283| 0.6962025316455697|     0.65|       0.7764705882352941| 0.0449438202247191| 0.6823529411764706|         0.7471264367816092|  0.41935483870967744|  0.2916666666666667| 0.3783783783783784|0.37349397590361444|               0.0|0.7692307692307693|     0.7037037037037037|0.0338794|[0.05681818181818...|        42|\n",
      "|0.056818181818181816|                0.6| 0.8762886597938144|       0.75| 0.6571428571428571|   0.8902439024390244| 0.8933333333333333| 0.7941176470588235|    0.07865168539325842| 0.11363636363636363| 0.7439024390243902| 0.7976190476190477|      1.0|        0.8977272727272727| 0.8833333333333333| 0.8666666666666667|0.8904109589041096|   0.891566265060241|0.8555555555555555| 0.8064516129032258| 0.10227272727272728|  0.872093023255814|  0.813953488372093|     0.5882352941176471|      0.4578313253012048|   0.8170731707317073| 0.8901098901098901|  0.813953488372093| 0.9021739130434783| 0.7558139534883721|      0.4| 0.9042553191489362| 0.9120879120879121| 0.7948717948717948|  0.3749023284888264| 0.8481012658227848|    0.375|       0.5764705882352941|0.14606741573033707| 0.8823529411764706|         0.5517241379310345|   0.9247311827956989|  0.3333333333333333| 0.8378378378378378| 0.7228915662650602|               0.0|0.6263736263736264|     0.8024691358024691| 0.034095|[0.05681818181818...|        11|\n",
      "| 0.03409090909090909|0.37777777777777777| 0.7525773195876289|        0.5| 0.6428571428571429|   0.6951219512195121|               0.56| 0.6617647058823529|   0.033707865168539325|0.056818181818181816|  0.524390243902439| 0.5476190476190477|      0.5|        0.5909090909090909|                0.6| 0.5866666666666667|0.4794520547945205|  0.7228915662650602|0.8111111111111111| 0.6451612903225806| 0.13636363636363635|0.36046511627906974| 0.6162790697674418|     0.7176470588235294|      0.7108433734939759|   0.7195121951219512| 0.7252747252747253|0.37209302325581395|0.44565217391304346| 0.6744186046511628|     0.44|  0.723404255319149| 0.3516483516483517| 0.5384615384615384| 0.00734489764025629| 0.8227848101265823|    0.475|       0.7058823529411765| 0.0898876404494382| 0.6941176470588235|         0.6551724137931034|   0.6344086021505376|  0.3333333333333333|0.43243243243243246|0.46987951807228917|               0.0|0.7142857142857143|      0.654320987654321|0.0344392|[0.03409090909090...|        31|\n",
      "|0.045454545454545456|0.26666666666666666| 0.5257731958762887|       0.25| 0.6142857142857143|  0.35365853658536583|                0.2| 0.6029411764705882|    0.06741573033707865| 0.06818181818181818| 0.4268292682926829|0.21428571428571427|      0.5|        0.7159090909090909|                0.5|               0.56|0.4383561643835616|  0.5783132530120482|0.7111111111111111|0.41935483870967744| 0.06818181818181818|  0.313953488372093| 0.2558139534883721|     0.7294117647058823|      0.7228915662650602|                  0.5| 0.3956043956043956|0.22093023255813954|0.33695652173913043|0.29069767441860467|      0.5|0.46808510638297873|0.23076923076923078| 0.5769230769230769|0.010470385997812158|  0.569620253164557|     0.55|       0.7294117647058823|0.10112359550561797| 0.4235294117647059|         0.6781609195402298|  0.22580645161290322|  0.2916666666666667| 0.2972972972972973|0.43373493975903615|               0.0|0.7362637362637363|     0.4567901234567901|0.0354173|[0.04545454545454...|         7|\n",
      "|               0.125|0.43333333333333335| 0.6907216494845361|       0.25|0.42857142857142855|   0.6341463414634146| 0.6266666666666667| 0.4852941176470588|    0.10112359550561797|0.045454545454545456| 0.4634146341463415|0.38095238095238093|     0.25|        0.5681818181818182| 0.4166666666666667| 0.5466666666666666|0.3424657534246575|  0.6024096385542169|0.6555555555555556| 0.6021505376344086|0.045454545454545456|  0.313953488372093| 0.4186046511627907|     0.6470588235294118|      0.7469879518072289|   0.6341463414634146| 0.6923076923076923|0.46511627906976744|0.44565217391304346| 0.6976744186046512|     0.34| 0.7021276595744681| 0.3626373626373626|0.38461538461538464|0.012345679012345678| 0.6075949367088608|    0.525|       0.7058823529411765| 0.0449438202247191| 0.6941176470588235|         0.6551724137931034|   0.5053763440860215| 0.20833333333333334|0.35135135135135137| 0.4819277108433735|               0.0|0.7032967032967034|     0.6296296296296297| 0.040426|[0.125,0.43333333...|         9|\n",
      "| 0.13636363636363635| 0.5666666666666667| 0.6185567010309279|        0.5| 0.5428571428571428|    0.573170731707317| 0.7733333333333333| 0.4411764705882353|    0.12359550561797752| 0.10227272727272728| 0.8658536585365854| 0.8214285714285714|      0.5|                     0.625| 0.6833333333333333| 0.7733333333333333|0.5616438356164384|  0.6867469879518072|0.7222222222222222| 0.8279569892473119| 0.07954545454545454| 0.5930232558139535| 0.5465116279069767|     0.8470588235294118|      0.8795180722891566|    0.524390243902439| 0.8131868131868132| 0.6395348837209303| 0.6086956521739131| 0.7441860465116279|     0.22| 0.8191489361702128| 0.5494505494505495| 0.6153846153846154| 0.08735739959368652| 0.6455696202531646|     0.05|       0.8588235294117647|0.06741573033707865|                0.8|         0.8275862068965517|   0.6451612903225806|                0.25| 0.6756756756756757| 0.4819277108433735|               0.0|0.8461538461538461|     0.8888888888888888|0.0423444|[0.13636363636363...|        15|\n",
      "| 0.06818181818181818|0.37777777777777777| 0.7835051546391752|       0.25| 0.6285714285714286|   0.7560975609756098| 0.6266666666666667| 0.5735294117647058|    0.06741573033707865| 0.06818181818181818| 0.7195121951219512| 0.6190476190476191|     0.25|        0.6477272727272727| 0.5666666666666667| 0.6133333333333333| 0.684931506849315|  0.7228915662650602|               0.8| 0.6774193548387096| 0.09090909090909091| 0.5116279069767442|                0.5|     0.7058823529411765|      0.7228915662650602|   0.7317073170731707| 0.7032967032967034|  0.813953488372093| 0.6521739130434783| 0.4883720930232558|     0.36| 0.7340425531914894| 0.5494505494505495| 0.6153846153846154|0.015471167369901548|  0.810126582278481|      0.5|       0.7058823529411765|0.07865168539325842| 0.7529411764705882|         0.7471264367816092|   0.5698924731182796|               0.125| 0.4594594594594595| 0.3614457831325301|               0.0|0.7472527472527473|     0.7530864197530864|0.0481688|[0.06818181818181...|        26|\n",
      "| 0.07954545454545454| 0.7111111111111111| 0.8247422680412371|       0.75|0.22857142857142856|   0.8170731707317073|               0.96|0.35294117647058826|     0.0898876404494382| 0.10227272727272728| 0.7682926829268293| 0.8095238095238095|     0.25|        0.3522727272727273|               0.65| 0.8933333333333333|0.7397260273972602|  0.6626506024096386|0.5888888888888889| 0.8172043010752689| 0.09090909090909091|  0.627906976744186| 0.8023255813953488|    0.49411764705882355|     0.46987951807228917|   0.7682926829268293| 0.8351648351648352| 0.7325581395348837| 0.7608695652173914| 0.7790697674418605|      0.3|  0.851063829787234| 0.7362637362637363| 0.6923076923076923|  0.1373652133145804| 0.6455696202531646|    0.375|       0.5647058823529412|0.07865168539325842| 0.8235294117647058|         0.5402298850574713|   0.7096774193548387|               0.125| 0.5945945945945946| 0.6987951807228916|               0.0|0.5494505494505495|     0.7901234567901234|0.0566723|[0.07954545454545...|        40|\n",
      "| 0.13636363636363635|                0.5| 0.7835051546391752|        0.5|0.42857142857142855|   0.7317073170731707|                0.6| 0.4117647058823529|    0.06741573033707865| 0.11363636363636363| 0.5853658536585366| 0.6071428571428571|      0.5|        0.5113636363636364| 0.5166666666666667| 0.6533333333333333|0.6027397260273972| 0.43373493975903615|0.5888888888888889| 0.6774193548387096| 0.13636363636363635| 0.6395348837209303| 0.6162790697674418|     0.3058823529411765|      0.3132530120481928|   0.7439024390243902| 0.7472527472527473| 0.6511627906976745| 0.6521739130434783| 0.6744186046511628|     0.28| 0.7340425531914894| 0.6153846153846154| 0.5256410256410257|0.012345679012345678| 0.4936708860759494|    0.425|      0.32941176470588235|0.14606741573033707| 0.7176470588235294|          0.367816091954023|   0.5698924731182796|0.041666666666666664|0.35135135135135137| 0.6024096385542169|               0.0|0.4065934065934066|     0.6790123456790124|0.0607226|[0.13636363636363...|        23|\n",
      "|  0.7045454545454546|0.15555555555555556|                0.0|        0.0| 0.6714285714285714|  0.18292682926829268|0.17333333333333334| 0.3088235294117647|     0.7191011235955056|  0.7159090909090909|0.45121951219512196| 0.5833333333333334|     0.25|       0.10227272727272728|0.31666666666666665|0.25333333333333335| 0.410958904109589|  0.1927710843373494|               0.0|                0.0|  0.6818181818181818|0.16279069767441862|0.12790697674418605|    0.18823529411764706|    0.060240963855421686|  0.24390243902439024| 0.1978021978021978|0.12790697674418605|                0.0|0.09302325581395349|     0.64|                0.0|0.14285714285714285|0.34615384615384615|1.562744178777934E-4|0.20253164556962025|    0.675|      0.10588235294117647| 0.7303370786516854|0.36470588235294116|        0.21839080459770116|  0.12903225806451613|               0.875| 0.2702702702702703|0.25301204819277107|0.5076923076923077|               0.0|     0.4444444444444444|0.0023523|[0.70454545454545...|        46|\n",
      "+--------------------+-------------------+-------------------+-----------+-------------------+---------------------+-------------------+-------------------+-----------------------+--------------------+-------------------+-------------------+---------+--------------------------+-------------------+-------------------+------------------+--------------------+------------------+-------------------+--------------------+-------------------+-------------------+-----------------------+------------------------+---------------------+-------------------+-------------------+-------------------+-------------------+---------+-------------------+-------------------+-------------------+--------------------+-------------------+---------+-------------------------+-------------------+-------------------+---------------------------+---------------------+--------------------+-------------------+-------------------+------------------+------------------+-----------------------+---------+--------------------+----------+\n",
      "only showing top 20 rows\n",
      "\n"
     ]
    }
   ],
   "source": [
    "from pyspark.ml.clustering import KMeans\n",
    "from pyspark.ml.feature import VectorAssembler\n",
    "\n",
    "# Specifica le colonne da utilizzare per il clustering\n",
    "colonne_di_feature = list(set(df.columns) - set([\"preferred_foot\", \"work_rate\", \"position\", \"sub_position\"]))\n",
    "\n",
    "# Crea un DataFrame di features per l'apprendimento automatico\n",
    "df_features = df.select(colonne_di_feature)\n",
    "\n",
    "# Calcola il valore medio delle colonne\n",
    "mean_values = df_features.select([mean(col).alias(col) for col in df_features.columns])\n",
    "\n",
    "# Riempie i valori mancanti con il valore medio\n",
    "df_features = df_features.fillna(mean_values.first().asDict())\n",
    "\n",
    "\n",
    "# Crea un oggetto VectorAssembler per creare la colonna \"features\"\n",
    "assembler = VectorAssembler(inputCols=colonne_di_feature, outputCol=\"features\")\n",
    "df_assembled = assembler.transform(df_features)\n",
    "\n",
    "# Crea un oggetto KMeans\n",
    "kmeans = KMeans().setK(50).setSeed(1)\n",
    "\n",
    "# Adatta il modello KMeans ai dati\n",
    "model = kmeans.fit(df_assembled)\n",
    "\n",
    "# Ottieni le predizioni sui dati\n",
    "predictions = model.transform(df_assembled)\n",
    "\n",
    "# Mostra i risultati del clustering\n",
    "predictions.show()\n"
   ]
  }
 ],
 "metadata": {
  "kernelspec": {
   "display_name": "Python 3",
   "language": "python",
   "name": "python3"
  },
  "language_info": {
   "codemirror_mode": {
    "name": "ipython",
    "version": 3
   },
   "file_extension": ".py",
   "mimetype": "text/x-python",
   "name": "python",
   "nbconvert_exporter": "python",
   "pygments_lexer": "ipython3",
   "version": "3.10.9"
  },
  "orig_nbformat": 4
 },
 "nbformat": 4,
 "nbformat_minor": 2
}
