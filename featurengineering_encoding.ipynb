{
 "cells": [
  {
   "attachments": {},
   "cell_type": "markdown",
   "metadata": {},
   "source": [
    "# Feature Engineering and Encoding\n",
    "**In this file, we will handle the cases in which the features values ​​are null or equal to 0. Next, some features need to be encoded to prepare the dataset for training**"
   ]
  },
  {
   "cell_type": "code",
   "execution_count": 1,
   "metadata": {
    "ExecuteTime": {
     "end_time": "2023-05-13T12:03:38.074279800Z",
     "start_time": "2023-05-13T12:03:37.559505500Z"
    }
   },
   "outputs": [],
   "source": [
    "import pyspark\n",
    "from pyspark.sql import *\n",
    "from pyspark.sql.types import *\n",
    "from pyspark.sql.functions import *\n",
    "from pyspark import SparkContext, SparkConf\n",
    "import numpy as np\n",
    "from pyspark.sql.functions import udf\n",
    "from pyspark.sql.types import BinaryType\n",
    "from pyspark.sql import SparkSession\n",
    "from pyspark.conf import SparkConf\n",
    "import pandas as pd\n",
    "from sklearn.preprocessing import LabelBinarizer\n",
    "from pyspark.ml.feature import StringIndexer"
   ]
  },
  {
   "cell_type": "code",
   "execution_count": 2,
   "metadata": {
    "ExecuteTime": {
     "end_time": "2023-05-13T12:03:39.995943900Z",
     "start_time": "2023-05-13T12:03:38.076273400Z"
    }
   },
   "outputs": [
    {
     "data": {
      "text/plain": [
       "[('spark.app.startTime', '1684163707774'),\n",
       " ('spark.app.id', 'local-1684163708938'),\n",
       " ('spark.executor.memory', '15G'),\n",
       " ('spark.driver.host', 'LAPTOP-JLLVBEPM'),\n",
       " ('spark.executor.id', 'driver'),\n",
       " ('spark.driver.memory', '50G'),\n",
       " ('spark.driver.port', '57928'),\n",
       " ('spark.executor.cores', '10'),\n",
       " ('spark.app.name', 'PySparkProject'),\n",
       " ('spark.driver.extraJavaOptions',\n",
       "  '-Djava.net.preferIPv6Addresses=false -XX:+IgnoreUnrecognizedVMOptions --add-opens=java.base/java.lang=ALL-UNNAMED --add-opens=java.base/java.lang.invoke=ALL-UNNAMED --add-opens=java.base/java.lang.reflect=ALL-UNNAMED --add-opens=java.base/java.io=ALL-UNNAMED --add-opens=java.base/java.net=ALL-UNNAMED --add-opens=java.base/java.nio=ALL-UNNAMED --add-opens=java.base/java.util=ALL-UNNAMED --add-opens=java.base/java.util.concurrent=ALL-UNNAMED --add-opens=java.base/java.util.concurrent.atomic=ALL-UNNAMED --add-opens=java.base/sun.nio.ch=ALL-UNNAMED --add-opens=java.base/sun.nio.cs=ALL-UNNAMED --add-opens=java.base/sun.security.action=ALL-UNNAMED --add-opens=java.base/sun.util.calendar=ALL-UNNAMED --add-opens=java.security.jgss/sun.security.krb5=ALL-UNNAMED -Djdk.reflect.useDirectMethodHandle=false'),\n",
       " ('spark.ui.port', '4050'),\n",
       " ('spark.driver.maxResultSize', '40G'),\n",
       " ('spark.rdd.compress', 'True'),\n",
       " ('spark.app.submitTime', '1684163707501'),\n",
       " ('spark.serializer.objectStreamReset', '100'),\n",
       " ('spark.master', 'local[*]'),\n",
       " ('spark.submit.pyFiles', ''),\n",
       " ('spark.submit.deployMode', 'client'),\n",
       " ('spark.ui.showConsoleProgress', 'true'),\n",
       " ('spark.executor.extraJavaOptions',\n",
       "  '-Djava.net.preferIPv6Addresses=false -XX:+IgnoreUnrecognizedVMOptions --add-opens=java.base/java.lang=ALL-UNNAMED --add-opens=java.base/java.lang.invoke=ALL-UNNAMED --add-opens=java.base/java.lang.reflect=ALL-UNNAMED --add-opens=java.base/java.io=ALL-UNNAMED --add-opens=java.base/java.net=ALL-UNNAMED --add-opens=java.base/java.nio=ALL-UNNAMED --add-opens=java.base/java.util=ALL-UNNAMED --add-opens=java.base/java.util.concurrent=ALL-UNNAMED --add-opens=java.base/java.util.concurrent.atomic=ALL-UNNAMED --add-opens=java.base/sun.nio.ch=ALL-UNNAMED --add-opens=java.base/sun.nio.cs=ALL-UNNAMED --add-opens=java.base/sun.security.action=ALL-UNNAMED --add-opens=java.base/sun.util.calendar=ALL-UNNAMED --add-opens=java.security.jgss/sun.security.krb5=ALL-UNNAMED -Djdk.reflect.useDirectMethodHandle=false')]"
      ]
     },
     "execution_count": 2,
     "metadata": {},
     "output_type": "execute_result"
    }
   ],
   "source": [
    "# Create the session\n",
    "conf = SparkConf(). \\\n",
    "    set('spark.ui.port', \"4050\"). \\\n",
    "    set('spark.executor.memory', '15G'). \\\n",
    "    set('spark.driver.memory', '50G'). \\\n",
    "    set('spark.driver.maxResultSize', '40G'). \\\n",
    "    setAppName(\"PySparkProject\"). \\\n",
    "    set('spark.executor.cores', \"10\"). \\\n",
    "    setMaster(\"local[*]\")\n",
    "\n",
    "sc = pyspark.SparkContext.getOrCreate(conf=conf)\n",
    "spark = SparkSession.builder.getOrCreate()\n",
    "\n",
    "sc._conf.getAll()"
   ]
  },
  {
   "cell_type": "code",
   "execution_count": 3,
   "metadata": {
    "ExecuteTime": {
     "end_time": "2023-05-13T12:03:42.527411600Z",
     "start_time": "2023-05-13T12:03:39.995943900Z"
    }
   },
   "outputs": [],
   "source": [
    "# open data.csv as pyspark dataframe\n",
    "df = spark.read.csv('dataset_preprocessing.csv', header=True, inferSchema=True)"
   ]
  },
  {
   "attachments": {},
   "cell_type": "markdown",
   "metadata": {},
   "source": [
    "The features that we have to manage are: \n",
    "- last valuation (13,45 % null --> from null to 0)\n",
    "- sub position (8,19 % null --> position)\n",
    "- age (0,04 % null --> delete examples)\n",
    "- date_birth (0,04 % null --> delete examples)\n",
    "- height (some values are 0 --> average height)"
   ]
  },
  {
   "cell_type": "code",
   "execution_count": 4,
   "metadata": {
    "ExecuteTime": {
     "end_time": "2023-05-13T12:03:42.559311800Z",
     "start_time": "2023-05-13T12:03:42.527411600Z"
    }
   },
   "outputs": [],
   "source": [
    "# the null values in the column last_valuation must be replaced with 0\n",
    "df = df.fillna({'last_valuation': 0})"
   ]
  },
  {
   "cell_type": "code",
   "execution_count": 5,
   "metadata": {
    "ExecuteTime": {
     "end_time": "2023-05-13T12:03:42.809865900Z",
     "start_time": "2023-05-13T12:03:42.779964900Z"
    }
   },
   "outputs": [],
   "source": [
    "# the null values in the column last_position must be replaced with the value in the column position\n",
    "df = df.withColumn(\"sub_position\", coalesce(col(\"sub_position\"), col(\"position\")))"
   ]
  },
  {
   "cell_type": "code",
   "execution_count": 6,
   "metadata": {
    "ExecuteTime": {
     "end_time": "2023-05-13T12:03:42.825811700Z",
     "start_time": "2023-05-13T12:03:42.810861600Z"
    }
   },
   "outputs": [],
   "source": [
    "# drop instances in which the column age or date_of_birth are null\n",
    "df = df.dropna(subset=('age', 'date_birth'))"
   ]
  },
  {
   "cell_type": "code",
   "execution_count": 7,
   "metadata": {
    "ExecuteTime": {
     "end_time": "2023-05-13T12:06:36.720791200Z",
     "start_time": "2023-05-13T12:06:36.587694500Z"
    }
   },
   "outputs": [],
   "source": [
    "# filter the dataframe to keep only the rows in which the column height is not 0\n",
    "filtered_df = df.filter(col(\"height\") != 0)\n",
    "\n",
    "# average height of filtered_df\n",
    "average_height = filtered_df.selectExpr(\"avg(height) as height_average\").first()[\"height_average\"]\n",
    "\n",
    "# replace the value 0 in the column height with the mean of the column\n",
    "df = df.withColumn(\"height\", when(col(\"height\") == 0, average_height).otherwise(col(\"height\")))"
   ]
  },
  {
   "cell_type": "code",
   "execution_count": 8,
   "metadata": {},
   "outputs": [],
   "source": [
    "#trasform the column height, last_valuation and age in integer\n",
    "df = df.withColumn(\"height\", df[\"height\"].cast(IntegerType()))\n",
    "df = df.withColumn(\"last_valuation\", df[\"last_valuation\"].cast(IntegerType()))\n",
    "df = df.withColumn(\"age\", df[\"age\"].cast(IntegerType()))"
   ]
  },
  {
   "cell_type": "code",
   "execution_count": 9,
   "metadata": {
    "ExecuteTime": {
     "end_time": "2023-05-13T12:06:49.040781800Z",
     "start_time": "2023-05-13T12:06:48.987959100Z"
    }
   },
   "outputs": [],
   "source": [
    "# Convert clubs id and competitions id from list to string\n",
    "df = df.withColumn(\"competitions_id\", split(expr(\"substring(competitions_id, 2, length(competitions_id)-2)\"), \", \"))\n",
    "df = df.withColumn(\"clubs_id\", split(expr(\"substring(clubs_id, 2, length(clubs_id)-2)\"), \", \"))"
   ]
  },
  {
   "attachments": {},
   "cell_type": "markdown",
   "metadata": {},
   "source": [
    "**Encoding**\n",
    "\n",
    "We have to execute the label binarization for:\n",
    "- player_id (it will be divided by 100k)\n",
    "- date_c in timestamp\n",
    "- current_club_id\n",
    "- citizenship\n",
    "- position\n",
    "- sub_position\n",
    "- competitions_id\n",
    "- clubs_id"
   ]
  },
  {
   "cell_type": "code",
   "execution_count": 10,
   "metadata": {},
   "outputs": [],
   "source": [
    "#### PLAYER_ID ####\n",
    "\n",
    "# divided the column player_id for 100000\n",
    "df = df.withColumn(\"player_id\", df[\"player_id\"] / 100000)"
   ]
  },
  {
   "cell_type": "code",
   "execution_count": 11,
   "metadata": {},
   "outputs": [
    {
     "name": "stdout",
     "output_type": "stream",
     "text": [
      "+---------+-------------------+------------+------------------+-------------------+---+---------------+------+-----------+----------+------------------+--------------------+-----------+-------+-----+--------------+---------+------------+--------------+-----------+------------+-------------+-------------+---------------+-----------------+--------------+---------------+---------------+-----------------+\n",
      "|player_id|             date_v|market_value|              name|         date_birth|age|current_club_id|height|citizenship|  position|      sub_position|     competitions_id|   clubs_id|assists|goals|minutes_played|red_cards|yellow_cards|last_valuation|appearances|games_won_pl|games_draw_pl|games_lost_pl|winning_rate_pl|games_played_club|games_won_club|games_draw_club|games_lost_club|winning_rate_club|\n",
      "+---------+-------------------+------------+------------------+-------------------+---+---------------+------+-----------+----------+------------------+--------------------+-----------+-------+-----+--------------+---------+------------+--------------+-----------+------------+-------------+-------------+---------------+-----------------+--------------+---------------+---------------+-----------------+\n",
      "|   2.6E-4|2015-02-04 00:00:00|     3000000|Roman Weidenfeller|1980-08-06 00:00:00| 34|             16|   190|    Germany|Goalkeeper|        Goalkeeper|        ['CL', 'L1']|       [16]|      0|    0|          1620|        0|           0|             0|         18|           7|            3|            8|            1.3|               50|            26|              7|             17|              1.7|\n",
      "|   2.6E-4|2015-07-01 00:00:00|     2000000|Roman Weidenfeller|1980-08-06 00:00:00| 34|             16|   190|    Germany|Goalkeeper|        Goalkeeper|        ['CL', 'L1']|       [16]|      0|    0|          2880|        0|           0|       3000000|         32|          14|            5|           13|            1.5|               49|            23|              8|             18|              1.6|\n",
      "|   2.6E-4|2015-10-16 00:00:00|     1000000|Roman Weidenfeller|1980-08-06 00:00:00| 35|             16|   190|    Germany|Goalkeeper|        Goalkeeper|['CL', 'ELQ', 'L1...|       [16]|      0|    0|          2610|        0|           0|       2000000|         29|          14|            5|           10|            1.6|               54|            29|             10|             15|              1.8|\n",
      "|   2.6E-4|2016-02-15 00:00:00|     1000000|Roman Weidenfeller|1980-08-06 00:00:00| 35|             16|   190|    Germany|Goalkeeper|        Goalkeeper|['CL', 'ELQ', 'L1...|       [16]|      0|    0|          1800|        0|           0|       1000000|         20|          11|            3|            6|            1.8|               54|            36|              7|             11|              2.1|\n",
      "|   2.6E-4|2016-07-22 00:00:00|     1000000|Roman Weidenfeller|1980-08-06 00:00:00| 35|             16|   190|    Germany|Goalkeeper|        Goalkeeper| ['ELQ', 'L1', 'EL']|       [16]|      0|    0|          1260|        0|           1|       1000000|         14|           9|            2|            3|            2.1|               56|            40|              8|              8|              2.3|\n",
      "|   2.6E-4|2017-02-07 00:00:00|     1000000|Roman Weidenfeller|1980-08-06 00:00:00| 36|             16|   190|    Germany|Goalkeeper|        Goalkeeper|['CL', 'DFB', 'L1...|       [16]|      0|    0|          1470|        0|           1|       1000000|         16|           8|            6|            2|            1.9|               51|            31|             13|              7|              2.1|\n",
      "|   2.6E-4|2017-06-19 00:00:00|     1000000|Roman Weidenfeller|1980-08-06 00:00:00| 36|             16|   190|    Germany|Goalkeeper|        Goalkeeper| ['CL', 'DFB', 'L1']|       [16]|      0|    0|          1020|        0|           0|       1000000|         11|           5|            5|            1|            1.8|               51|            29|             12|             10|              1.9|\n",
      "|   2.6E-4|2017-12-28 00:00:00|      750000|Roman Weidenfeller|1980-08-06 00:00:00| 37|             16|   190|    Germany|Goalkeeper|        Goalkeeper|        ['CL', 'L1']|       [16]|      0|    0|           181|        0|           0|       1000000|          3|           1|            1|            1|            1.3|               53|            26|             10|             17|              1.7|\n",
      "|   6.5E-4|2015-01-14 00:00:00|     2500000|  Dimitar Berbatov|1981-01-30 00:00:00| 33|           1091|   182|   Bulgaria|    Attack|    Centre-Forward|       ['CL', 'FR1']|      [162]|      2|    5|          1336|        0|           4|             0|         18|           8|            5|            5|            1.6|               44|            23|             13|              8|              1.9|\n",
      "|   6.5E-4|2015-06-06 00:00:00|     1000000|  Dimitar Berbatov|1981-01-30 00:00:00| 34|           1091|   182|   Bulgaria|    Attack|    Centre-Forward|       ['CL', 'FR1']|      [162]|      2|    8|          2274|        0|           4|       2500000|         35|          15|           11|            9|            1.6|               48|            24|             14|             10|              1.8|\n",
      "|   6.5E-4|2015-09-27 00:00:00|     1000000|  Dimitar Berbatov|1981-01-30 00:00:00| 34|           1091|   182|   Bulgaria|    Attack|    Centre-Forward|['CL', 'FR1', 'EL...|[1091, 162]|      0|    6|          1627|        0|           1|       1000000|         29|          13|           11|            5|            1.7|              102|            50|             28|             24|              1.7|\n",
      "|   6.5E-4|2016-06-21 00:00:00|     1000000|  Dimitar Berbatov|1981-01-30 00:00:00| 35|           1091|   182|   Bulgaria|    Attack|    Centre-Forward|['GRP', 'EL', 'GR1']|     [1091]|      0|    5|          1150|        1|           2|       1000000|         22|           9|            8|            5|            1.6|               51|            20|             18|             13|              1.5|\n",
      "|  0.00597|2015-01-26 00:00:00|      900000|    Aleksandr Hleb|1981-05-01 00:00:00| 33|           2696|   185|    Belarus|    Attack|Attacking Midfield|             ['TR1']|     [2293]|      2|    0|          1157|        0|           1|             0|         14|           4|            4|            6|            1.1|               34|             9|             12|             13|              1.1|\n",
      "|  0.00597|2015-06-25 00:00:00|      750000|    Aleksandr Hleb|1981-05-01 00:00:00| 34|           2696|   185|    Belarus|    Attack|Attacking Midfield|             ['TR1']|[2293, 820]|      4|    2|          2021|        0|           1|        900000|         29|           9|            7|           13|            1.2|               68|            22|             20|             26|              1.3|\n",
      "|  0.00597|2015-09-15 00:00:00|      750000|    Aleksandr Hleb|1981-05-01 00:00:00| 34|           2696|   185|    Belarus|    Attack|Attacking Midfield|             ['TR1']|[2293, 820]|      4|    2|          1841|        0|           1|        750000|         27|           8|            7|           12|            1.1|               72|            23|             21|             28|              1.3|\n",
      "|  0.00597|2015-11-20 00:00:00|      500000|    Aleksandr Hleb|1981-05-01 00:00:00| 34|           2696|   185|    Belarus|    Attack|Attacking Midfield|             ['TR1']|[2293, 820]|      4|    2|          1286|        0|           0|        750000|         20|           7|            4|            9|            1.3|               72|            24|             21|             27|              1.3|\n",
      "|  0.00597|2016-04-07 00:00:00|      500000|    Aleksandr Hleb|1981-05-01 00:00:00| 34|           2696|   185|    Belarus|    Attack|Attacking Midfield|             ['TR1']|      [820]|      0|    1|          1075|        0|           0|        500000|         16|           7|            2|            7|            1.4|               35|            10|              7|             18|              1.1|\n",
      "|  0.00597|2016-07-15 00:00:00|      400000|    Aleksandr Hleb|1981-05-01 00:00:00| 35|           2696|   185|    Belarus|    Attack|Attacking Midfield|             ['TR1']|      [820]|      0|    0|           668|        0|           0|        500000|         12|           8|            1|            3|            2.1|               34|            13|              6|             15|              1.3|\n",
      "|  0.00597|2016-11-30 00:00:00|      300000|    Aleksandr Hleb|1981-05-01 00:00:00| 35|           2696|   185|    Belarus|    Attack|Attacking Midfield|             ['TR1']|      [820]|      0|    0|           668|        0|           0|        400000|         12|           8|            1|            3|            2.1|               33|            13|              8|             12|              1.4|\n",
      "|  0.00597|2017-06-01 00:00:00|      200000|    Aleksandr Hleb|1981-05-01 00:00:00| 36|           2696|   185|    Belarus|    Attack|Attacking Midfield|             ['RU1']|     [2696]|      0|    0|           347|        0|           0|        300000|          7|           1|            2|            4|            0.7|               32|             7|             10|             15|              1.0|\n",
      "+---------+-------------------+------------+------------------+-------------------+---+---------------+------+-----------+----------+------------------+--------------------+-----------+-------+-----+--------------+---------+------------+--------------+-----------+------------+-------------+-------------+---------------+-----------------+--------------+---------------+---------------+-----------------+\n",
      "only showing top 20 rows\n",
      "\n"
     ]
    }
   ],
   "source": [
    "df.show()"
   ]
  },
  {
   "cell_type": "code",
   "execution_count": 12,
   "metadata": {},
   "outputs": [],
   "source": [
    "#### CURRENT_CLUB_ID, CITIZENSHIP, POSITION, SUBPOSITION ####\n",
    "\n",
    "def binary_encoding(df, column):\n",
    "\n",
    "    # count the number of distinct values in the column\n",
    "    distinct_values = int(np.log2(df.select(column).distinct().count())) + 1\n",
    "\n",
    "    outputCol = column + \"_encoded\"\n",
    "    # Create the StringIndexer instance by specifying the input and output columns\n",
    "    indexer = StringIndexer(inputCol=column, outputCol=outputCol)\n",
    "    # Train the StringIndexer on the DataFrame\n",
    "    indexer_model = indexer.fit(df)\n",
    "    # Apply the transformation to the DataFrame\n",
    "    df = indexer_model.transform(df)\n",
    "    #df = df.withColumn(outputCol, df[outputCol])\n",
    "    # convert the column outputCol in integer\n",
    "    df = df.withColumn(outputCol, df[outputCol].cast(IntegerType()))\n",
    "    # convert the column outputCol in binary\n",
    "    df = df.withColumn(outputCol, expr(\"LPAD(CONV(\" + outputCol + \", 10, 2), \" + str(distinct_values) + \", '0')\"))\n",
    "\n",
    "    return df\n",
    "\n",
    "df = binary_encoding(df, \"current_club_id\")\n",
    "df = binary_encoding(df, \"citizenship\")\n",
    "df = binary_encoding(df, \"position\")\n",
    "df = binary_encoding(df, \"sub_position\")"
   ]
  },
  {
   "attachments": {},
   "cell_type": "markdown",
   "metadata": {},
   "source": [
    "We transform the column competitions id and clubs id, that are array of strings in a single binary value using label binarization."
   ]
  },
  {
   "cell_type": "code",
   "execution_count": 14,
   "metadata": {
    "ExecuteTime": {
     "end_time": "2023-05-13T12:06:55.750175700Z",
     "start_time": "2023-05-13T12:06:53.852516Z"
    }
   },
   "outputs": [
    {
     "name": "stderr",
     "output_type": "stream",
     "text": [
      "c:\\Users\\marco\\AppData\\Local\\Programs\\Python\\Python310\\lib\\site-packages\\pyspark\\sql\\pandas\\conversion.py:248: FutureWarning: Passing unit-less datetime64 dtype to .astype is deprecated and will raise in a future version. Pass 'datetime64[ns]' instead\n",
      "  series = series.astype(t, copy=False)\n",
      "c:\\Users\\marco\\AppData\\Local\\Programs\\Python\\Python310\\lib\\site-packages\\pyspark\\sql\\pandas\\conversion.py:248: FutureWarning: Passing unit-less datetime64 dtype to .astype is deprecated and will raise in a future version. Pass 'datetime64[ns]' instead\n",
      "  series = series.astype(t, copy=False)\n"
     ]
    }
   ],
   "source": [
    "# convert df in pandas dataframe\n",
    "df_pandas = df.toPandas()"
   ]
  },
  {
   "cell_type": "code",
   "execution_count": 15,
   "metadata": {
    "ExecuteTime": {
     "end_time": "2023-05-13T12:07:50.863643700Z",
     "start_time": "2023-05-13T12:07:39.918186800Z"
    },
    "collapsed": false
   },
   "outputs": [
    {
     "name": "stderr",
     "output_type": "stream",
     "text": [
      "C:\\Users\\marco\\AppData\\Local\\Temp\\ipykernel_5184\\1573311546.py:2: FutureWarning: Using the level keyword in DataFrame and Series aggregations is deprecated and will be removed in a future version. Use groupby instead. df.sum(level=1) should use df.groupby(level=1).sum().\n",
      "  dummies = pd.get_dummies(df_pandas[\"competitions_id\"].apply(pd.Series).stack()).sum(level=0)\n"
     ]
    }
   ],
   "source": [
    "# apply pd.get_dummies to the column of arrays\n",
    "dummies = pd.get_dummies(df_pandas[\"competitions_id\"].apply(pd.Series).stack()).sum(level=0)\n",
    "# concatenate the dummy variables into a single string\n",
    "dummies[\"comp_string\"] = dummies.apply(lambda x: \"\".join(x.astype(str)), axis=1)\n",
    "# join the dummies dataframe with the original dataframe\n",
    "df_pandas = df_pandas.join(dummies[\"comp_string\"])\n",
    "#df_pandas = df_pandas.drop(\"competitions_id\")"
   ]
  },
  {
   "cell_type": "code",
   "execution_count": 16,
   "metadata": {
    "ExecuteTime": {
     "end_time": "2023-05-13T12:08:10.993249900Z",
     "start_time": "2023-05-13T12:07:50.864639200Z"
    },
    "collapsed": false
   },
   "outputs": [
    {
     "name": "stderr",
     "output_type": "stream",
     "text": [
      "C:\\Users\\marco\\AppData\\Local\\Temp\\ipykernel_5184\\1659577897.py:2: FutureWarning: Using the level keyword in DataFrame and Series aggregations is deprecated and will be removed in a future version. Use groupby instead. df.sum(level=1) should use df.groupby(level=1).sum().\n",
      "  dummies = pd.get_dummies(df_pandas[\"clubs_id\"].apply(pd.Series).stack()).sum(level=0)\n"
     ]
    }
   ],
   "source": [
    "# apply pd.get_dummies to the column of arrays\n",
    "dummies = pd.get_dummies(df_pandas[\"clubs_id\"].apply(pd.Series).stack()).sum(level=0)\n",
    "# concatenate the dummy variables into a single string\n",
    "dummies[\"club_string\"] = dummies.apply(lambda x: \"\".join(x.astype(str)), axis=1)\n",
    "# join the dummies dataframe with the original dataframe\n",
    "df_pandas = df_pandas.join(dummies[\"club_string\"])\n",
    "#df_pandas = df_pandas.drop(\"club_str\")"
   ]
  },
  {
   "cell_type": "code",
   "execution_count": 17,
   "metadata": {
    "ExecuteTime": {
     "end_time": "2023-05-13T12:08:11.056054300Z",
     "start_time": "2023-05-13T12:08:10.994248200Z"
    },
    "collapsed": false
   },
   "outputs": [],
   "source": [
    "df_pandas = df_pandas.drop([\"name\", \"date_birth\", \"games_played_club\", \"games_won_club\", \"games_draw_club\", \"games_lost_club\", \"competitions_id\", \"clubs_id\"], axis=1)"
   ]
  },
  {
   "cell_type": "code",
   "execution_count": 20,
   "metadata": {},
   "outputs": [],
   "source": [
    "df_pandas = df_pandas.drop([\"citizenship\", \"current_club_id\", \"position\", \"sub_position\"], axis=1)"
   ]
  },
  {
   "cell_type": "code",
   "execution_count": 21,
   "metadata": {},
   "outputs": [
    {
     "name": "stdout",
     "output_type": "stream",
     "text": [
      "<class 'pandas.core.frame.DataFrame'>\n",
      "RangeIndex: 135878 entries, 0 to 135877\n",
      "Data columns (total 23 columns):\n",
      " #   Column                   Non-Null Count   Dtype         \n",
      "---  ------                   --------------   -----         \n",
      " 0   player_id                135878 non-null  float64       \n",
      " 1   date_v                   135878 non-null  datetime64[ns]\n",
      " 2   market_value             135878 non-null  int32         \n",
      " 3   age                      135878 non-null  int32         \n",
      " 4   height                   135878 non-null  int32         \n",
      " 5   assists                  135878 non-null  int32         \n",
      " 6   goals                    135878 non-null  int32         \n",
      " 7   minutes_played           135878 non-null  int32         \n",
      " 8   red_cards                135878 non-null  int32         \n",
      " 9   yellow_cards             135878 non-null  int32         \n",
      " 10  last_valuation           135878 non-null  int32         \n",
      " 11  appearances              135878 non-null  int32         \n",
      " 12  games_won_pl             135878 non-null  int32         \n",
      " 13  games_draw_pl            135878 non-null  int32         \n",
      " 14  games_lost_pl            135878 non-null  int32         \n",
      " 15  winning_rate_pl          135878 non-null  float64       \n",
      " 16  winning_rate_club        135878 non-null  float64       \n",
      " 17  current_club_id_encoded  135878 non-null  object        \n",
      " 18  citizenship_encoded      135878 non-null  object        \n",
      " 19  position_encoded         135878 non-null  object        \n",
      " 20  sub_position_encoded     135878 non-null  object        \n",
      " 21  comp_string              135878 non-null  object        \n",
      " 22  club_string              135878 non-null  object        \n",
      "dtypes: datetime64[ns](1), float64(3), int32(13), object(6)\n",
      "memory usage: 17.1+ MB\n"
     ]
    }
   ],
   "source": [
    "df_pandas.info()"
   ]
  },
  {
   "cell_type": "code",
   "execution_count": 19,
   "metadata": {},
   "outputs": [
    {
     "data": {
      "text/html": [
       "<div>\n",
       "<style scoped>\n",
       "    .dataframe tbody tr th:only-of-type {\n",
       "        vertical-align: middle;\n",
       "    }\n",
       "\n",
       "    .dataframe tbody tr th {\n",
       "        vertical-align: top;\n",
       "    }\n",
       "\n",
       "    .dataframe thead th {\n",
       "        text-align: right;\n",
       "    }\n",
       "</style>\n",
       "<table border=\"1\" class=\"dataframe\">\n",
       "  <thead>\n",
       "    <tr style=\"text-align: right;\">\n",
       "      <th></th>\n",
       "      <th>player_id</th>\n",
       "      <th>date_v</th>\n",
       "      <th>market_value</th>\n",
       "      <th>age</th>\n",
       "      <th>current_club_id</th>\n",
       "      <th>height</th>\n",
       "      <th>citizenship</th>\n",
       "      <th>position</th>\n",
       "      <th>sub_position</th>\n",
       "      <th>assists</th>\n",
       "      <th>...</th>\n",
       "      <th>games_draw_pl</th>\n",
       "      <th>games_lost_pl</th>\n",
       "      <th>winning_rate_pl</th>\n",
       "      <th>winning_rate_club</th>\n",
       "      <th>current_club_id_encoded</th>\n",
       "      <th>citizenship_encoded</th>\n",
       "      <th>position_encoded</th>\n",
       "      <th>sub_position_encoded</th>\n",
       "      <th>comp_string</th>\n",
       "      <th>club_string</th>\n",
       "    </tr>\n",
       "  </thead>\n",
       "  <tbody>\n",
       "    <tr>\n",
       "      <th>0</th>\n",
       "      <td>0.00026</td>\n",
       "      <td>2015-02-04</td>\n",
       "      <td>3000000</td>\n",
       "      <td>34</td>\n",
       "      <td>16</td>\n",
       "      <td>190</td>\n",
       "      <td>Germany</td>\n",
       "      <td>Goalkeeper</td>\n",
       "      <td>Goalkeeper</td>\n",
       "      <td>0</td>\n",
       "      <td>...</td>\n",
       "      <td>3</td>\n",
       "      <td>8</td>\n",
       "      <td>1.3</td>\n",
       "      <td>1.7</td>\n",
       "      <td>001000111</td>\n",
       "      <td>00000101</td>\n",
       "      <td>011</td>\n",
       "      <td>00100</td>\n",
       "      <td>0000010000000000000000001000000000000000000</td>\n",
       "      <td>0000000000000000000000000000000000000000000000...</td>\n",
       "    </tr>\n",
       "    <tr>\n",
       "      <th>1</th>\n",
       "      <td>0.00026</td>\n",
       "      <td>2015-07-01</td>\n",
       "      <td>2000000</td>\n",
       "      <td>34</td>\n",
       "      <td>16</td>\n",
       "      <td>190</td>\n",
       "      <td>Germany</td>\n",
       "      <td>Goalkeeper</td>\n",
       "      <td>Goalkeeper</td>\n",
       "      <td>0</td>\n",
       "      <td>...</td>\n",
       "      <td>5</td>\n",
       "      <td>13</td>\n",
       "      <td>1.5</td>\n",
       "      <td>1.6</td>\n",
       "      <td>001000111</td>\n",
       "      <td>00000101</td>\n",
       "      <td>011</td>\n",
       "      <td>00100</td>\n",
       "      <td>0000010000000000000000001000000000000000000</td>\n",
       "      <td>0000000000000000000000000000000000000000000000...</td>\n",
       "    </tr>\n",
       "    <tr>\n",
       "      <th>2</th>\n",
       "      <td>0.00026</td>\n",
       "      <td>2015-10-16</td>\n",
       "      <td>1000000</td>\n",
       "      <td>35</td>\n",
       "      <td>16</td>\n",
       "      <td>190</td>\n",
       "      <td>Germany</td>\n",
       "      <td>Goalkeeper</td>\n",
       "      <td>Goalkeeper</td>\n",
       "      <td>0</td>\n",
       "      <td>...</td>\n",
       "      <td>5</td>\n",
       "      <td>10</td>\n",
       "      <td>1.6</td>\n",
       "      <td>1.8</td>\n",
       "      <td>001000111</td>\n",
       "      <td>00000101</td>\n",
       "      <td>011</td>\n",
       "      <td>00100</td>\n",
       "      <td>0000010000001100000000001000000000000000000</td>\n",
       "      <td>0000000000000000000000000000000000000000000000...</td>\n",
       "    </tr>\n",
       "    <tr>\n",
       "      <th>3</th>\n",
       "      <td>0.00026</td>\n",
       "      <td>2016-02-15</td>\n",
       "      <td>1000000</td>\n",
       "      <td>35</td>\n",
       "      <td>16</td>\n",
       "      <td>190</td>\n",
       "      <td>Germany</td>\n",
       "      <td>Goalkeeper</td>\n",
       "      <td>Goalkeeper</td>\n",
       "      <td>0</td>\n",
       "      <td>...</td>\n",
       "      <td>3</td>\n",
       "      <td>6</td>\n",
       "      <td>1.8</td>\n",
       "      <td>2.1</td>\n",
       "      <td>001000111</td>\n",
       "      <td>00000101</td>\n",
       "      <td>011</td>\n",
       "      <td>00100</td>\n",
       "      <td>0000010000001100000000001000000000000000000</td>\n",
       "      <td>0000000000000000000000000000000000000000000000...</td>\n",
       "    </tr>\n",
       "    <tr>\n",
       "      <th>4</th>\n",
       "      <td>0.00026</td>\n",
       "      <td>2016-07-22</td>\n",
       "      <td>1000000</td>\n",
       "      <td>35</td>\n",
       "      <td>16</td>\n",
       "      <td>190</td>\n",
       "      <td>Germany</td>\n",
       "      <td>Goalkeeper</td>\n",
       "      <td>Goalkeeper</td>\n",
       "      <td>0</td>\n",
       "      <td>...</td>\n",
       "      <td>2</td>\n",
       "      <td>3</td>\n",
       "      <td>2.1</td>\n",
       "      <td>2.3</td>\n",
       "      <td>001000111</td>\n",
       "      <td>00000101</td>\n",
       "      <td>011</td>\n",
       "      <td>00100</td>\n",
       "      <td>0000000000001100000000001000000000000000000</td>\n",
       "      <td>0000000000000000000000000000000000000000000000...</td>\n",
       "    </tr>\n",
       "  </tbody>\n",
       "</table>\n",
       "<p>5 rows × 27 columns</p>\n",
       "</div>"
      ],
      "text/plain": [
       "   player_id     date_v  market_value  age  current_club_id  height  \\\n",
       "0    0.00026 2015-02-04       3000000   34               16     190   \n",
       "1    0.00026 2015-07-01       2000000   34               16     190   \n",
       "2    0.00026 2015-10-16       1000000   35               16     190   \n",
       "3    0.00026 2016-02-15       1000000   35               16     190   \n",
       "4    0.00026 2016-07-22       1000000   35               16     190   \n",
       "\n",
       "  citizenship    position sub_position  assists  ...  games_draw_pl  \\\n",
       "0     Germany  Goalkeeper   Goalkeeper        0  ...              3   \n",
       "1     Germany  Goalkeeper   Goalkeeper        0  ...              5   \n",
       "2     Germany  Goalkeeper   Goalkeeper        0  ...              5   \n",
       "3     Germany  Goalkeeper   Goalkeeper        0  ...              3   \n",
       "4     Germany  Goalkeeper   Goalkeeper        0  ...              2   \n",
       "\n",
       "   games_lost_pl  winning_rate_pl  winning_rate_club  current_club_id_encoded  \\\n",
       "0              8              1.3                1.7                001000111   \n",
       "1             13              1.5                1.6                001000111   \n",
       "2             10              1.6                1.8                001000111   \n",
       "3              6              1.8                2.1                001000111   \n",
       "4              3              2.1                2.3                001000111   \n",
       "\n",
       "   citizenship_encoded  position_encoded  sub_position_encoded  \\\n",
       "0             00000101               011                 00100   \n",
       "1             00000101               011                 00100   \n",
       "2             00000101               011                 00100   \n",
       "3             00000101               011                 00100   \n",
       "4             00000101               011                 00100   \n",
       "\n",
       "                                   comp_string  \\\n",
       "0  0000010000000000000000001000000000000000000   \n",
       "1  0000010000000000000000001000000000000000000   \n",
       "2  0000010000001100000000001000000000000000000   \n",
       "3  0000010000001100000000001000000000000000000   \n",
       "4  0000000000001100000000001000000000000000000   \n",
       "\n",
       "                                         club_string  \n",
       "0  0000000000000000000000000000000000000000000000...  \n",
       "1  0000000000000000000000000000000000000000000000...  \n",
       "2  0000000000000000000000000000000000000000000000...  \n",
       "3  0000000000000000000000000000000000000000000000...  \n",
       "4  0000000000000000000000000000000000000000000000...  \n",
       "\n",
       "[5 rows x 27 columns]"
      ]
     },
     "execution_count": 19,
     "metadata": {},
     "output_type": "execute_result"
    }
   ],
   "source": [
    "df_pandas.head()"
   ]
  },
  {
   "cell_type": "code",
   "execution_count": 23,
   "metadata": {},
   "outputs": [],
   "source": [
    "column_rename = {'current_club_id_encoded': 'current_club_id_binary', 'citizenship_encoded': 'citizenship_encoded_binary', 'position_encoded': 'position_binary',\n",
    "                  'sub_position_encoded': 'sub_position_binary', 'comp_string': 'competitions_id_binary', 'club_string': 'clubs_id_binary'}\n",
    "\n",
    "df_pandas = df_pandas.rename(columns=column_rename)"
   ]
  },
  {
   "cell_type": "code",
   "execution_count": 24,
   "metadata": {},
   "outputs": [],
   "source": [
    "df_pandas.to_csv('dataset.csv', sep=',', encoding='utf-8', index=False)"
   ]
  }
 ],
 "metadata": {
  "kernelspec": {
   "display_name": "Python 3",
   "language": "python",
   "name": "python3"
  },
  "language_info": {
   "codemirror_mode": {
    "name": "ipython",
    "version": 3
   },
   "file_extension": ".py",
   "mimetype": "text/x-python",
   "name": "python",
   "nbconvert_exporter": "python",
   "pygments_lexer": "ipython3",
   "version": "3.10.9"
  }
 },
 "nbformat": 4,
 "nbformat_minor": 0
}
